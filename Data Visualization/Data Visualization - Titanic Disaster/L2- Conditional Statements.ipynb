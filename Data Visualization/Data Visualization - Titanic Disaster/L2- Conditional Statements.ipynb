{
 "cells": [
  {
   "cell_type": "markdown",
   "id": "3a10df7a",
   "metadata": {
    "id": "3a10df7a"
   },
   "source": [
    "# Conditional Statements\n",
    "- Write solution of each question in the cell given below the corresponsing question."
   ]
  },
  {
   "cell_type": "markdown",
   "id": "60c2d89a",
   "metadata": {
    "id": "60c2d89a"
   },
   "source": [
    "#### 1. Take a list of numbers as input. Print whether the average is even or odd."
   ]
  },
  {
   "cell_type": "code",
   "execution_count": 7,
   "id": "Fh5bSu8vCRWU",
   "metadata": {
    "id": "Fh5bSu8vCRWU"
   },
   "outputs": [
    {
     "name": "stdout",
     "output_type": "stream",
     "text": [
      "Enter list of numbers: 1 2 3 4 5 6 7 8\n",
      "Average of the given list is odd.\n"
     ]
    }
   ],
   "source": [
    "# Get user input for a list of numbers, convert them to integers, and create a list\n",
    "num = list(map(int, input(\"Enter list of numbers: \").split()))\n",
    "\n",
    "# Calculate the average of the numbers\n",
    "average = sum(num) / len(num)\n",
    "\n",
    "# Check if the average is even or odd and print the result\n",
    "if average % 2 == 0:\n",
    "    print(\"Average of the given list is even.\")\n",
    "else:\n",
    "    print(\"Average of the given list is odd.\")"
   ]
  },
  {
   "cell_type": "markdown",
   "id": "4846bb19",
   "metadata": {
    "id": "4846bb19"
   },
   "source": [
    "#### 2. Take three strings as input. Calculate the number of words in each string and find out the list having highest number of words."
   ]
  },
  {
   "cell_type": "code",
   "execution_count": 13,
   "id": "pfGpZ9okCTfV",
   "metadata": {
    "id": "pfGpZ9okCTfV"
   },
   "outputs": [
    {
     "name": "stdout",
     "output_type": "stream",
     "text": [
      "Enter first string here: Man was born, but he knew not when, for he was busy cutting woods and wandering what all that was. In a blink, he built buildings, for he wanted\n",
      "Enter second string here: Ever since my father died my mother has been locked in their room, talking to herself. It was so lovely to hear her laughter\n",
      "Enter third string here: Millions of people showed up to see the famous ice cubes on the day ICEVRE, the ice museum, opened up\n",
      "\n",
      "Number of words in the first string is 29\n",
      "Number of words in the second string is 24\n",
      "Number of words in the third string is 20\n",
      "\n",
      "First string has the highest number of words with 29\n"
     ]
    }
   ],
   "source": [
    "# Get user input for three strings and split them into lists of words\n",
    "string_1 = input(\"Enter first string here: \").split()\n",
    "string_2 = input(\"Enter second string here: \").split()\n",
    "string_3 = input(\"Enter third string here: \").split()\n",
    "\n",
    "# Calculate the number of words in each string\n",
    "num_1 = len(string_1)\n",
    "num_2 = len(string_2)\n",
    "num_3 = len(string_3)\n",
    "\n",
    "# Print the number of words in each string\n",
    "print(\"\\nNumber of words in the first string is {}\".format(num_1))\n",
    "print(\"Number of words in the second string is {}\".format(num_2))\n",
    "print(\"Number of words in the third string is {}\".format(num_3))\n",
    "\n",
    "# Determine and print the string with the highest number of words\n",
    "if num_1 > num_2 and num_1 > num_3:\n",
    "    print(\"\\nFirst string has the highest number of words with {}\".format(num_1))\n",
    "elif num_2 > num_3:\n",
    "    print(\"\\nSecond string has the highest number of words with {} words\".format(num_2))\n",
    "else:\n",
    "    print(\"\\nThird string has the highest number of words with {} words\".format(num_3))"
   ]
  },
  {
   "cell_type": "markdown",
   "id": "0e0d8196",
   "metadata": {
    "id": "0e0d8196"
   },
   "source": [
    "#### 3. Take four numbers as input in a single line. Find out the largest number."
   ]
  },
  {
   "cell_type": "code",
   "execution_count": 17,
   "id": "Fc_7ETl1CVMu",
   "metadata": {
    "id": "Fc_7ETl1CVMu"
   },
   "outputs": [
    {
     "name": "stdout",
     "output_type": "stream",
     "text": [
      "Enter four numbers separated by space: 23 43 11 25\n",
      "\n",
      "Max of the given numbers is 43\n"
     ]
    }
   ],
   "source": [
    "# Get user input for four numbers, convert them to integers, and create a list\n",
    "num = list(map(int, input(\"Enter four numbers separated by space: \").split()))\n",
    "\n",
    "# Find the largest number using the max() function\n",
    "max_num = max(num)\n",
    "\n",
    "# Print the result\n",
    "print(\"\\nMax of the given numbers is {}\".format(max_num))"
   ]
  },
  {
   "cell_type": "markdown",
   "id": "16c0440a",
   "metadata": {
    "id": "16c0440a"
   },
   "source": [
    "#### 4. Take four numbers as input and find the second largest numer."
   ]
  },
  {
   "cell_type": "code",
   "execution_count": 22,
   "id": "RuBQfFAHWAlL",
   "metadata": {
    "id": "RuBQfFAHWAlL"
   },
   "outputs": [
    {
     "name": "stdout",
     "output_type": "stream",
     "text": [
      "Enter list of numbers separated by space: 7 3 9 3 6 4 19 46 38 44 6 3 28\n",
      "Second largest number is 44\n"
     ]
    }
   ],
   "source": [
    "# Get user input for a list of numbers, convert them to integers, and create a list\n",
    "num = list(map(int, input(\"Enter list of numbers separated by space: \").split()))\n",
    "\n",
    "# Sort the list in ascending order\n",
    "num = sorted(num)\n",
    "\n",
    "# Print the second-largest number\n",
    "print(\"Second largest number is {}\".format(num[-2]))"
   ]
  },
  {
   "cell_type": "markdown",
   "id": "2f6641a4",
   "metadata": {
    "id": "2f6641a4"
   },
   "source": [
    "#### 5. Create a dictionary having three items. Key of each item is the name of a student, value associated with each key is a list of marks in five subjects. Given this dictionary print the top and lowest scorers."
   ]
  },
  {
   "cell_type": "code",
   "execution_count": 59,
   "id": "R5C1C61OYuls",
   "metadata": {
    "id": "R5C1C61OYuls"
   },
   "outputs": [
    {
     "name": "stdout",
     "output_type": "stream",
     "text": [
      "Tom secured the highest total score of 388\n",
      "Jon secured the lowest total score of 329\n"
     ]
    }
   ],
   "source": [
    "# Given dictionary with students' names as keys and their marks in five subjects as values\n",
    "students = {'Tom': [89, 98, 45, 67, 89], 'Jon': [92, 41, 43, 66, 87], 'Bob': [67, 53, 89, 89, 34]}\n",
    "\n",
    "# Calculate the total score for each student and store it in a new dictionary\n",
    "total = {}\n",
    "for k, v in students.items():\n",
    "    total[k] = sum(v)\n",
    "\n",
    "# Find the maximum and minimum total scores\n",
    "max_score = max(total.values())\n",
    "low_score = min(total.values())\n",
    "\n",
    "# Iterate through the total dictionary to identify and print the highest and lowest scorers\n",
    "for k, v in total.items():\n",
    "    if v == max_score:\n",
    "        print(\"{} secured the highest total score of {}\".format(k, v))\n",
    "    elif v == low_score:\n",
    "        print(\"{} secured the lowest total score of {}\".format(k, v))"
   ]
  },
  {
   "cell_type": "markdown",
   "id": "64db0791",
   "metadata": {
    "id": "64db0791"
   },
   "source": [
    "#### 6. Create a dictionary (called data) of having at least 5 items : Usernames as keys and Passwords as values. Write a program that takes a username and a password as input. If the credentials match any iteam in the given dictionary data then print acces granted otherwise print whether username, password or both are wrong."
   ]
  },
  {
   "cell_type": "code",
   "execution_count": 68,
   "id": "WtqLAvhiazaM",
   "metadata": {
    "id": "WtqLAvhiazaM"
   },
   "outputs": [
    {
     "name": "stdout",
     "output_type": "stream",
     "text": [
      "Enter your username here: Tom\n",
      "Enter your password here: 7348\n",
      "Password is incorrect\n"
     ]
    }
   ],
   "source": [
    "# Given dictionary of usernames and passwords\n",
    "data = {'Tom': '12345', 'Job': '23456', 'Tammy': '34567', 'Jonny': '45678', 'Sam': '56789', 'Jack': '67890'}\n",
    "\n",
    "# Take user input for username and password\n",
    "user_name = input(\"Enter your username here: \")\n",
    "password = input(\"Enter your password here: \")\n",
    "\n",
    "# Check if the provided credentials match any items in the dictionary\n",
    "if user_name in data and data[user_name] == password:\n",
    "    print(\"Access granted\")\n",
    "else:\n",
    "    # Check specific conditions for incorrect username or password\n",
    "    if user_name in data and data[user_name] != password:\n",
    "        print(\"Password is incorrect\")\n",
    "    elif user_name not in data:\n",
    "        print(\"Username is incorrect\")\n",
    "    else:\n",
    "        print(\"Both username and password are incorrect\")"
   ]
  },
  {
   "cell_type": "markdown",
   "id": "27c56bb8",
   "metadata": {
    "id": "27c56bb8"
   },
   "source": [
    "#### 7. Take a list as input in a single line containing 15 numbers as marks out of 100. The first five numbers in the list are marks of Tom, the middle 5 numbers are marks of Bob and the last 5 are the marks of Jon. Find out the top and lowest scorer."
   ]
  },
  {
   "cell_type": "code",
   "execution_count": 77,
   "id": "ah156U4T9iat",
   "metadata": {
    "id": "ah156U4T9iat"
   },
   "outputs": [
    {
     "name": "stdout",
     "output_type": "stream",
     "text": [
      "Enter all marks here: 23 57 10 42 68 91 35 4 78 29 62 88 50 12 95\n",
      "Tom is the lowest scorer with 200\n",
      "Jon is the top scorer with 307\n"
     ]
    }
   ],
   "source": [
    "# Take a list of 15 marks as input\n",
    "mark = list(map(int, input(\"Enter all marks here: \").split()))\n",
    "\n",
    "# Calculate total marks for Tom, Bob, and Jon\n",
    "Tom_total = sum(mark[:5])\n",
    "Bob_total = sum(mark[5:10])\n",
    "Jon_total = sum(mark[10:15])\n",
    "\n",
    "# Create a dictionary with names as keys and total marks as values\n",
    "total = {\"Tom\": Tom_total, \"Bob\": Bob_total, \"Jon\": Jon_total}\n",
    "\n",
    "# Find the maximum and minimum total scores\n",
    "max_score = max(total.values())\n",
    "min_score = min(total.values())\n",
    "\n",
    "# Iterate through the dictionary to identify and print the top and lowest scorers\n",
    "for k, v in total.items():\n",
    "    if v == max_score:\n",
    "        print(\"{} is the top scorer with {}\".format(k, v))\n",
    "    elif v == min_score:\n",
    "        print(\"{} is the lowest scorer with {}\".format(k, v))\n"
   ]
  },
  {
   "cell_type": "markdown",
   "id": "20f59542",
   "metadata": {
    "id": "20f59542"
   },
   "source": [
    "#### 8. Take a number as input and print whether the number is a multiple of 3,5 or both."
   ]
  },
  {
   "cell_type": "code",
   "execution_count": 80,
   "id": "otWg3MXaYing",
   "metadata": {
    "id": "otWg3MXaYing"
   },
   "outputs": [
    {
     "name": "stdout",
     "output_type": "stream",
     "text": [
      "Enter a number here21\n",
      "21 is divisible by 3 only\n"
     ]
    }
   ],
   "source": [
    "num = int(input(\"Enter a number here\"))\n",
    "\n",
    "if num%3==0 and num%5==0:\n",
    "    print(\"{} is divisible with both 3 and 5\".format(num))\n",
    "elif num%3==0:\n",
    "    print(\"{} is divisible by 3 only\".format(num))\n",
    "elif num%5 == 0:\n",
    "    print(\"{} is divisible by 5 only\".format(num))\n",
    "else:\n",
    "    print(\"{} is not divisible with both 3 and 5\".format(num))"
   ]
  },
  {
   "cell_type": "markdown",
   "id": "b770e791",
   "metadata": {
    "id": "b770e791"
   },
   "source": [
    "#### 9. Write a program to take three strings as input and print the string having second largest number of words."
   ]
  },
  {
   "cell_type": "code",
   "execution_count": 116,
   "id": "BIaLOJ6eEvGO",
   "metadata": {
    "id": "BIaLOJ6eEvGO"
   },
   "outputs": [
    {
     "name": "stdout",
     "output_type": "stream",
     "text": [
      "Enter the first string: In a quiet forest, Mia discovered a shimmering acorn. Curiosity led her to plant it, and soon, a magical tree appeared. Its leaves granted wishes, but only to those with pure hearts. Mia's selfless wish brought joy to the entire forest.\n",
      "Enter the second string: Sammy, a tiny snail, dreamed of reaching the mountaintop. Despite challenges, Sammy persisted, learning resilience and courage. At the summit, a breathtaking view awaited, proving that even the smallest creatures can achieve big dreams.\n",
      "Enter the third string: In an alley, Lucy found a lost kitten named Whiskers. Together, they navigated bustling streets, meeting kind strangers. In the end, they located Whiskers' home, and Lucy discovered the power of compassion in unexpected places.\n",
      "\n",
      "String having the second-largest number of words: In an alley, Lucy found a lost kitten named Whiskers. Together, they navigated bustling streets, meeting kind strangers. In the end, they located Whiskers' home, and Lucy discovered the power of compassion in unexpected places.\n"
     ]
    }
   ],
   "source": [
    "# Take input for all three strings and split each into a list of words\n",
    "string_1 = input(\"Enter the first string: \").split()\n",
    "string_2 = input(\"Enter the second string: \").split()\n",
    "string_3 = input(\"Enter the third string: \").split()\n",
    "\n",
    "# Create a list of strings containing the input strings\n",
    "all_strings = [string_1, string_2, string_3]\n",
    "\n",
    "# Sort the list based on the number of words in each string\n",
    "sorted_strings = sorted(all_strings, key=lambda x: len(x))\n",
    "\n",
    "# Join the words of the second-largest string into a single string\n",
    "second_largest_string = \" \".join(sorted_strings[1])\n",
    "\n",
    "# Print the result indicating the string with the second-largest number of words\n",
    "print(\"\\nString having the second-largest number of words: {}\".format(second_largest_string))\n"
   ]
  },
  {
   "cell_type": "markdown",
   "id": "5a485c8c",
   "metadata": {
    "id": "5a485c8c"
   },
   "source": [
    "#### 10. Write a program to take four strings as input and print the string having third highest number of words."
   ]
  },
  {
   "cell_type": "code",
   "execution_count": 121,
   "id": "19Wx8OZqk3UQ",
   "metadata": {
    "id": "19Wx8OZqk3UQ"
   },
   "outputs": [
    {
     "name": "stdout",
     "output_type": "stream",
     "text": [
      "Enter first string here : Oliver stumbled upon a mysterious watch that transported him to different eras. Each journey taught him valuable lessons about history, culture, and the importance of cherishing the present moment.\n",
      "Enter second string here : Luna, a young witch, lost her precious moonstone. She embarked on a magical quest, encountering mythical creatures and solving riddles. Along the way, Luna discovered that true magic lies within oneself.\n",
      "Enter third string here : In a magical meadow, a lonely willow tree granted wishes to those who spoke their desires. Sarah, a curious girl, made a heartfelt wish, and the willow's rustling leaves assured her that dreams do come true in the most unexpected ways.\n",
      "Enter forth string here : Emily, an aspiring artist, discovered a magical palette that brought her paintings to life. As her creations leaped off the canvas, Emily learned about the responsibility that comes with the power of imagination and the beauty of sharing one's creativity with others.\n",
      "\n",
      "String having third highest number of words : In a magical meadow, a lonely willow tree granted wishes to those who spoke their desires. Sarah, a curious girl, made a heartfelt wish, and the willow's rustling leaves assured her that dreams do come true in the most unexpected ways.\n"
     ]
    }
   ],
   "source": [
    "# Take input for four strings\n",
    "str1 = input(\"Enter first string here : \")\n",
    "str2 = input(\"Enter second string here : \")\n",
    "str3 = input(\"Enter third string here : \")\n",
    "str4 = input(\"Enter forth string here : \")\n",
    "\n",
    "# Create a list of strings\n",
    "all_str = [str1, str2, str3, str4]\n",
    "\n",
    "# Sort the list based on the number of words in each string\n",
    "sort_str = sorted(all_str, key=lambda x: len(x.split()))\n",
    "\n",
    "# Print the string having the third-highest number of words\n",
    "print(\"\\nString having third highest number of words : {}\".format(sort_str[2]))\n"
   ]
  }
 ],
 "metadata": {
  "colab": {
   "provenance": []
  },
  "kernelspec": {
   "display_name": "Python 3 (ipykernel)",
   "language": "python",
   "name": "python3"
  },
  "language_info": {
   "codemirror_mode": {
    "name": "ipython",
    "version": 3
   },
   "file_extension": ".py",
   "mimetype": "text/x-python",
   "name": "python",
   "nbconvert_exporter": "python",
   "pygments_lexer": "ipython3",
   "version": "3.11.4"
  }
 },
 "nbformat": 4,
 "nbformat_minor": 5
}
