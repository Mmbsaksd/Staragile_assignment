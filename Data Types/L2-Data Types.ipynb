{
 "cells": [
  {
   "cell_type": "markdown",
   "id": "5fad3b2a",
   "metadata": {
    "id": "5fad3b2a"
   },
   "source": [
    "# Assessment - 2 Gradable\n",
    "\n",
    "- Each question carries 3 marks\n",
    "- Marks will be assigned in terms of:\n",
    "    \n",
    "    **1. Expected output**\n",
    "    \n",
    "    **2. Quality and Explainability of code**\n",
    "\n",
    "    ***Go back through the script and type a comment above each line explaining in English what it does.***\n",
    "\n",
    "    **3. Copied code, if found, will result in 0 marks for that question. To avoid this make as much comments in the code to explain the approach**"
   ]
  },
  {
   "cell_type": "markdown",
   "id": "03363a58",
   "metadata": {
    "id": "03363a58"
   },
   "source": [
    "### 1.\n",
    "\n",
    "Write a Python program to perform following tasks on a list\n",
    "\n",
    "<ol>\n",
    "    <li>Create an empty list with name l1</li>\n",
    "    <li>Add atleast 5 number to the l1</li>\n",
    "    <li>Add 100 at 2<sup>nd</sup> position</li>\n",
    "    <li>Add 1000 at front of the l1</li>\n",
    "    <li>Delete element at 3<sup>rd</sup> position</li>\n",
    "    <li>Display elements at even position</li>\n",
    "    <li>Display elements in reverse order</li>\n",
    "</ol>"
   ]
  },
  {
   "cell_type": "code",
   "execution_count": 15,
   "id": "73d7418b",
   "metadata": {
    "id": "73d7418b"
   },
   "outputs": [
    {
     "name": "stdout",
     "output_type": "stream",
     "text": [
      "[1, 3, 5]\n",
      "[5, 4, 3, 100, 1, 1000]\n"
     ]
    }
   ],
   "source": [
    "#Create an empty list with name l1\n",
    "l1 = []\n",
    "\n",
    "#Add atleast 5 number to the l1\n",
    "l1.extend([1,2,3,4,5])\n",
    "\n",
    "#Add 100 at 2nd position\n",
    "l1.insert(1,100)\n",
    "\n",
    "#Add 1000 at front of the l1\n",
    "l1.insert(0,1000)\n",
    "\n",
    "#Delete element at 3rd position\n",
    "del l1[3]\n",
    "\n",
    "#Display elements at even position\n",
    "print(l1[1::2])\n",
    "\n",
    "#Display elements in reverse order\n",
    "print(l1[::-1])"
   ]
  },
  {
   "cell_type": "markdown",
   "id": "3d5efe73",
   "metadata": {
    "id": "3d5efe73"
   },
   "source": [
    "### 2. \n",
    "\n",
    "Grab ``StarAgile`` from the following Dictionaries\n",
    "\n",
    "d_difficult = {'k1':[{'nest_key':['this is deep',['StarAgile']]}]}\n",
    "\n",
    "d_irritating = {'k1':[1,2,{'k2':['this is not easy',{'VeryIrriating':[1,2,['StarAgile']]}]}]}"
   ]
  },
  {
   "cell_type": "code",
   "execution_count": 44,
   "id": "9fb35ce9",
   "metadata": {
    "id": "9fb35ce9"
   },
   "outputs": [
    {
     "name": "stdout",
     "output_type": "stream",
     "text": [
      "StarAgile\n"
     ]
    }
   ],
   "source": [
    "# Define the dictionary d_difficult\n",
    "d_difficult = {'k1':[{'nest_key':['this is deep',['StarAgile']]}]}\n",
    "\n",
    "# Access and print the 'StarAgile' value from the dictionary\n",
    "print(d_difficult['k1'][0]['nest_key'][1][0])"
   ]
  },
  {
   "cell_type": "code",
   "execution_count": 45,
   "id": "7b0fff00",
   "metadata": {},
   "outputs": [
    {
     "name": "stdout",
     "output_type": "stream",
     "text": [
      "StarAgile\n"
     ]
    }
   ],
   "source": [
    "# Define the dictionary d_irritating\n",
    "d_irritating = {'k1':[1,2,{'k2':['this is not easy',{'VeryIrritating':[1,2,['StarAgile']]}]}]}\n",
    "\n",
    "# Access and print the 'StarAgile' value from the dictionary\n",
    "print(d_irritating['k1'][2]['k2'][1]['VeryIrritating'][2][0])"
   ]
  },
  {
   "cell_type": "markdown",
   "id": "0540a188",
   "metadata": {
    "id": "0540a188"
   },
   "source": [
    "### 3.\n",
    "\n",
    "Write a program to accept a string from the user and display characters that are present at an even index number.\n",
    "\n",
    "For example, str = \"judgemental\" so you should display ‘j’, ‘d’, ‘e’, ‘e’, ‘t’, ‘l’."
   ]
  },
  {
   "cell_type": "code",
   "execution_count": 52,
   "id": "21f5b9dd",
   "metadata": {
    "id": "21f5b9dd",
    "scrolled": true
   },
   "outputs": [
    {
     "name": "stdout",
     "output_type": "stream",
     "text": [
      "Enter a word here : same\n",
      "['a', 'e']\n"
     ]
    }
   ],
   "source": [
    "# Input a word from the user and convert it to a list of characters\n",
    "user_input = list(input(\"Enter a word here: \"))\n",
    "\n",
    "# Extract characters at even index positions using slicing\n",
    "even_characters = user_input[0::2]\n",
    "\n",
    "# Print the characters at even index positions\n",
    "print(\"Characters at even index positions:\", even_characters)\n"
   ]
  },
  {
   "cell_type": "markdown",
   "id": "e0884cde",
   "metadata": {
    "id": "e0884cde"
   },
   "source": [
    "### 4. \n",
    "\n",
    "Convert the Float Value of '3.8' into Integer, Complex, Binary and Hexidecimal format"
   ]
  },
  {
   "cell_type": "code",
   "execution_count": 54,
   "id": "99555c16",
   "metadata": {
    "id": "99555c16"
   },
   "outputs": [
    {
     "name": "stdout",
     "output_type": "stream",
     "text": [
      "Original Float Value: 3.8\n",
      "As Integer: 3\n",
      "As Complex: (3.8+0j)\n",
      "As Binary: 0b11\n",
      "As Hexadecimal: 0x3\n"
     ]
    }
   ],
   "source": [
    "# Float value '3.8'\n",
    "float_value = 3.8\n",
    "\n",
    "# Convert to an integer (truncating decimal part)\n",
    "int_value = int(float_value)\n",
    "\n",
    "# Create a complex number with the float value as the real part and 0 as the imaginary part\n",
    "complex_value = complex(float_value, 0)\n",
    "\n",
    "# Convert to binary representation (as an integer)\n",
    "binary_value = bin(int_value)\n",
    "\n",
    "# Convert to hexadecimal representation (as an integer)\n",
    "hexadecimal_value = hex(int_value)\n",
    "\n",
    "# Print the results\n",
    "print(\"Original Float Value:\", float_value)\n",
    "print(\"As Integer:\", int_value)\n",
    "print(\"As Complex:\", complex_value)\n",
    "print(\"As Binary:\", binary_value)\n",
    "print(\"As Hexadecimal:\", hexadecimal_value)\n"
   ]
  },
  {
   "cell_type": "markdown",
   "id": "25187f2c",
   "metadata": {
    "id": "25187f2c"
   },
   "source": [
    "### 5. \n",
    "\n",
    "Write a program to accept five names from the user and store it in a Tuple 'T1'"
   ]
  },
  {
   "cell_type": "code",
   "execution_count": 57,
   "id": "7e9e98e3",
   "metadata": {
    "id": "7e9e98e3"
   },
   "outputs": [
    {
     "name": "stdout",
     "output_type": "stream",
     "text": [
      "Enter first user nameTom\n",
      "Enter second user nameJob\n",
      "Enter third user nameMark\n",
      "Enter fourth user nameDaniel\n",
      "Enter fifth user nameJack\n",
      "('Tom', 'Job', 'Mark', 'Daniel', 'Jack')\n"
     ]
    }
   ],
   "source": [
    "# Prompt the user to enter the first user name\n",
    "name1 = input(\"Enter first user name\")\n",
    "\n",
    "# Prompt the user to enter the second user name\n",
    "name2 = input(\"Enter second user name\")\n",
    "\n",
    "# Prompt the user to enter the third user name\n",
    "name3 = input(\"Enter third user name\")\n",
    "\n",
    "# Prompt the user to enter the fourth user name\n",
    "name4 = input(\"Enter fourth user name\")\n",
    "\n",
    "# Prompt the user to enter the fifth user name\n",
    "name5 = input(\"Enter fifth user name\")\n",
    "\n",
    "# Create a tuple 'T1' containing the entered user names\n",
    "T1 = (name1, name2, name3, name4, name5)\n",
    "\n",
    "# Display the tuple 'T1' with the entered user names\n",
    "print(T1)\n"
   ]
  }
 ],
 "metadata": {
  "colab": {
   "provenance": []
  },
  "kernelspec": {
   "display_name": "Python 3 (ipykernel)",
   "language": "python",
   "name": "python3"
  },
  "language_info": {
   "codemirror_mode": {
    "name": "ipython",
    "version": 3
   },
   "file_extension": ".py",
   "mimetype": "text/x-python",
   "name": "python",
   "nbconvert_exporter": "python",
   "pygments_lexer": "ipython3",
   "version": "3.11.4"
  }
 },
 "nbformat": 4,
 "nbformat_minor": 5
}
