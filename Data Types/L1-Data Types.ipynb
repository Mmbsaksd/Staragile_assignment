{
 "cells": [
  {
   "cell_type": "markdown",
   "id": "9cacd9e4",
   "metadata": {
    "id": "9cacd9e4"
   },
   "source": [
    "# Data Types & Basic Programs\n",
    "- Write solution of each question in the cell given below the corresponsing question."
   ]
  },
  {
   "cell_type": "markdown",
   "id": "a36a3683",
   "metadata": {
    "id": "a36a3683"
   },
   "source": [
    "#### 1. Write a program to take principal amount, rate and interest as input and calculate simple interest."
   ]
  },
  {
   "cell_type": "code",
   "execution_count": 28,
   "id": "iyGa2yN7bkZL",
   "metadata": {
    "colab": {
     "base_uri": "https://localhost:8080/",
     "height": 130
    },
    "executionInfo": {
     "elapsed": 8,
     "status": "error",
     "timestamp": 1682422665028,
     "user": {
      "displayName": "saylee morey",
      "userId": "14399473198527863861"
     },
     "user_tz": -330
    },
    "id": "iyGa2yN7bkZL",
    "outputId": "43c86045-073b-48a6-b7fb-8895e19b4b9c"
   },
   "outputs": [
    {
     "name": "stdout",
     "output_type": "stream",
     "text": [
      "Enter principal amount: 10000\n",
      "Enter interest rate: 10\n",
      "Enter number of years: 2\n",
      "Simple interest is: 2000.0\n"
     ]
    }
   ],
   "source": [
    "# Input: Prompt the user to enter the principal amount, interest rate, and the number of years.\n",
    "p = int(input(\"Enter principal amount: \"))  # Principal amount\n",
    "r = int(input(\"Enter interest rate: \"))  # Interest rate\n",
    "t = int(input(\"Enter number of years: \"))  # Number of years\n",
    "\n",
    "# Calculate the simple interest.\n",
    "interest = (p * r * t) / 100\n",
    "\n",
    "# Print the calculated simple interest.\n",
    "print(\"Simple interest is:\", interest)\n"
   ]
  },
  {
   "cell_type": "markdown",
   "id": "3a9994e0",
   "metadata": {
    "id": "3a9994e0"
   },
   "source": [
    "#### 2. Write a program that takes a string as input and prints the number of words in the string."
   ]
  },
  {
   "cell_type": "code",
   "execution_count": 26,
   "id": "9VbTZFFQfHCm",
   "metadata": {
    "id": "9VbTZFFQfHCm"
   },
   "outputs": [
    {
     "name": "stdout",
     "output_type": "stream",
     "text": [
      "Enter a string here: Once, there was a miser who would hide all his gold under the stones in his garden. He never spent his gold, and without fail, he would count his coins before going to bed every day. One day a thief spotted him counting his coins. After the miser went to sleep, the thief stole all the gold.\n",
      "Length of the string is: 57\n"
     ]
    }
   ],
   "source": [
    "# Input: Prompt the user to enter a string.\n",
    "string = input(\"Enter a string here: \").split()\n",
    "\n",
    "# Calculate the length of the string.\n",
    "word = len(string)\n",
    "\n",
    "# Print the length of the string.\n",
    "print(\"Length of the string is:\", word)\n"
   ]
  },
  {
   "cell_type": "markdown",
   "id": "8a8d5e27",
   "metadata": {
    "id": "8a8d5e27"
   },
   "source": [
    "#### 3. Write a program to take a list of numbers as input (in a single line) and print the sum, avg, max and min elements."
   ]
  },
  {
   "cell_type": "code",
   "execution_count": 27,
   "id": "OUlGO6fiVlU7",
   "metadata": {
    "id": "OUlGO6fiVlU7"
   },
   "outputs": [
    {
     "name": "stdout",
     "output_type": "stream",
     "text": [
      "Enter number sequence here: 1 2 3 4 5 6 7 8 9\n",
      "\n",
      "Sum of the numbers is: 45\n",
      "Average of the numbers is: 5.0\n",
      "Maximum of the given numbers is: 9\n",
      "Minimum of the given numbers is: 1\n"
     ]
    }
   ],
   "source": [
    "# Input: Prompt the user to enter a space-separated number sequence and convert it to a list of integers.\n",
    "num = list(map(int, input(\"Enter number sequence here: \").split()))\n",
    "\n",
    "# Calculate the sum of the numbers in the list.\n",
    "s = sum(num)\n",
    "\n",
    "# Get the number of elements in the list.\n",
    "n = len(num)\n",
    "\n",
    "# Print the sum of the numbers.\n",
    "print(\"\\nSum of the numbers is:\", sum(num))\n",
    "\n",
    "# Calculate and print the average of the numbers.\n",
    "print(\"Average of the numbers is:\", s / n)\n",
    "\n",
    "# Find and print the maximum element in the list.\n",
    "print(\"Maximum of the given numbers is:\", max(num))\n",
    "\n",
    "# Find and print the minimum element in the list.\n",
    "print(\"Minimum of the given numbers is:\", min(num))\n"
   ]
  },
  {
   "cell_type": "markdown",
   "id": "17dbd6e8",
   "metadata": {
    "id": "17dbd6e8"
   },
   "source": [
    "#### 4. Write a program to take the marks of 3 students in five subjects each as a list (one list for each input) as input and print the average score of each student.."
   ]
  },
  {
   "cell_type": "code",
   "execution_count": 34,
   "id": "BTd2sM7i9sui",
   "metadata": {
    "id": "BTd2sM7i9sui"
   },
   "outputs": [
    {
     "name": "stdout",
     "output_type": "stream",
     "text": [
      "Enter 1st student's marks in five subjects separated by spaces: 8 4 2 6 5\n",
      "Enter 2nd student's marks in five subjects separated by spaces: 6 3 7 5 5\n",
      "Enter 3rd student's marks in five subjects separated by spaces: 9 3 5 1 3\n",
      "\n",
      "Average score of 1st student: 5.0\n",
      "Average score of 2nd student: 5.2\n",
      "Average score of 3rd student: 4.2\n"
     ]
    }
   ],
   "source": [
    "# Input: Prompt the user to enter marks for the 1st student in five subjects\n",
    "student1 = list(map(int, input(\"Enter 1st student's marks in five subjects separated by spaces: \").split()))\n",
    "\n",
    "# Input: Prompt the user to enter marks for the 2nd student in five subjects\n",
    "student2 = list(map(int, input(\"Enter 2nd student's marks in five subjects separated by spaces: \").split()))\n",
    "\n",
    "# Input: Prompt the user to enter marks for the 3rd student in five subjects\n",
    "student3 = list(map(int, input(\"Enter 3rd student's marks in five subjects separated by spaces: \").split()))\n",
    "\n",
    "# Calculate the average score for the 1st student\n",
    "average_score_student1 = sum(student1) / len(student1)\n",
    "\n",
    "# Calculate the average score for the 2nd student\n",
    "average_score_student2 = sum(student2) / len(student2)\n",
    "\n",
    "# Calculate the average score for the 3rd student\n",
    "average_score_student3 = sum(student3) / len(student3)\n",
    "\n",
    "# Print the average score for each student\n",
    "print(\"\\nAverage score of 1st student:\", average_score_student1)\n",
    "print(\"Average score of 2nd student:\", average_score_student2)\n",
    "print(\"Average score of 3rd student:\", average_score_student3)\n"
   ]
  },
  {
   "cell_type": "markdown",
   "id": "39fb8526",
   "metadata": {
    "id": "39fb8526"
   },
   "source": [
    "#### 5. Write a program to take a list as input containing results of 10 coin tosses as 'H' or 'T'. Jon gets a point for each 'T' and Tom gets a point for each 'H'. print the points recieved by both."
   ]
  },
  {
   "cell_type": "code",
   "execution_count": 41,
   "id": "Ijvfc63fHr8B",
   "metadata": {
    "id": "Ijvfc63fHr8B"
   },
   "outputs": [
    {
     "name": "stdout",
     "output_type": "stream",
     "text": [
      "Result of toss (e.g., T H H T H): H H H T H T H T H H\n",
      "Jon has received 3 point(s) and Tom has received 7 point(s).\n"
     ]
    }
   ],
   "source": [
    "# Input: Prompt the user to enter the result of the toss, separated by spaces\n",
    "toss = input(\"Result of toss (e.g., T H H T H): \").split()\n",
    "\n",
    "# Count the occurrences of \"T\" (Tails) and \"H\" (Heads)\n",
    "jon_score = toss.count(\"T\")\n",
    "tom_score = toss.count(\"H\")\n",
    "\n",
    "# Print the scores for Jon and Tom\n",
    "print(\"Jon has received {} point(s) and Tom has received {} point(s).\".format(jon_score, tom_score))"
   ]
  },
  {
   "cell_type": "markdown",
   "id": "4a6dc391",
   "metadata": {
    "id": "4a6dc391"
   },
   "source": [
    "#### 6. Take two numbers as input and print the result after swapping them. (Without using multiple assignment and any extra variable)."
   ]
  },
  {
   "cell_type": "code",
   "execution_count": 48,
   "id": "oiSoXznqZbC_",
   "metadata": {
    "id": "oiSoXznqZbC_"
   },
   "outputs": [
    {
     "name": "stdout",
     "output_type": "stream",
     "text": [
      "Enter first number : 1\n",
      "Enter second number : 2\n",
      "First Number is  2\n",
      "Second Number is  1\n"
     ]
    }
   ],
   "source": [
    "# Input: Prompt the user to enter two numbers\n",
    "x = int(input(\"Enter the first number: \"))  # Assign the input to variable x\n",
    "y = int(input(\"Enter the second number: \"))  # Assign the input to variable y\n",
    "\n",
    "# Swapping without using multiple assignments or extra variables\n",
    "x = x + y  # Add the values of x and y and store the result in x\n",
    "y = x - y  # Subtract the original value of y from the new value of x and store it in y\n",
    "x = x - y  # Subtract the new value of y from the result stored in x and store it in x\n",
    "\n",
    "# Print the swapped values\n",
    "print(\"After swapping:\")\n",
    "print(\"First number is\", x)  # Print the value of x (which was originally y)\n",
    "print(\"Second number is\", y)  # Print the value of y (which was originally x)"
   ]
  },
  {
   "cell_type": "markdown",
   "id": "b0059e36",
   "metadata": {
    "id": "b0059e36"
   },
   "source": [
    "#### 7. Take a list as input in a single line containing 10 numbers as marks out of 100. The even positions in the list are marks of Tom and the odd positions are the marks of Jon. Calculate the average marks of both."
   ]
  },
  {
   "cell_type": "code",
   "execution_count": 55,
   "id": "dzK-bSIM6rh6",
   "metadata": {
    "id": "dzK-bSIM6rh6"
   },
   "outputs": [
    {
     "name": "stdout",
     "output_type": "stream",
     "text": [
      "Enter 10 marks out of 100 separated by spaces: 1 2 3 4 5 6 7 8 9 10\n",
      "Average Mark of Tom is 6.0\n",
      "Average Mark of Jon is 5.0\n"
     ]
    }
   ],
   "source": [
    "# Input: Prompt the user to enter numbers separated by spaces (10 numbers in total)\n",
    "num = list(map(int, input(\"Enter 10 marks out of 100 separated by spaces: \").split()))\n",
    "\n",
    "# Extract odd-indexed elements (Jon's marks) and even-indexed elements (Tom's marks)\n",
    "odd = num[0::2]   # Extract elements at odd positions (0, 2, 4, 6, 8)\n",
    "even = num[1::2]  # Extract elements at even positions (1, 3, 5, 7, 9)\n",
    "\n",
    "# Calculate the average mark for Tom by summing his marks and dividing by the number of marks\n",
    "average_mark_tom = sum(even) / len(even)\n",
    "\n",
    "# Calculate the average mark for Jon by summing his marks and dividing by the number of marks\n",
    "average_mark_jon = sum(odd) / len(odd)\n",
    "\n",
    "# Print the average marks for Tom and Jon with appropriate formatting\n",
    "print(\"Average Mark of Tom is {}\".format(average_mark_tom))\n",
    "print(\"Average Mark of Jon is {}\".format(average_mark_jon))\n"
   ]
  },
  {
   "cell_type": "markdown",
   "id": "f07dab7c",
   "metadata": {
    "id": "f07dab7c"
   },
   "source": [
    "#### 8. Take a string and a character as input. Print the result having the character between each word of the given string."
   ]
  },
  {
   "cell_type": "code",
   "execution_count": 58,
   "id": "81cbfcab",
   "metadata": {},
   "outputs": [
    {
     "name": "stdout",
     "output_type": "stream",
     "text": [
      "Enter a string: I am a disco dancer\n",
      "Enter a character: wow\n",
      "Result with the character between each word: Iwowamwowawowdiscowowdancer\n"
     ]
    }
   ],
   "source": [
    "# Input: Prompt the user to enter a string\n",
    "string = input(\"Enter a string: \")\n",
    "\n",
    "# Input: Prompt the user to enter a character\n",
    "character = input(\"Enter a character: \")\n",
    "\n",
    "# Split the input string into words using whitespace as the delimiter and then join them using the entered character\n",
    "result = character.join(string.split())\n",
    "\n",
    "# Print the result with the entered character between each word\n",
    "print(\"Result with the character between each word:\", result)\n"
   ]
  },
  {
   "cell_type": "markdown",
   "id": "a45320b7",
   "metadata": {
    "id": "a45320b7"
   },
   "source": [
    "#### 9. Create a dictionary having three items. Key of each item is the name of a student, value associated with each key is a list of marks in five subjects. Given this dictionary print the average score of each student."
   ]
  },
  {
   "cell_type": "code",
   "execution_count": 71,
   "id": "_WpSWzXdLyri",
   "metadata": {
    "id": "_WpSWzXdLyri",
    "scrolled": true
   },
   "outputs": [
    {
     "name": "stdout",
     "output_type": "stream",
     "text": [
      "Enter Mark of Alice  : 1 2 3 4 5\n",
      "Enter Mark of Bob    : 9 8 7 6 5\n",
      "Enter Mark of Charlie: 7 3 6 4 5\n",
      "\n",
      "Average score of Alice  :  3.0\n",
      "Average score of Bob    :  7.0\n",
      "Average score of Charlie:  5.0\n"
     ]
    }
   ],
   "source": [
    "# Initialize an empty dictionary to store student names and their marks\n",
    "student_dict = {}\n",
    "\n",
    "# Input: Prompt the user to enter marks for each student and store them in the dictionary\n",
    "student_dict[\"Alice\"] = list(map(int, input(\"Enter Mark of Alice  : \").split()))\n",
    "student_dict[\"Bob\"] = list(map(int, input(\"Enter Mark of Bob    : \").split()))\n",
    "student_dict[\"Charlie\"] = list(map(int, input(\"Enter Mark of Charlie: \").split()))\n",
    "\n",
    "# Calculate and print the average score for each student\n",
    "# For Alice\n",
    "average_score_alice = sum(student_dict[\"Alice\"]) / len(student_dict[\"Alice\"])\n",
    "print(\"\\nAverage score of Alice  : \", average_score_alice)\n",
    "\n",
    "# For Bob\n",
    "average_score_bob = sum(student_dict[\"Bob\"]) / len(student_dict[\"Bob\"])\n",
    "print(\"Average score of Bob    : \", average_score_bob)\n",
    "\n",
    "# For Charlie\n",
    "average_score_charlie = sum(student_dict[\"Charlie\"]) / len(student_dict[\"Charlie\"])\n",
    "print(\"Average score of Charlie: \", average_score_charlie)\n"
   ]
  },
  {
   "cell_type": "markdown",
   "id": "aba63bd1",
   "metadata": {
    "id": "aba63bd1"
   },
   "source": [
    "#### 10. Take a string as input(may contain repetitive words), print a list consisting of unique words from the given string."
   ]
  },
  {
   "cell_type": "code",
   "execution_count": 76,
   "id": "Wrc5hOBIF-ww",
   "metadata": {
    "id": "Wrc5hOBIF-ww"
   },
   "outputs": [
    {
     "name": "stdout",
     "output_type": "stream",
     "text": [
      "Enter text hereOnce, there was a miser who would hide all his gold under the stones in his garden. He never spent his gold, and without fail, he would count his coins before going to bed every day. One day a thief spotted him counting his coins. After the miser went to sleep, the thief stole all the gold.\n",
      "\n",
      "Unique words are : ['never', 'the', 'spotted', 'would', 'coins', 'garden.', 'bed', 'was', 'fail,', 'counting', 'day.', 'One', 'there', 'stole', 'gold.', 'and', 'miser', 'coins.', 'under', 'went', 'without', 'every', 'hide', 'going', 'him', 'spent', 'He', 'who', 'he', 'all', 'After', 'gold', 'in', 'sleep,', 'a', 'gold,', 'thief', 'count', 'stones', 'Once,', 'his', 'before', 'to', 'day']\n"
     ]
    }
   ],
   "source": [
    "string = input(\"Enter text here\").split()\n",
    "print(\"\\nUnique words are :\", list(set(string)))"
   ]
  },
  {
   "cell_type": "code",
   "execution_count": null,
   "id": "17b6b4a1",
   "metadata": {},
   "outputs": [],
   "source": []
  }
 ],
 "metadata": {
  "colab": {
   "provenance": []
  },
  "kernelspec": {
   "display_name": "Python 3 (ipykernel)",
   "language": "python",
   "name": "python3"
  },
  "language_info": {
   "codemirror_mode": {
    "name": "ipython",
    "version": 3
   },
   "file_extension": ".py",
   "mimetype": "text/x-python",
   "name": "python",
   "nbconvert_exporter": "python",
   "pygments_lexer": "ipython3",
   "version": "3.11.4"
  }
 },
 "nbformat": 4,
 "nbformat_minor": 5
}
