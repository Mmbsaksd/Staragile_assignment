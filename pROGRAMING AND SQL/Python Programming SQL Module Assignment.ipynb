{
 "cells": [
  {
   "cell_type": "markdown",
   "id": "8be2daf2",
   "metadata": {},
   "source": [
    "## Project 1: Creating Databases and Operations"
   ]
  },
  {
   "cell_type": "code",
   "execution_count": 1,
   "id": "7eeffb19",
   "metadata": {},
   "outputs": [],
   "source": [
    "# Import the mysql.connector library\n",
    "import mysql.connector"
   ]
  },
  {
   "cell_type": "code",
   "execution_count": 2,
   "id": "cce71fd5",
   "metadata": {},
   "outputs": [],
   "source": [
    "# Connect to the MySQL server with provided credentials\n",
    "mydb = mysql.connector.connect(\n",
    "    host='localhost',      # Specify the host (in this case, localhost)\n",
    "    user='root',           # Specify the MySQL user (in this case, root)\n",
    "    password='Mmbsaksd7736@'  # Specify the password for the user\n",
    ")\n",
    "\n",
    "# Create a cursor to interact with the MySQL server\n",
    "mycursor = mydb.cursor()\n",
    "\n",
    "# Execute the SQL query to create a new database named 'class'\n",
    "mycursor.execute('CREATE DATABASE class')\n",
    "\n",
    "# Close the connection to the MySQL server\n",
    "mydb.close()"
   ]
  },
  {
   "cell_type": "code",
   "execution_count": 3,
   "id": "71c0aa65",
   "metadata": {},
   "outputs": [],
   "source": [
    "# Connect to the MySQL server with provided credentials and select the 'class' database\n",
    "mydb = mysql.connector.connect(\n",
    "    host='localhost',      # Specify the host (in this case, localhost)\n",
    "    user='root',           # Specify the MySQL user (in this case, root)\n",
    "    password='Mmbsaksd7736@',  # Specify the password for the user\n",
    "    database='class'       # Specify the database to connect to (in this case, 'class')\n",
    ")\n",
    "\n",
    "# Create a cursor to interact with the 'class' database\n",
    "mycursor = mydb.cursor()\n"
   ]
  },
  {
   "cell_type": "code",
   "execution_count": 4,
   "id": "4948b3a0",
   "metadata": {},
   "outputs": [],
   "source": [
    "# SQL query to create the 'student' table\n",
    "query1 = '''CREATE TABLE student(\n",
    "    std_id INT PRIMARY KEY,\n",
    "    name VARCHAR(20),\n",
    "    assignment1 INT NOT NULL,\n",
    "    assignment2 INT NOT NULL,\n",
    "    assignment3 INT NOT NULL,\n",
    "    assignment4 INT NOT NULL,\n",
    "    assignment5 INT NOT NULL\n",
    ")'''\n",
    "\n",
    "# Execute the CREATE TABLE query\n",
    "mycursor.execute(query1)"
   ]
  },
  {
   "cell_type": "code",
   "execution_count": 5,
   "id": "6d7ac4a7",
   "metadata": {},
   "outputs": [
    {
     "name": "stdout",
     "output_type": "stream",
     "text": [
      "('student',)\n"
     ]
    }
   ],
   "source": [
    "# Execute the 'SHOW TABLES' query to retrieve the list of tables in the 'class' database\n",
    "mycursor.execute('SHOW TABLES')\n",
    "\n",
    "# Iterate through the result set and print each table\n",
    "for table in mycursor:\n",
    "    print(table)"
   ]
  },
  {
   "cell_type": "code",
   "execution_count": 6,
   "id": "28c0aab0",
   "metadata": {},
   "outputs": [],
   "source": [
    "# SQL query to insert data into the 'student' table\n",
    "query2 = \"INSERT INTO student(std_id, name, assignment1, assignment2, assignment3, assignment4, assignment5) VALUES(%s, %s, %s, %s, %s, %s, %s)\"\n",
    "\n",
    "# List of values to insert into the 'student' table\n",
    "val2 = [\n",
    "    (1, 'John Doe', 85, 92, 78, 90, 88),\n",
    "    (2, 'Jane Smith', 77, 88, 95, 82, 79),\n",
    "    (3, 'Bob Johnson', 90, 85, 88, 92, 87),\n",
    "    (4, 'Alice Williams', 92, 78, 94, 86, 90),\n",
    "    (5, 'Charlie Brown', 85, 90, 76, 88, 94),\n",
    "    (6, 'Eva Davis', 88, 94, 85, 80, 92)\n",
    "]\n",
    "\n",
    "# Execute the INSERT query with multiple values\n",
    "mycursor.executemany(query2, val2)\n"
   ]
  },
  {
   "cell_type": "code",
   "execution_count": 7,
   "id": "b22a62bd",
   "metadata": {},
   "outputs": [
    {
     "name": "stdout",
     "output_type": "stream",
     "text": [
      "(1, 'John Doe', 85, 92, 78, 90, 88)\n",
      "(2, 'Jane Smith', 77, 88, 95, 82, 79)\n",
      "(3, 'Bob Johnson', 90, 85, 88, 92, 87)\n",
      "(4, 'Alice Williams', 92, 78, 94, 86, 90)\n",
      "(5, 'Charlie Brown', 85, 90, 76, 88, 94)\n",
      "(6, 'Eva Davis', 88, 94, 85, 80, 92)\n"
     ]
    }
   ],
   "source": [
    "# SQL query to select all rows from the 'student' table\n",
    "query3 = \"SELECT * FROM student\"\n",
    "\n",
    "# Execute the SELECT query\n",
    "mycursor.execute(query3)\n",
    "\n",
    "# Iterate through the result set and print each row\n",
    "for row in mycursor:\n",
    "    print(row)"
   ]
  },
  {
   "cell_type": "code",
   "execution_count": 8,
   "id": "039c98f6",
   "metadata": {},
   "outputs": [
    {
     "name": "stdout",
     "output_type": "stream",
     "text": [
      "(3, 'Bob Johnson', 442)\n"
     ]
    }
   ],
   "source": [
    "# SQL query to calculate total marks for each student and select the student with the highest total\n",
    "query4 = '''SELECT std_id,\n",
    "                    name, \n",
    "                    assignment1 + assignment2 + assignment3 + assignment4 + assignment5 AS total \n",
    "             FROM student\n",
    "             ORDER BY total DESC \n",
    "             LIMIT 1'''\n",
    "\n",
    "# Execute the SELECT query\n",
    "mycursor.execute(query4)\n",
    "\n",
    "# Iterate through the result set and print the student with the highest total marks\n",
    "for row in mycursor:\n",
    "    print(row)"
   ]
  },
  {
   "cell_type": "code",
   "execution_count": 9,
   "id": "0e689c62",
   "metadata": {},
   "outputs": [],
   "source": [
    "# Commit the changes to the database\n",
    "mydb.commit()\n",
    "\n",
    "# Close the connection to the MySQL server\n",
    "mydb.close()"
   ]
  },
  {
   "cell_type": "markdown",
   "id": "b42dd13b",
   "metadata": {},
   "source": [
    "## Project 2: Handling Databases and CRUD operations using Python"
   ]
  },
  {
   "cell_type": "code",
   "execution_count": 10,
   "id": "b426d150",
   "metadata": {},
   "outputs": [],
   "source": [
    "# Connect to the MySQL server with provided credentials\n",
    "mydb = mysql.connector.connect(\n",
    "    host='localhost',      # Specify the host (in this case, localhost)\n",
    "    user='root',           # Specify the MySQL user (in this case, root)\n",
    "    password='Mmbsaksd7736@'  # Specify the password for the user\n",
    ")\n",
    "\n",
    "# Create a cursor to interact with the MySQL server\n",
    "mycursor = mydb.cursor()\n",
    "\n",
    "# Execute the SQL query to create a new database named 'project_2'\n",
    "mycursor.execute('CREATE DATABASE project_2')\n",
    "\n",
    "# Close the connection to the MySQL server\n",
    "mydb.close()"
   ]
  },
  {
   "cell_type": "code",
   "execution_count": 11,
   "id": "a0587bfc",
   "metadata": {},
   "outputs": [],
   "source": [
    "# Connect to the MySQL server with provided credentials and select the 'project_2' database\n",
    "mydb = mysql.connector.connect(\n",
    "    host='localhost',      # Specify the host (in this case, localhost)\n",
    "    user='root',           # Specify the MySQL user (in this case, root)\n",
    "    password='Mmbsaksd7736@',  # Specify the password for the user\n",
    "    database='project_2'    # Specify the database to connect to (in this case, 'project_2')\n",
    ")\n",
    "\n",
    "# Create a cursor to interact with the 'project_2' database\n",
    "mycursor = mydb.cursor()\n"
   ]
  },
  {
   "cell_type": "code",
   "execution_count": 12,
   "id": "f9108afe",
   "metadata": {},
   "outputs": [],
   "source": [
    "# SQL query to create the 'employee' table\n",
    "query5 = '''CREATE TABLE employee(\n",
    "    emp_id INT NOT NULL,\n",
    "    name VARCHAR(20) NOT NULL,\n",
    "    gender VARCHAR(10) NOT NULL,\n",
    "    age INT NOT NULL,\n",
    "    salary INT NOT NULL\n",
    ")'''\n",
    "\n",
    "# Execute the CREATE TABLE query\n",
    "mycursor.execute(query5)"
   ]
  },
  {
   "cell_type": "code",
   "execution_count": 13,
   "id": "9669e875",
   "metadata": {},
   "outputs": [
    {
     "name": "stdout",
     "output_type": "stream",
     "text": [
      "('employee',)\n"
     ]
    }
   ],
   "source": [
    "# Execute the 'SHOW TABLES' query to retrieve the list of tables in the 'project_2' database\n",
    "mycursor.execute('SHOW TABLES')\n",
    "\n",
    "# Iterate through the result set and print each table\n",
    "for table in mycursor:\n",
    "    print(table)"
   ]
  },
  {
   "cell_type": "code",
   "execution_count": 14,
   "id": "276a0238",
   "metadata": {},
   "outputs": [],
   "source": [
    "# SQL query to insert data into the 'employee' table\n",
    "query6 = \"INSERT INTO employee(emp_id, name, gender, age, salary) VALUES (%s, %s, %s, %s, %s)\"\n",
    "\n",
    "# List of values to insert into the 'employee' table\n",
    "val6 = [\n",
    "    (1, 'John Doe', 'Male', 25, 50000),\n",
    "    (2, 'Jane Smith', 'Female', 30, 60000),\n",
    "    (3, 'Bob Johnson', 'Male', 28, 55000),\n",
    "    (4, 'Emily Davis', 'Female', 35, 70000),\n",
    "    (5, 'Michael Williams', 'Male', 32, 65000),\n",
    "    (6, 'Sarah Wilson', 'Female', 29, 60000)\n",
    "]\n",
    "\n",
    "# Execute the INSERT query with multiple values\n",
    "mycursor.executemany(query6, val6)"
   ]
  },
  {
   "cell_type": "code",
   "execution_count": 15,
   "id": "76b2890c",
   "metadata": {},
   "outputs": [
    {
     "name": "stdout",
     "output_type": "stream",
     "text": [
      "(1, 'John Doe', 'Male', 25, 50000)\n",
      "(2, 'Jane Smith', 'Female', 30, 60000)\n",
      "(3, 'Bob Johnson', 'Male', 28, 55000)\n",
      "(4, 'Emily Davis', 'Female', 35, 70000)\n",
      "(5, 'Michael Williams', 'Male', 32, 65000)\n",
      "(6, 'Sarah Wilson', 'Female', 29, 60000)\n"
     ]
    }
   ],
   "source": [
    "# SQL query to select all rows from the 'employee' table\n",
    "query7 = \"SELECT * FROM employee\"\n",
    "\n",
    "# Execute the SELECT query\n",
    "mycursor.execute(query7)\n",
    "\n",
    "# Iterate through the result set and print each row\n",
    "for row in mycursor:\n",
    "    print(row)"
   ]
  },
  {
   "cell_type": "code",
   "execution_count": 16,
   "id": "20d1da3c",
   "metadata": {},
   "outputs": [
    {
     "name": "stdout",
     "output_type": "stream",
     "text": [
      "(1, 'John Doe', 'Male', 25, 50000)\n",
      "(2, 'Jane Smith', 'Female', 30, 66000)\n",
      "(3, 'Bob Johnson', 'Male', 28, 55000)\n",
      "(4, 'Emily Davis', 'Female', 35, 77000)\n",
      "(5, 'Michael Williams', 'Male', 32, 65000)\n",
      "(6, 'Sarah Wilson', 'Female', 29, 66000)\n"
     ]
    }
   ],
   "source": [
    "# SQL query to update salary for female employees\n",
    "query8 = \"UPDATE employee SET salary = salary * 1.1 WHERE gender = 'Female'\"\n",
    "\n",
    "# Execute the UPDATE query\n",
    "mycursor.execute(query8)\n",
    "\n",
    "# SQL query to select all rows from the 'employee' table\n",
    "query7 = \"SELECT * FROM employee\"\n",
    "\n",
    "# Execute the SELECT query\n",
    "mycursor.execute(query7)\n",
    "\n",
    "# Iterate through the result set and print each updated row\n",
    "for row in mycursor:\n",
    "    print(row)"
   ]
  },
  {
   "cell_type": "code",
   "execution_count": 17,
   "id": "84dfd266",
   "metadata": {},
   "outputs": [
    {
     "name": "stdout",
     "output_type": "stream",
     "text": [
      "(1, 'John Doe', 'Male', 25, 50000)\n",
      "(4, 'Emily Davis', 'Female', 35, 77000)\n"
     ]
    }
   ],
   "source": [
    "# SQL query to delete rows from the 'employee' table where salary is between 51000 and 76000\n",
    "query9 = \"DELETE FROM employee WHERE salary BETWEEN 51000 AND 76000\"\n",
    "\n",
    "# Execute the DELETE query\n",
    "mycursor.execute(query9)\n",
    "\n",
    "# SQL query to select all rows from the 'employee' table\n",
    "query7 = \"SELECT * FROM employee\"\n",
    "\n",
    "# Execute the SELECT query\n",
    "mycursor.execute(query7)\n",
    "\n",
    "# Iterate through the result set and print each remaining row\n",
    "for row in mycursor:\n",
    "    print(row)\n"
   ]
  },
  {
   "cell_type": "code",
   "execution_count": 18,
   "id": "cc0f23c2",
   "metadata": {},
   "outputs": [],
   "source": [
    "# SQL query to drop (delete) the 'project_2' database\n",
    "mycursor.execute('DROP DATABASE project_2')\n",
    "\n",
    "# SQL query to drop (delete) the 'class' database\n",
    "mycursor.execute('DROP DATABASE class')"
   ]
  },
  {
   "cell_type": "code",
   "execution_count": 19,
   "id": "651e7089",
   "metadata": {},
   "outputs": [],
   "source": [
    "# Commit the changes to the database\n",
    "mydb.commit()\n",
    "\n",
    "# Close the connection to the MySQL server\n",
    "mydb.close()"
   ]
  }
 ],
 "metadata": {
  "kernelspec": {
   "display_name": "Python 3 (ipykernel)",
   "language": "python",
   "name": "python3"
  },
  "language_info": {
   "codemirror_mode": {
    "name": "ipython",
    "version": 3
   },
   "file_extension": ".py",
   "mimetype": "text/x-python",
   "name": "python",
   "nbconvert_exporter": "python",
   "pygments_lexer": "ipython3",
   "version": "3.11.4"
  }
 },
 "nbformat": 4,
 "nbformat_minor": 5
}
