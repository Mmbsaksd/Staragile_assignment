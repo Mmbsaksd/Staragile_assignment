{
 "cells": [
  {
   "cell_type": "code",
   "execution_count": 1,
   "id": "c4a4d03a",
   "metadata": {},
   "outputs": [
    {
     "name": "stdout",
     "output_type": "stream",
     "text": [
      "Requirement already satisfied: mysql-connector-python in c:\\users\\bsmun\\anaconda3\\lib\\site-packages (8.2.0)\n",
      "Requirement already satisfied: protobuf<=4.21.12,>=4.21.1 in c:\\users\\bsmun\\anaconda3\\lib\\site-packages (from mysql-connector-python) (4.21.12)\n"
     ]
    }
   ],
   "source": [
    "!pip install mysql-connector-python"
   ]
  },
  {
   "cell_type": "markdown",
   "id": "3d34be44",
   "metadata": {},
   "source": [
    "#### Method\n",
    "* Make connection\n",
    "* Create a cursor\n",
    "* Run the queries with execute"
   ]
  },
  {
   "cell_type": "code",
   "execution_count": 1,
   "id": "378e9bbe",
   "metadata": {},
   "outputs": [],
   "source": [
    "#importing required libraries\n",
    "import mysql.connector"
   ]
  },
  {
   "cell_type": "code",
   "execution_count": 2,
   "id": "5cfe706d",
   "metadata": {
    "scrolled": true
   },
   "outputs": [],
   "source": [
    "# Create connection\n",
    "mydb = mysql.connector.connect(\n",
    "    host='localhost',\n",
    "    user='root',\n",
    "    password='Mmbsaksd7736@'\n",
    ")\n",
    "\n",
    "# Create cursor\n",
    "mycursor = mydb.cursor()\n",
    "\n",
    "# Create the 'Assignment' database\n",
    "mycursor.execute('CREATE DATABASE Assignment')\n",
    "\n",
    "# Close the connection\n",
    "mydb.close()"
   ]
  },
  {
   "cell_type": "code",
   "execution_count": 3,
   "id": "118559fe",
   "metadata": {},
   "outputs": [],
   "source": [
    "# Connect to the MySQL server with provided credentials and select the 'assignment' database\n",
    "mydb = mysql.connector.connect(\n",
    "    host='localhost',      # Specify the host (in this case, localhost)\n",
    "    user='root',           # Specify the MySQL user (in this case, root)\n",
    "    password='Mmbsaksd7736@',  # Specify the password for the user\n",
    "    database='assignment'   # Specify the database to connect to (in this case, 'assignment')\n",
    ")\n",
    "\n",
    "# Create a cursor to interact with the database\n",
    "mycursor = mydb.cursor()"
   ]
  },
  {
   "cell_type": "code",
   "execution_count": 4,
   "id": "5eb20911",
   "metadata": {},
   "outputs": [],
   "source": [
    "# Execute the 'SHOW TABLES' query to retrieve the list of tables\n",
    "mycursor.execute('SHOW TABLES')\n",
    "\n",
    "# Iterate through the result set and print each table\n",
    "for table in mycursor:\n",
    "    print(table)"
   ]
  },
  {
   "cell_type": "code",
   "execution_count": 5,
   "id": "15d9c60a",
   "metadata": {},
   "outputs": [],
   "source": [
    "# SQL query to create the 'employee' table\n",
    "query1 = '''CREATE TABLE employee(\n",
    "    emp_id INT PRIMARY KEY,\n",
    "    fname VARCHAR(20) NOT NULL,\n",
    "    lname VARCHAR(20) NOT NULL,\n",
    "    age INT NOT NULL,\n",
    "    gender VARCHAR(20) NOT NULL,\n",
    "    salary INT NOT NULL,\n",
    "    city VARCHAR(20) NOT NULL,\n",
    "    dept VARCHAR(20) NOT NULL\n",
    ")'''\n",
    "\n",
    "# Execute the CREATE TABLE query\n",
    "mycursor.execute(query1)\n"
   ]
  },
  {
   "cell_type": "code",
   "execution_count": 6,
   "id": "6a06efe3",
   "metadata": {},
   "outputs": [
    {
     "name": "stdout",
     "output_type": "stream",
     "text": [
      "('employee',)\n"
     ]
    }
   ],
   "source": [
    "# Execute the 'SHOW TABLES' query to retrieve the list of tables\n",
    "mycursor.execute('SHOW TABLES')\n",
    "\n",
    "# Iterate through the result set and print each table\n",
    "for table in mycursor:\n",
    "    print(table)"
   ]
  },
  {
   "cell_type": "code",
   "execution_count": 7,
   "id": "b8ef5cfc",
   "metadata": {},
   "outputs": [],
   "source": [
    "# SQL query to create the 'dept' table\n",
    "query2 = '''CREATE TABLE dept(\n",
    "    dept_id INT PRIMARY KEY,\n",
    "    dept_name VARCHAR(20) NOT NULL,\n",
    "    UNIQUE(dept_name)\n",
    ")'''\n",
    "\n",
    "# Execute the CREATE TABLE query\n",
    "mycursor.execute(query2)"
   ]
  },
  {
   "cell_type": "code",
   "execution_count": 8,
   "id": "eb0380d3",
   "metadata": {},
   "outputs": [],
   "source": [
    "# Sample data to insert\n",
    "data_to_insert = (1, 'John', 'Doe', 30, 'Male', 50000, 'New York', 'IT')\n",
    "\n",
    "# SQL query to insert data into the 'employee' table\n",
    "data_insert_query = \"INSERT INTO employee(emp_id, fname, lname, age, gender, salary, city, dept) VALUES (%s, %s, %s, %s, %s, %s, %s, %s);\"\n",
    "\n",
    "# Execute the INSERT query with the provided data\n",
    "mycursor.execute(data_insert_query, data_to_insert)\n",
    "\n",
    "# Commit the changes to the database\n",
    "mydb.commit()\n"
   ]
  },
  {
   "cell_type": "code",
   "execution_count": 10,
   "id": "a7a53401",
   "metadata": {},
   "outputs": [
    {
     "name": "stdout",
     "output_type": "stream",
     "text": [
      "(1, 'John', 'Doe', 30, 'Male', 50000, 'New York', 'IT')\n"
     ]
    }
   ],
   "source": [
    "# SQL query to select all rows from the 'employee' table\n",
    "query3 = \"SELECT * FROM employee\"\n",
    "\n",
    "# Execute the SELECT query\n",
    "mycursor.execute(query3)\n",
    "\n",
    "# Iterate through the result set and print each row\n",
    "for row in mycursor:\n",
    "    print(row)\n"
   ]
  },
  {
   "cell_type": "code",
   "execution_count": 11,
   "id": "56e3ad3d",
   "metadata": {},
   "outputs": [],
   "source": [
    "# Sample data to insert\n",
    "data_to_insert_many = [\n",
    "    (2, 'Jane', 'Doe', 25, 'Female', 45000, 'Los Angeles', 'HR'),\n",
    "    (3, 'Bob', 'Smith', 35, 'Male', 60000, 'Chicago', 'Finance'),\n",
    "    (4, 'Alice', 'Johnson', 28, 'Female', 55000, 'Seattle', 'Marketing'),\n",
    "    (5, 'Charlie', 'Brown', 32, 'Male', 60000, 'San Francisco', 'IT'),\n",
    "    (6, 'Eva', 'Williams', 29, 'Female', 52000, 'Boston', 'HR'),\n",
    "    (7, 'David', 'Miller', 45, 'Male', 75000, 'Austin', 'Finance'),\n",
    "    \n",
    "]\n",
    "\n",
    "# SQL query to insert data\n",
    "insert_query_for_many = \"INSERT INTO employee (emp_id, fname, lname, age, gender, salary, city, dept) VALUES (%s, %s, %s, %s, %s, %s, %s, %s);\"\n",
    "\n",
    "# Execute the INSERT query for all rows of data\n",
    "mycursor.executemany(insert_query_for_many, data_to_insert_many)\n",
    "\n",
    "# Commit the changes\n",
    "mydb.commit()\n"
   ]
  },
  {
   "cell_type": "code",
   "execution_count": 12,
   "id": "d7f8ba39",
   "metadata": {},
   "outputs": [
    {
     "name": "stdout",
     "output_type": "stream",
     "text": [
      "(1, 'John', 'Doe', 30, 'Male', 50000, 'New York', 'IT')\n",
      "(2, 'Jane', 'Doe', 25, 'Female', 45000, 'Los Angeles', 'HR')\n",
      "(3, 'Bob', 'Smith', 35, 'Male', 60000, 'Chicago', 'Finance')\n",
      "(4, 'Alice', 'Johnson', 28, 'Female', 55000, 'Seattle', 'Marketing')\n",
      "(5, 'Charlie', 'Brown', 32, 'Male', 60000, 'San Francisco', 'IT')\n",
      "(6, 'Eva', 'Williams', 29, 'Female', 52000, 'Boston', 'HR')\n",
      "(7, 'David', 'Miller', 45, 'Male', 75000, 'Austin', 'Finance')\n"
     ]
    }
   ],
   "source": [
    "# SQL query to select all rows from the 'employee' table\n",
    "query3 = \"SELECT * FROM employee\"\n",
    "\n",
    "# Execute the SELECT query\n",
    "mycursor.execute(query3)\n",
    "\n",
    "# Iterate through the result set and print each row\n",
    "for row in mycursor:\n",
    "    print(row)"
   ]
  },
  {
   "cell_type": "code",
   "execution_count": 12,
   "id": "2d535d0b",
   "metadata": {},
   "outputs": [
    {
     "name": "stdout",
     "output_type": "stream",
     "text": [
      "(Decimal('397000'),)\n"
     ]
    }
   ],
   "source": [
    "query3 = \"SELECT SUM(salary) FROM employee\"\n",
    "\n",
    "# Execute the SELECT query\n",
    "mycursor.execute(query3)\n",
    "\n",
    "# Iterate through the result set and print each row\n",
    "for row in mycursor:\n",
    "    print(row)"
   ]
  },
  {
   "cell_type": "code",
   "execution_count": 13,
   "id": "292387b0",
   "metadata": {},
   "outputs": [],
   "source": [
    "# SQL query to update the 'salary' for the employee with 'emp_id' equal to 1\n",
    "query4 = \"UPDATE employee SET salary = %s WHERE emp_id = %s;\"\n",
    "\n",
    "# Data for the UPDATE query\n",
    "update_salary_data = (84000, 1)\n",
    "\n",
    "# Execute the UPDATE query with the provided data\n",
    "mycursor.execute(query4, update_salary_data)\n",
    "\n",
    "# Commit the changes to the database\n",
    "mydb.commit()"
   ]
  },
  {
   "cell_type": "code",
   "execution_count": 14,
   "id": "9a1a927d",
   "metadata": {},
   "outputs": [
    {
     "name": "stdout",
     "output_type": "stream",
     "text": [
      "(1, 'John', 'Doe', 30, 'Male', 84000, 'New York', 'IT')\n",
      "(2, 'Jane', 'Doe', 25, 'Female', 45000, 'Los Angeles', 'HR')\n",
      "(3, 'Bob', 'Smith', 35, 'Male', 60000, 'Chicago', 'Finance')\n",
      "(4, 'Alice', 'Johnson', 28, 'Female', 55000, 'Seattle', 'Marketing')\n",
      "(5, 'Charlie', 'Brown', 32, 'Male', 60000, 'San Francisco', 'IT')\n",
      "(6, 'Eva', 'Williams', 29, 'Female', 52000, 'Boston', 'HR')\n",
      "(7, 'David', 'Miller', 45, 'Male', 75000, 'Austin', 'Finance')\n"
     ]
    }
   ],
   "source": [
    "# SQL query to select all rows from the 'employee' table\n",
    "query3 = \"SELECT * FROM employee\"\n",
    "\n",
    "# Execute the SELECT query\n",
    "mycursor.execute(query3)\n",
    "\n",
    "# Iterate through the result set and print each row\n",
    "for row in mycursor:\n",
    "    print(row)"
   ]
  },
  {
   "cell_type": "code",
   "execution_count": 15,
   "id": "e43e0cd3",
   "metadata": {},
   "outputs": [],
   "source": [
    "# SQL query to delete the employee with 'emp_id' equal to 7\n",
    "query5 = \"DELETE FROM employee WHERE emp_id = %s\"\n",
    "\n",
    "# Data for the DELETE query\n",
    "delete_data = (7,)\n",
    "\n",
    "# Execute the DELETE query with the provided data\n",
    "mycursor.execute(query5, delete_data)\n",
    "\n",
    "# Commit the changes to the database\n",
    "mydb.commit()"
   ]
  },
  {
   "cell_type": "code",
   "execution_count": 16,
   "id": "51a78e2d",
   "metadata": {},
   "outputs": [
    {
     "name": "stdout",
     "output_type": "stream",
     "text": [
      "(1, 'John', 'Doe', 30, 'Male', 84000, 'New York', 'IT')\n",
      "(2, 'Jane', 'Doe', 25, 'Female', 45000, 'Los Angeles', 'HR')\n",
      "(3, 'Bob', 'Smith', 35, 'Male', 60000, 'Chicago', 'Finance')\n",
      "(4, 'Alice', 'Johnson', 28, 'Female', 55000, 'Seattle', 'Marketing')\n",
      "(5, 'Charlie', 'Brown', 32, 'Male', 60000, 'San Francisco', 'IT')\n",
      "(6, 'Eva', 'Williams', 29, 'Female', 52000, 'Boston', 'HR')\n"
     ]
    }
   ],
   "source": [
    "# SQL query to select all rows from the 'employee' table\n",
    "query3 = \"SELECT * FROM employee\"\n",
    "\n",
    "# Execute the SELECT query\n",
    "mycursor.execute(query3)\n",
    "\n",
    "# Iterate through the result set and print each row\n",
    "for row in mycursor:\n",
    "    print(row)"
   ]
  },
  {
   "cell_type": "code",
   "execution_count": 17,
   "id": "461bc7f4",
   "metadata": {},
   "outputs": [],
   "source": [
    "mycursor.execute('DROP DATABASE Assignment')\n"
   ]
  }
 ],
 "metadata": {
  "kernelspec": {
   "display_name": "Python 3 (ipykernel)",
   "language": "python",
   "name": "python3"
  },
  "language_info": {
   "codemirror_mode": {
    "name": "ipython",
    "version": 3
   },
   "file_extension": ".py",
   "mimetype": "text/x-python",
   "name": "python",
   "nbconvert_exporter": "python",
   "pygments_lexer": "ipython3",
   "version": "3.11.4"
  }
 },
 "nbformat": 4,
 "nbformat_minor": 5
}
