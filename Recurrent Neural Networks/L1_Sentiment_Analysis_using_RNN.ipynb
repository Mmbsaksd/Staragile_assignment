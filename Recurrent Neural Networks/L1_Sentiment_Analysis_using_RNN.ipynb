{
  "nbformat": 4,
  "nbformat_minor": 0,
  "metadata": {
    "colab": {
      "provenance": []
    },
    "kernelspec": {
      "name": "python3",
      "display_name": "Python 3"
    },
    "language_info": {
      "name": "python"
    }
  },
  "cells": [
    {
      "cell_type": "code",
      "execution_count": null,
      "metadata": {
        "colab": {
          "base_uri": "https://localhost:8080/"
        },
        "id": "fEsProcQ6C7q",
        "outputId": "05ccc8d2-c5ac-4d1f-e883-771825c72690"
      },
      "outputs": [
        {
          "output_type": "stream",
          "name": "stdout",
          "text": [
            "Drive already mounted at /content/drive; to attempt to forcibly remount, call drive.mount(\"/content/drive\", force_remount=True).\n"
          ]
        }
      ],
      "source": [
        "from google.colab import drive\n",
        "drive.mount('/content/drive')"
      ]
    },
    {
      "cell_type": "code",
      "source": [
        "import pandas as pd\n",
        "import numpy as np\n",
        "import tensorflow as tf\n",
        "from tensorflow.keras.preprocessing.text import Tokenizer\n",
        "from tensorflow.keras.preprocessing.sequence import pad_sequences\n",
        "from tensorflow.keras.models import Sequential\n",
        "from tensorflow.keras.layers import Embedding, LSTM, Dense"
      ],
      "metadata": {
        "id": "4ZyHQ5Yc8v2C"
      },
      "execution_count": null,
      "outputs": []
    },
    {
      "cell_type": "code",
      "source": [
        "df = pd.read_csv(\"/content/drive/MyDrive/Copy of movie.csv\")\n",
        "print(\"Shape of the dataset:\", df.shape)\n",
        "print(\"Sample data:\")\n"
      ],
      "metadata": {
        "colab": {
          "base_uri": "https://localhost:8080/"
        },
        "id": "YENsyRlg64bF",
        "outputId": "5092a609-ca88-44a6-c432-c65b45e17a74"
      },
      "execution_count": null,
      "outputs": [
        {
          "output_type": "stream",
          "name": "stdout",
          "text": [
            "Shape of the dataset: (40000, 2)\n",
            "Sample data:\n"
          ]
        }
      ]
    },
    {
      "cell_type": "code",
      "source": [
        "df.head()"
      ],
      "metadata": {
        "colab": {
          "base_uri": "https://localhost:8080/",
          "height": 206
        },
        "id": "-Ampri4z85Sp",
        "outputId": "816ddf83-6586-418a-8f1a-2d1ab97cd420"
      },
      "execution_count": null,
      "outputs": [
        {
          "output_type": "execute_result",
          "data": {
            "text/plain": [
              "                                                text  label\n",
              "0  I grew up (b. 1965) watching and loving the Th...      0\n",
              "1  When I put this movie in my DVD player, and sa...      0\n",
              "2  Why do people who do not know what a particula...      0\n",
              "3  Even though I have great interest in Biblical ...      0\n",
              "4  Im a die hard Dads Army fan and nothing will e...      1"
            ],
            "text/html": [
              "\n",
              "  <div id=\"df-19fb6cc5-7b08-43fe-aaca-33d5707e5eb4\" class=\"colab-df-container\">\n",
              "    <div>\n",
              "<style scoped>\n",
              "    .dataframe tbody tr th:only-of-type {\n",
              "        vertical-align: middle;\n",
              "    }\n",
              "\n",
              "    .dataframe tbody tr th {\n",
              "        vertical-align: top;\n",
              "    }\n",
              "\n",
              "    .dataframe thead th {\n",
              "        text-align: right;\n",
              "    }\n",
              "</style>\n",
              "<table border=\"1\" class=\"dataframe\">\n",
              "  <thead>\n",
              "    <tr style=\"text-align: right;\">\n",
              "      <th></th>\n",
              "      <th>text</th>\n",
              "      <th>label</th>\n",
              "    </tr>\n",
              "  </thead>\n",
              "  <tbody>\n",
              "    <tr>\n",
              "      <th>0</th>\n",
              "      <td>I grew up (b. 1965) watching and loving the Th...</td>\n",
              "      <td>0</td>\n",
              "    </tr>\n",
              "    <tr>\n",
              "      <th>1</th>\n",
              "      <td>When I put this movie in my DVD player, and sa...</td>\n",
              "      <td>0</td>\n",
              "    </tr>\n",
              "    <tr>\n",
              "      <th>2</th>\n",
              "      <td>Why do people who do not know what a particula...</td>\n",
              "      <td>0</td>\n",
              "    </tr>\n",
              "    <tr>\n",
              "      <th>3</th>\n",
              "      <td>Even though I have great interest in Biblical ...</td>\n",
              "      <td>0</td>\n",
              "    </tr>\n",
              "    <tr>\n",
              "      <th>4</th>\n",
              "      <td>Im a die hard Dads Army fan and nothing will e...</td>\n",
              "      <td>1</td>\n",
              "    </tr>\n",
              "  </tbody>\n",
              "</table>\n",
              "</div>\n",
              "    <div class=\"colab-df-buttons\">\n",
              "\n",
              "  <div class=\"colab-df-container\">\n",
              "    <button class=\"colab-df-convert\" onclick=\"convertToInteractive('df-19fb6cc5-7b08-43fe-aaca-33d5707e5eb4')\"\n",
              "            title=\"Convert this dataframe to an interactive table.\"\n",
              "            style=\"display:none;\">\n",
              "\n",
              "  <svg xmlns=\"http://www.w3.org/2000/svg\" height=\"24px\" viewBox=\"0 -960 960 960\">\n",
              "    <path d=\"M120-120v-720h720v720H120Zm60-500h600v-160H180v160Zm220 220h160v-160H400v160Zm0 220h160v-160H400v160ZM180-400h160v-160H180v160Zm440 0h160v-160H620v160ZM180-180h160v-160H180v160Zm440 0h160v-160H620v160Z\"/>\n",
              "  </svg>\n",
              "    </button>\n",
              "\n",
              "  <style>\n",
              "    .colab-df-container {\n",
              "      display:flex;\n",
              "      gap: 12px;\n",
              "    }\n",
              "\n",
              "    .colab-df-convert {\n",
              "      background-color: #E8F0FE;\n",
              "      border: none;\n",
              "      border-radius: 50%;\n",
              "      cursor: pointer;\n",
              "      display: none;\n",
              "      fill: #1967D2;\n",
              "      height: 32px;\n",
              "      padding: 0 0 0 0;\n",
              "      width: 32px;\n",
              "    }\n",
              "\n",
              "    .colab-df-convert:hover {\n",
              "      background-color: #E2EBFA;\n",
              "      box-shadow: 0px 1px 2px rgba(60, 64, 67, 0.3), 0px 1px 3px 1px rgba(60, 64, 67, 0.15);\n",
              "      fill: #174EA6;\n",
              "    }\n",
              "\n",
              "    .colab-df-buttons div {\n",
              "      margin-bottom: 4px;\n",
              "    }\n",
              "\n",
              "    [theme=dark] .colab-df-convert {\n",
              "      background-color: #3B4455;\n",
              "      fill: #D2E3FC;\n",
              "    }\n",
              "\n",
              "    [theme=dark] .colab-df-convert:hover {\n",
              "      background-color: #434B5C;\n",
              "      box-shadow: 0px 1px 3px 1px rgba(0, 0, 0, 0.15);\n",
              "      filter: drop-shadow(0px 1px 2px rgba(0, 0, 0, 0.3));\n",
              "      fill: #FFFFFF;\n",
              "    }\n",
              "  </style>\n",
              "\n",
              "    <script>\n",
              "      const buttonEl =\n",
              "        document.querySelector('#df-19fb6cc5-7b08-43fe-aaca-33d5707e5eb4 button.colab-df-convert');\n",
              "      buttonEl.style.display =\n",
              "        google.colab.kernel.accessAllowed ? 'block' : 'none';\n",
              "\n",
              "      async function convertToInteractive(key) {\n",
              "        const element = document.querySelector('#df-19fb6cc5-7b08-43fe-aaca-33d5707e5eb4');\n",
              "        const dataTable =\n",
              "          await google.colab.kernel.invokeFunction('convertToInteractive',\n",
              "                                                    [key], {});\n",
              "        if (!dataTable) return;\n",
              "\n",
              "        const docLinkHtml = 'Like what you see? Visit the ' +\n",
              "          '<a target=\"_blank\" href=https://colab.research.google.com/notebooks/data_table.ipynb>data table notebook</a>'\n",
              "          + ' to learn more about interactive tables.';\n",
              "        element.innerHTML = '';\n",
              "        dataTable['output_type'] = 'display_data';\n",
              "        await google.colab.output.renderOutput(dataTable, element);\n",
              "        const docLink = document.createElement('div');\n",
              "        docLink.innerHTML = docLinkHtml;\n",
              "        element.appendChild(docLink);\n",
              "      }\n",
              "    </script>\n",
              "  </div>\n",
              "\n",
              "\n",
              "<div id=\"df-8f6b0f12-2c04-4f6b-9fa0-23135b1fb2a8\">\n",
              "  <button class=\"colab-df-quickchart\" onclick=\"quickchart('df-8f6b0f12-2c04-4f6b-9fa0-23135b1fb2a8')\"\n",
              "            title=\"Suggest charts\"\n",
              "            style=\"display:none;\">\n",
              "\n",
              "<svg xmlns=\"http://www.w3.org/2000/svg\" height=\"24px\"viewBox=\"0 0 24 24\"\n",
              "     width=\"24px\">\n",
              "    <g>\n",
              "        <path d=\"M19 3H5c-1.1 0-2 .9-2 2v14c0 1.1.9 2 2 2h14c1.1 0 2-.9 2-2V5c0-1.1-.9-2-2-2zM9 17H7v-7h2v7zm4 0h-2V7h2v10zm4 0h-2v-4h2v4z\"/>\n",
              "    </g>\n",
              "</svg>\n",
              "  </button>\n",
              "\n",
              "<style>\n",
              "  .colab-df-quickchart {\n",
              "      --bg-color: #E8F0FE;\n",
              "      --fill-color: #1967D2;\n",
              "      --hover-bg-color: #E2EBFA;\n",
              "      --hover-fill-color: #174EA6;\n",
              "      --disabled-fill-color: #AAA;\n",
              "      --disabled-bg-color: #DDD;\n",
              "  }\n",
              "\n",
              "  [theme=dark] .colab-df-quickchart {\n",
              "      --bg-color: #3B4455;\n",
              "      --fill-color: #D2E3FC;\n",
              "      --hover-bg-color: #434B5C;\n",
              "      --hover-fill-color: #FFFFFF;\n",
              "      --disabled-bg-color: #3B4455;\n",
              "      --disabled-fill-color: #666;\n",
              "  }\n",
              "\n",
              "  .colab-df-quickchart {\n",
              "    background-color: var(--bg-color);\n",
              "    border: none;\n",
              "    border-radius: 50%;\n",
              "    cursor: pointer;\n",
              "    display: none;\n",
              "    fill: var(--fill-color);\n",
              "    height: 32px;\n",
              "    padding: 0;\n",
              "    width: 32px;\n",
              "  }\n",
              "\n",
              "  .colab-df-quickchart:hover {\n",
              "    background-color: var(--hover-bg-color);\n",
              "    box-shadow: 0 1px 2px rgba(60, 64, 67, 0.3), 0 1px 3px 1px rgba(60, 64, 67, 0.15);\n",
              "    fill: var(--button-hover-fill-color);\n",
              "  }\n",
              "\n",
              "  .colab-df-quickchart-complete:disabled,\n",
              "  .colab-df-quickchart-complete:disabled:hover {\n",
              "    background-color: var(--disabled-bg-color);\n",
              "    fill: var(--disabled-fill-color);\n",
              "    box-shadow: none;\n",
              "  }\n",
              "\n",
              "  .colab-df-spinner {\n",
              "    border: 2px solid var(--fill-color);\n",
              "    border-color: transparent;\n",
              "    border-bottom-color: var(--fill-color);\n",
              "    animation:\n",
              "      spin 1s steps(1) infinite;\n",
              "  }\n",
              "\n",
              "  @keyframes spin {\n",
              "    0% {\n",
              "      border-color: transparent;\n",
              "      border-bottom-color: var(--fill-color);\n",
              "      border-left-color: var(--fill-color);\n",
              "    }\n",
              "    20% {\n",
              "      border-color: transparent;\n",
              "      border-left-color: var(--fill-color);\n",
              "      border-top-color: var(--fill-color);\n",
              "    }\n",
              "    30% {\n",
              "      border-color: transparent;\n",
              "      border-left-color: var(--fill-color);\n",
              "      border-top-color: var(--fill-color);\n",
              "      border-right-color: var(--fill-color);\n",
              "    }\n",
              "    40% {\n",
              "      border-color: transparent;\n",
              "      border-right-color: var(--fill-color);\n",
              "      border-top-color: var(--fill-color);\n",
              "    }\n",
              "    60% {\n",
              "      border-color: transparent;\n",
              "      border-right-color: var(--fill-color);\n",
              "    }\n",
              "    80% {\n",
              "      border-color: transparent;\n",
              "      border-right-color: var(--fill-color);\n",
              "      border-bottom-color: var(--fill-color);\n",
              "    }\n",
              "    90% {\n",
              "      border-color: transparent;\n",
              "      border-bottom-color: var(--fill-color);\n",
              "    }\n",
              "  }\n",
              "</style>\n",
              "\n",
              "  <script>\n",
              "    async function quickchart(key) {\n",
              "      const quickchartButtonEl =\n",
              "        document.querySelector('#' + key + ' button');\n",
              "      quickchartButtonEl.disabled = true;  // To prevent multiple clicks.\n",
              "      quickchartButtonEl.classList.add('colab-df-spinner');\n",
              "      try {\n",
              "        const charts = await google.colab.kernel.invokeFunction(\n",
              "            'suggestCharts', [key], {});\n",
              "      } catch (error) {\n",
              "        console.error('Error during call to suggestCharts:', error);\n",
              "      }\n",
              "      quickchartButtonEl.classList.remove('colab-df-spinner');\n",
              "      quickchartButtonEl.classList.add('colab-df-quickchart-complete');\n",
              "    }\n",
              "    (() => {\n",
              "      let quickchartButtonEl =\n",
              "        document.querySelector('#df-8f6b0f12-2c04-4f6b-9fa0-23135b1fb2a8 button');\n",
              "      quickchartButtonEl.style.display =\n",
              "        google.colab.kernel.accessAllowed ? 'block' : 'none';\n",
              "    })();\n",
              "  </script>\n",
              "</div>\n",
              "\n",
              "    </div>\n",
              "  </div>\n"
            ],
            "application/vnd.google.colaboratory.intrinsic+json": {
              "type": "dataframe",
              "variable_name": "df",
              "summary": "{\n  \"name\": \"df\",\n  \"rows\": 40000,\n  \"fields\": [\n    {\n      \"column\": \"text\",\n      \"properties\": {\n        \"dtype\": \"string\",\n        \"num_unique_values\": 39723,\n        \"samples\": [\n          \"There are similarities between Ray Lawrence's \\\"Jindabyne\\\" and his last movie \\\"Lantana\\\" \\u0096 a dead body and its repercussions for already dysfunctional lives. But whereas \\\"Lantana\\\" offered some hope and resolution, \\\"Jindabyne\\\" leaves everything unresolved in a bleak way that will leave most viewers unsatisfied, perhaps even cheated.<br /><br />The storyline - the aftermath of a fisherman's discovery of a corpse floating in a remote river - is based on a short story by Raymond Carver. It became an element in Robert Altman's classic 1993 ensemble \\\"Short Cuts\\\". Lawrence uses this theme for an exploration and exposition of relationships within a small Australian community under stress. The movie poses some moral questions \\\"Would you let the discovery of a dead body ruin your good weekend?\\\" and more poignantly for Australians \\\"Would it make any difference if the dead person was an aboriginal?\\\" The acting, especially by Gabriel Byrne and Laura Linney, is commendable. And there are elements of mysticism reinforced by haunting music, not unlike \\\"Picnic at Hanging Rock\\\".<br /><br />If all this sounds like the basis for a great movie - be prepared for a let down, the pace is very slow and the murder is shown near the beginning, thereby eliminating the element of mystery. And so we are left with these desolate lives and a blank finale.\",\n          \"Hammer House of Horror: Witching Time is set in rural England on Woodstock farm where stressed musician David Winter (Jon Finch) lives with his actress wife Mary (Prunella Gee) & is currently composing the music for a horror film. One night while looking for his dog Billy David finds a mysterious woman in his barn, calling herself Lucinda Jessop (Patricia Quinn) she claims to be a witch who has transported herself from 300 years in the past to now. Obviously rather sceptical David has a hard time believing her so he locks her in a room in his farmhouse & calls his doctor Charles (Ian McCulloch) to come examine her, however once he arrives & they enter the room Lucinda has disappeared. Charles puts it down to David drinking too much but over the next few day strange & disturbing things begin to happen to David & Mary...<br /><br />Witching Time was episode 1 from the short lived British anthology horror series produced by Hammer studios for TV & originally aired here in the UK during September 1980, the first of two Hammer House of Horror episodes to be directed by Don Leaver (episode 13 The Mark of Satan being the other) I actually rather liked this. As a series Hammer House of Horror dealt with various different themes & were all unconnected to each other except in name & unsurprisingly Watching Time is a sinister & effective little tale about a witch, the script by Anthony Read benefits from it's slight 50 odd minute duration & moves along at a nice pace. The character's are pretty good as is the dialogue, there are some nice scenes here & I liked the way it never quite reveals whether David & Mary are going crazy or not. I think it's a well structured, entertaining & reasonably creepy horror themed TV show that I enjoyed more than I thought I would.<br /><br />Being made for British TV meant the boys at Hammer had a lower budget than usual, if that was even possible, & as such there is no gorgeous period settings here as in their most well know Frankenstein & Dracula films although the contemporary English setting does give it a certain atmosphere that you can relate to a bit more. Another TV based restriction is that the exploitation levels are lower than you might hope for, there's some nudity & gore but not much although I didn't mind too much as the story here is pretty good. It's well made for what it is & Hammer's experience on their feature films probably helped make these look pretty good, the acting is good as well with genre favourite Ian McCulloch making a bit-part appearance.<br /><br />Witching Time is a good start to the Hammer House of Horror series, as a 50 minute piece of British TV it's pretty damned good, now why don't they make show's like this over here anymore?\",\n          \"What a great cast for this movie. The timing was excellent and there were so many clever lines-several times I was still laughing minutes after they were delivered. I found Manna From Heaven to have some surprising moments and while there were things I was thinking would happen, the way they came together was anything but predictable. This movie is about hope and righting wrongs. I left the theater feeling inspired to do the right thing. Bravo to the Five Sisters.\"\n        ],\n        \"semantic_type\": \"\",\n        \"description\": \"\"\n      }\n    },\n    {\n      \"column\": \"label\",\n      \"properties\": {\n        \"dtype\": \"number\",\n        \"std\": 0,\n        \"min\": 0,\n        \"max\": 1,\n        \"num_unique_values\": 2,\n        \"samples\": [\n          1,\n          0\n        ],\n        \"semantic_type\": \"\",\n        \"description\": \"\"\n      }\n    }\n  ]\n}"
            }
          },
          "metadata": {},
          "execution_count": 20
        }
      ]
    },
    {
      "cell_type": "code",
      "source": [
        "# Step 3: Exploratory Data Analysis (EDA)\n",
        "positive_reviews = df[df['label'] == 1]['text']\n",
        "negative_reviews = df[df['label'] == 0]['text']"
      ],
      "metadata": {
        "id": "zm3ug1SzVP1f"
      },
      "execution_count": null,
      "outputs": []
    },
    {
      "cell_type": "code",
      "source": [
        "print(\"Number of positive reviews:\", len(positive_reviews))\n",
        "print(\"Number of negative reviews:\", len(negative_reviews))"
      ],
      "metadata": {
        "colab": {
          "base_uri": "https://localhost:8080/"
        },
        "id": "42PCrNdkXzOl",
        "outputId": "63fb23ab-fc95-4dfe-aeaf-4ba6b681fa15"
      },
      "execution_count": null,
      "outputs": [
        {
          "output_type": "stream",
          "name": "stdout",
          "text": [
            "Number of positive reviews: 19981\n",
            "Number of negative reviews: 20019\n"
          ]
        }
      ]
    },
    {
      "cell_type": "code",
      "source": [
        "from sklearn.model_selection import train_test_split\n",
        "X_train, X_test, y_train, y_test = train_test_split(df['text'], df['label'], test_size=0.2, random_state=42)\n"
      ],
      "metadata": {
        "id": "ICrcxYMdX3yU"
      },
      "execution_count": null,
      "outputs": []
    },
    {
      "cell_type": "code",
      "source": [
        "tokenizer = Tokenizer(num_words=10000, oov_token='<OOV>')\n",
        "tokenizer.fit_on_texts(X_train)"
      ],
      "metadata": {
        "id": "v52HlPwbX-Sk"
      },
      "execution_count": null,
      "outputs": []
    },
    {
      "cell_type": "code",
      "source": [
        "X_train_seq = tokenizer.texts_to_sequences(X_train)\n",
        "X_test_seq = tokenizer.texts_to_sequences(X_test)"
      ],
      "metadata": {
        "id": "dsyHQFckYLSz"
      },
      "execution_count": null,
      "outputs": []
    },
    {
      "cell_type": "code",
      "source": [
        "max_len = 100\n",
        "X_train_padded = pad_sequences(X_train_seq, maxlen=max_len, padding='post', truncating='post')\n",
        "X_test_padded = pad_sequences(X_test_seq, maxlen=max_len, padding='post', truncating='post')\n"
      ],
      "metadata": {
        "id": "O8VMPNXvYQzD"
      },
      "execution_count": null,
      "outputs": []
    },
    {
      "cell_type": "code",
      "source": [
        "# Step 6: Building the RNN Model\n",
        "model = Sequential([\n",
        "    Embedding(input_dim=10000, output_dim=32, input_length=max_len),\n",
        "    LSTM(units=32),\n",
        "    Dense(units=1, activation='sigmoid')\n",
        "])\n",
        "\n",
        "model.summary()"
      ],
      "metadata": {
        "colab": {
          "base_uri": "https://localhost:8080/"
        },
        "id": "rbfNxQwacCco",
        "outputId": "0ddcae62-fbda-46bf-c02a-fe6e61b48247"
      },
      "execution_count": null,
      "outputs": [
        {
          "output_type": "stream",
          "name": "stdout",
          "text": [
            "Model: \"sequential_1\"\n",
            "_________________________________________________________________\n",
            " Layer (type)                Output Shape              Param #   \n",
            "=================================================================\n",
            " embedding_1 (Embedding)     (None, 100, 32)           320000    \n",
            "                                                                 \n",
            " lstm_1 (LSTM)               (None, 32)                8320      \n",
            "                                                                 \n",
            " dense_1 (Dense)             (None, 1)                 33        \n",
            "                                                                 \n",
            "=================================================================\n",
            "Total params: 328353 (1.25 MB)\n",
            "Trainable params: 328353 (1.25 MB)\n",
            "Non-trainable params: 0 (0.00 Byte)\n",
            "_________________________________________________________________\n"
          ]
        }
      ]
    },
    {
      "cell_type": "code",
      "source": [
        "\n",
        "model.compile(\n",
        "    optimizer='adam',\n",
        "    loss='binary_crossentropy',\n",
        "    metrics=['accuracy']\n",
        ")\n"
      ],
      "metadata": {
        "id": "nu26L0x6cMWI"
      },
      "execution_count": null,
      "outputs": []
    },
    {
      "cell_type": "code",
      "source": [
        "history = model.fit(\n",
        "    X_train_padded,\n",
        "    y_train, epochs=50,\n",
        "    batch_size=128,\n",
        "    validation_split=0.2\n",
        ")"
      ],
      "metadata": {
        "colab": {
          "base_uri": "https://localhost:8080/"
        },
        "id": "yP-I5TDkcXDI",
        "outputId": "acec4bee-db15-4a33-8bba-3b4423b8e13b"
      },
      "execution_count": null,
      "outputs": [
        {
          "output_type": "stream",
          "name": "stdout",
          "text": [
            "Epoch 1/50\n",
            "200/200 [==============================] - 13s 66ms/step - loss: 0.4771 - accuracy: 0.7695 - val_loss: 0.3871 - val_accuracy: 0.8288\n",
            "Epoch 2/50\n",
            "200/200 [==============================] - 6s 31ms/step - loss: 0.3131 - accuracy: 0.8737 - val_loss: 0.3814 - val_accuracy: 0.8314\n",
            "Epoch 3/50\n",
            "200/200 [==============================] - 5s 27ms/step - loss: 0.2583 - accuracy: 0.9006 - val_loss: 0.4105 - val_accuracy: 0.8234\n",
            "Epoch 4/50\n",
            "200/200 [==============================] - 4s 18ms/step - loss: 0.2178 - accuracy: 0.9199 - val_loss: 0.4573 - val_accuracy: 0.8173\n",
            "Epoch 5/50\n",
            "200/200 [==============================] - 3s 13ms/step - loss: 0.1870 - accuracy: 0.9326 - val_loss: 0.5378 - val_accuracy: 0.8105\n",
            "Epoch 6/50\n",
            "200/200 [==============================] - 2s 12ms/step - loss: 0.1539 - accuracy: 0.9468 - val_loss: 0.5173 - val_accuracy: 0.8102\n",
            "Epoch 7/50\n",
            "200/200 [==============================] - 2s 12ms/step - loss: 0.1333 - accuracy: 0.9540 - val_loss: 0.5684 - val_accuracy: 0.8105\n",
            "Epoch 8/50\n",
            "200/200 [==============================] - 3s 14ms/step - loss: 0.1110 - accuracy: 0.9631 - val_loss: 0.6161 - val_accuracy: 0.8108\n",
            "Epoch 9/50\n",
            "200/200 [==============================] - 2s 12ms/step - loss: 0.0953 - accuracy: 0.9694 - val_loss: 0.6440 - val_accuracy: 0.8084\n",
            "Epoch 10/50\n",
            "200/200 [==============================] - 2s 8ms/step - loss: 0.0908 - accuracy: 0.9729 - val_loss: 0.6562 - val_accuracy: 0.8095\n",
            "Epoch 11/50\n",
            "200/200 [==============================] - 2s 10ms/step - loss: 0.0780 - accuracy: 0.9768 - val_loss: 0.7622 - val_accuracy: 0.8016\n",
            "Epoch 12/50\n",
            "200/200 [==============================] - 1s 7ms/step - loss: 0.0708 - accuracy: 0.9783 - val_loss: 0.8124 - val_accuracy: 0.8020\n",
            "Epoch 13/50\n",
            "200/200 [==============================] - 2s 8ms/step - loss: 0.0576 - accuracy: 0.9834 - val_loss: 0.7996 - val_accuracy: 0.7998\n",
            "Epoch 14/50\n",
            "200/200 [==============================] - 2s 10ms/step - loss: 0.0557 - accuracy: 0.9839 - val_loss: 0.9785 - val_accuracy: 0.7995\n",
            "Epoch 15/50\n",
            "200/200 [==============================] - 3s 14ms/step - loss: 0.0468 - accuracy: 0.9877 - val_loss: 0.8932 - val_accuracy: 0.8014\n",
            "Epoch 16/50\n",
            "200/200 [==============================] - 2s 10ms/step - loss: 0.0450 - accuracy: 0.9889 - val_loss: 0.9246 - val_accuracy: 0.7892\n",
            "Epoch 17/50\n",
            "200/200 [==============================] - 2s 9ms/step - loss: 0.0555 - accuracy: 0.9840 - val_loss: 0.8595 - val_accuracy: 0.7909\n",
            "Epoch 18/50\n",
            "200/200 [==============================] - 2s 8ms/step - loss: 0.0346 - accuracy: 0.9914 - val_loss: 0.9939 - val_accuracy: 0.7981\n",
            "Epoch 19/50\n",
            "200/200 [==============================] - 2s 8ms/step - loss: 0.0285 - accuracy: 0.9934 - val_loss: 0.9907 - val_accuracy: 0.7959\n",
            "Epoch 20/50\n",
            "200/200 [==============================] - 2s 8ms/step - loss: 0.0304 - accuracy: 0.9926 - val_loss: 0.9891 - val_accuracy: 0.7956\n",
            "Epoch 21/50\n",
            "200/200 [==============================] - 1s 7ms/step - loss: 0.0221 - accuracy: 0.9952 - val_loss: 1.1087 - val_accuracy: 0.7902\n",
            "Epoch 22/50\n",
            "200/200 [==============================] - 2s 9ms/step - loss: 0.0213 - accuracy: 0.9957 - val_loss: 1.0828 - val_accuracy: 0.7941\n",
            "Epoch 23/50\n",
            "200/200 [==============================] - 2s 11ms/step - loss: 0.0388 - accuracy: 0.9884 - val_loss: 0.9358 - val_accuracy: 0.7947\n",
            "Epoch 24/50\n",
            "200/200 [==============================] - 2s 8ms/step - loss: 0.0273 - accuracy: 0.9928 - val_loss: 1.1179 - val_accuracy: 0.7925\n",
            "Epoch 25/50\n",
            "200/200 [==============================] - 1s 7ms/step - loss: 0.0252 - accuracy: 0.9933 - val_loss: 1.2072 - val_accuracy: 0.7916\n",
            "Epoch 26/50\n",
            "200/200 [==============================] - 2s 8ms/step - loss: 0.0266 - accuracy: 0.9929 - val_loss: 1.0311 - val_accuracy: 0.7919\n",
            "Epoch 27/50\n",
            "200/200 [==============================] - 2s 8ms/step - loss: 0.0183 - accuracy: 0.9961 - val_loss: 1.1929 - val_accuracy: 0.7937\n",
            "Epoch 28/50\n",
            "200/200 [==============================] - 2s 8ms/step - loss: 0.0175 - accuracy: 0.9962 - val_loss: 1.0721 - val_accuracy: 0.7903\n",
            "Epoch 29/50\n",
            "200/200 [==============================] - 2s 9ms/step - loss: 0.0229 - accuracy: 0.9942 - val_loss: 1.1316 - val_accuracy: 0.7917\n",
            "Epoch 30/50\n",
            "200/200 [==============================] - 3s 13ms/step - loss: 0.0147 - accuracy: 0.9962 - val_loss: 1.1589 - val_accuracy: 0.7805\n",
            "Epoch 31/50\n",
            "200/200 [==============================] - 2s 9ms/step - loss: 0.0303 - accuracy: 0.9916 - val_loss: 1.1446 - val_accuracy: 0.7839\n",
            "Epoch 32/50\n",
            "200/200 [==============================] - 2s 11ms/step - loss: 0.0251 - accuracy: 0.9932 - val_loss: 1.2423 - val_accuracy: 0.7878\n",
            "Epoch 33/50\n",
            "200/200 [==============================] - 1s 7ms/step - loss: 0.0126 - accuracy: 0.9973 - val_loss: 1.2210 - val_accuracy: 0.7939\n",
            "Epoch 34/50\n",
            "200/200 [==============================] - 2s 8ms/step - loss: 0.0098 - accuracy: 0.9982 - val_loss: 1.2296 - val_accuracy: 0.7970\n",
            "Epoch 35/50\n",
            "200/200 [==============================] - 1s 7ms/step - loss: 0.0065 - accuracy: 0.9991 - val_loss: 1.2536 - val_accuracy: 0.7905\n",
            "Epoch 36/50\n",
            "200/200 [==============================] - 2s 9ms/step - loss: 0.0229 - accuracy: 0.9934 - val_loss: 1.1221 - val_accuracy: 0.7881\n",
            "Epoch 37/50\n",
            "200/200 [==============================] - 2s 9ms/step - loss: 0.0229 - accuracy: 0.9934 - val_loss: 1.2787 - val_accuracy: 0.7956\n",
            "Epoch 38/50\n",
            "200/200 [==============================] - 2s 10ms/step - loss: 0.0198 - accuracy: 0.9950 - val_loss: 1.0825 - val_accuracy: 0.7877\n",
            "Epoch 39/50\n",
            "200/200 [==============================] - 2s 9ms/step - loss: 0.0163 - accuracy: 0.9959 - val_loss: 1.1835 - val_accuracy: 0.7978\n",
            "Epoch 40/50\n",
            "200/200 [==============================] - 1s 7ms/step - loss: 0.0117 - accuracy: 0.9973 - val_loss: 1.2291 - val_accuracy: 0.7989\n",
            "Epoch 41/50\n",
            "200/200 [==============================] - 2s 8ms/step - loss: 0.0108 - accuracy: 0.9977 - val_loss: 1.1117 - val_accuracy: 0.7859\n",
            "Epoch 42/50\n",
            "200/200 [==============================] - 1s 7ms/step - loss: 0.0062 - accuracy: 0.9989 - val_loss: 1.3353 - val_accuracy: 0.7948\n",
            "Epoch 43/50\n",
            "200/200 [==============================] - 2s 8ms/step - loss: 0.0050 - accuracy: 0.9993 - val_loss: 1.3765 - val_accuracy: 0.7972\n",
            "Epoch 44/50\n",
            "200/200 [==============================] - 2s 8ms/step - loss: 0.0040 - accuracy: 0.9994 - val_loss: 1.5663 - val_accuracy: 0.7945\n",
            "Epoch 45/50\n",
            "200/200 [==============================] - 2s 10ms/step - loss: 0.0120 - accuracy: 0.9968 - val_loss: 1.4068 - val_accuracy: 0.7969\n",
            "Epoch 46/50\n",
            "200/200 [==============================] - 2s 8ms/step - loss: 0.0279 - accuracy: 0.9923 - val_loss: 1.2932 - val_accuracy: 0.7930\n",
            "Epoch 47/50\n",
            "200/200 [==============================] - 1s 7ms/step - loss: 0.0169 - accuracy: 0.9956 - val_loss: 1.1333 - val_accuracy: 0.7952\n",
            "Epoch 48/50\n",
            "200/200 [==============================] - 2s 8ms/step - loss: 0.0098 - accuracy: 0.9977 - val_loss: 1.3266 - val_accuracy: 0.7992\n",
            "Epoch 49/50\n",
            "200/200 [==============================] - 1s 7ms/step - loss: 0.0084 - accuracy: 0.9981 - val_loss: 1.3273 - val_accuracy: 0.7937\n",
            "Epoch 50/50\n",
            "200/200 [==============================] - 2s 9ms/step - loss: 0.0038 - accuracy: 0.9995 - val_loss: 1.4336 - val_accuracy: 0.7995\n"
          ]
        }
      ]
    },
    {
      "cell_type": "code",
      "source": [
        "import matplotlib.pyplot as plt\n"
      ],
      "metadata": {
        "id": "r3e3u5KDeZ4X"
      },
      "execution_count": null,
      "outputs": []
    },
    {
      "cell_type": "code",
      "source": [
        "plt.plot(history.history['accuracy'])\n",
        "plt.plot(history.history['val_accuracy'])\n",
        "plt.title('Model accuracy')\n",
        "plt.xlabel('Epoch')\n",
        "plt.ylabel('Accuracy')\n",
        "plt.legend(['Train', 'Validation'], loc='upper left')\n",
        "plt.show()"
      ],
      "metadata": {
        "colab": {
          "base_uri": "https://localhost:8080/",
          "height": 472
        },
        "id": "W3H9Psy6eD1g",
        "outputId": "198dec93-1fa8-4359-e87e-1d8f0cd714dc"
      },
      "execution_count": null,
      "outputs": [
        {
          "output_type": "display_data",
          "data": {
            "text/plain": [
              "<Figure size 640x480 with 1 Axes>"
            ],
            "image/png": "[encoded data removed]"
          },
          "metadata": {}
        }
      ]
    },
    {
      "cell_type": "code",
      "source": [
        "plt.plot(history.history['loss'])\n",
        "plt.plot(history.history['val_loss'])\n",
        "plt.title('Model loss')\n",
        "plt.xlabel('Epoch')\n",
        "plt.ylabel('Loss')\n",
        "plt.legend(['Train', 'Validation'], loc='upper left')\n",
        "plt.show()"
      ],
      "metadata": {
        "colab": {
          "base_uri": "https://localhost:8080/",
          "height": 472
        },
        "id": "VB7r_98NeVnR",
        "outputId": "2aec8c97-a2ed-47bb-a7fc-9f1c2925f3be"
      },
      "execution_count": null,
      "outputs": [
        {
          "output_type": "display_data",
          "data": {
            "text/plain": [
              "<Figure size 640x480 with 1 Axes>"
            ],
            "image/png": "[encoded data removed]"
          },
          "metadata": {}
        }
      ]
    },
    {
      "cell_type": "code",
      "source": [
        "# Step 8: Evaluating the Model\n",
        "loss, accuracy = model.evaluate(X_test_padded, y_test)\n",
        "print(\"Test Accuracy:\", accuracy)"
      ],
      "metadata": {
        "colab": {
          "base_uri": "https://localhost:8080/"
        },
        "id": "vdAog8gsc0db",
        "outputId": "4cb36eb9-ed8e-4f56-b492-8de94613836f"
      },
      "execution_count": null,
      "outputs": [
        {
          "output_type": "stream",
          "name": "stdout",
          "text": [
            "250/250 [==============================] - 2s 4ms/step - loss: 1.3897 - accuracy: 0.7985\n",
            "Test Accuracy: 0.7985000014305115\n"
          ]
        }
      ]
    },
    {
      "cell_type": "code",
      "source": [
        "def predict_sentiment(text):\n",
        "    sequence = tokenizer.texts_to_sequences([text])\n",
        "    padded_sequence = pad_sequences(sequence, maxlen=max_len, padding='post', truncating='post')\n",
        "    prediction = model.predict(padded_sequence)[0][0]\n",
        "    if prediction >= 0.5:\n",
        "        return \"Positive\"\n",
        "    else:\n",
        "        return \"Negative\""
      ],
      "metadata": {
        "id": "R9apoNsojnAa"
      },
      "execution_count": null,
      "outputs": []
    },
    {
      "cell_type": "code",
      "source": [
        "# Example usage\n",
        "text = \"I loved the movie! It was fantastic.\"\n",
        "sentiment = predict_sentiment(text)\n",
        "print(\"Sentiment:\", sentiment)"
      ],
      "metadata": {
        "colab": {
          "base_uri": "https://localhost:8080/"
        },
        "id": "Tx8hUD0fmATI",
        "outputId": "e3b509e0-e086-4ec5-bad2-fc388829178c"
      },
      "execution_count": null,
      "outputs": [
        {
          "output_type": "stream",
          "name": "stdout",
          "text": [
            "1/1 [==============================] - 1s 1s/step\n",
            "Sentiment: Positive\n"
          ]
        }
      ]
    },
    {
      "cell_type": "code",
      "source": [],
      "metadata": {
        "id": "PL1sHquCmEsQ"
      },
      "execution_count": null,
      "outputs": []
    }
  ]
}