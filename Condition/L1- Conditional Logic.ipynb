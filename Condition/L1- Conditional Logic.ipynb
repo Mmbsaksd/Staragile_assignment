{
 "cells": [
  {
   "cell_type": "markdown",
   "id": "c6ec5c42",
   "metadata": {
    "id": "c6ec5c42"
   },
   "source": [
    "# Assessment - 3 Gradable\n",
    "\n",
    "- Each question carries 3 or 4 marks\n",
    "- Marks will be assigned in terms of:\n",
    "    \n",
    "    **1. Expected output**\n",
    "    \n",
    "    **2. Quality and Explainability of code**\n",
    "\n",
    "    ***Go back through the script and type a comment above each line explaining in English what it does.***\n",
    "\n",
    "    **3. Copied code, if found, will result in 0 marks for that question. To avoid this make as much comments in the code to explain the approach**"
   ]
  },
  {
   "cell_type": "markdown",
   "id": "8698053e",
   "metadata": {
    "id": "8698053e"
   },
   "source": [
    "### 1.\n",
    "\n",
    "Go through the string below and if the length of a word is even print \"even!\"\n",
    "\n",
    "string = 'I know how to print every word in this sentence that has an even number of letters'"
   ]
  },
  {
   "cell_type": "code",
   "execution_count": 4,
   "id": "4dec28a9",
   "metadata": {
    "id": "4dec28a9"
   },
   "outputs": [
    {
     "name": "stdout",
     "output_type": "stream",
     "text": [
      "I\n",
      "Even\n",
      "how\n",
      "Even\n",
      "print\n",
      "every\n",
      "Even\n",
      "Even\n",
      "Even\n",
      "Even\n",
      "Even\n",
      "has\n",
      "Even\n",
      "Even\n",
      "Even\n",
      "Even\n",
      "letters\n"
     ]
    }
   ],
   "source": [
    "# Given string\n",
    "string = 'I know how to print every word in this sentence that has an even number of letters'\n",
    "\n",
    "# Split the string into a list of words\n",
    "split = string.split()\n",
    "\n",
    "# Iterate through each word in the list\n",
    "for word in split:\n",
    "    # Check if the length of the word is even\n",
    "    if len(word) % 2 == 0:\n",
    "        # Print 'Even' if the length is even\n",
    "        print('Even')\n",
    "    else:\n",
    "        # Print the word if the length is odd\n",
    "        print(word)"
   ]
  },
  {
   "cell_type": "markdown",
   "id": "8569bc4e",
   "metadata": {
    "id": "8569bc4e"
   },
   "source": [
    "### 2. \n",
    "\n",
    "Write a program to check given number is odd or even\n",
    "\n",
    "Hint:\n",
    "- 20 is even\n",
    "- 27 is odd"
   ]
  },
  {
   "cell_type": "code",
   "execution_count": 9,
   "id": "9ccfca15",
   "metadata": {
    "id": "9ccfca15"
   },
   "outputs": [
    {
     "name": "stdout",
     "output_type": "stream",
     "text": [
      "Enter your number here: 65\n",
      "65 is an odd number\n"
     ]
    }
   ],
   "source": [
    "# Get user input for a number\n",
    "num = int(input(\"Enter your number here: \"))\n",
    "\n",
    "# Check if the number is even\n",
    "if num % 2 == 0:\n",
    "    # Print a message if the number is even\n",
    "    print(num, \"is an even number\")\n",
    "else:\n",
    "    # Print a message if the number is odd\n",
    "    print(num, \"is an odd number\")\n"
   ]
  },
  {
   "cell_type": "markdown",
   "id": "40759409",
   "metadata": {
    "id": "40759409"
   },
   "source": [
    "### 3.\n",
    "\n",
    "Write a program to check given number is divisible by 6 or not\n",
    "\n",
    "Hint:\n",
    "24 is divisible by 6\n",
    "27 is not divisible by 6"
   ]
  },
  {
   "cell_type": "code",
   "execution_count": 11,
   "id": "f7409469",
   "metadata": {
    "id": "f7409469"
   },
   "outputs": [
    {
     "name": "stdout",
     "output_type": "stream",
     "text": [
      "Enter your number here : 67\n",
      "67 is not divisible by 6\n"
     ]
    }
   ],
   "source": [
    "# Get user input for a number\n",
    "num = int(input(\"Enter your number here: \"))\n",
    "\n",
    "# Check if the number is divisible by 6\n",
    "if num % 6 == 0:\n",
    "    # Print a message if the number is divisible by 6\n",
    "    print(num, \"is divisible by 6\")\n",
    "else:\n",
    "    # Print a message if the number is not divisible by 6\n",
    "    print(num, \"is not divisible by 6\")"
   ]
  },
  {
   "cell_type": "markdown",
   "id": "0dd3847a",
   "metadata": {
    "id": "0dd3847a"
   },
   "source": [
    "### 4. \n",
    "\n",
    "Create a list containing the following 3 elements:\n",
    "\n",
    "- Subject person had taken\n",
    "- Marks Achieved\n",
    "- a boolean value showing previous programming experience\n",
    "\n",
    "print all details and also print person has programming experience or not"
   ]
  },
  {
   "cell_type": "code",
   "execution_count": 16,
   "id": "5c87efcb",
   "metadata": {
    "id": "5c87efcb"
   },
   "outputs": [
    {
     "name": "stdout",
     "output_type": "stream",
     "text": [
      "Enter your details here : Science 92 False\n",
      "Subject name          :  Science\n",
      "Mark                  :  92\n",
      "This person have programming experience\n"
     ]
    }
   ],
   "source": [
    "# Get user input for details and split into a list\n",
    "sub = input(\"Enter your details here: \").split()\n",
    "\n",
    "# Extract individual elements from the list\n",
    "subject_name = sub[0]\n",
    "mark = sub[1]\n",
    "program_exp = sub[2]\n",
    "\n",
    "# Print subject name and mark\n",
    "print(\"Subject name          : \", subject_name)\n",
    "print(\"Mark                  : \", mark)\n",
    "\n",
    "# Check if the user provided input for programming experience\n",
    "if program_exp:\n",
    "    print(\"This person has programming experience\")\n",
    "else:\n",
    "    print(\"This person doesn't have programming experience\")\n"
   ]
  },
  {
   "cell_type": "markdown",
   "id": "a54510f0",
   "metadata": {
    "id": "a54510f0"
   },
   "source": [
    "### 5.\n",
    "\n",
    "Write a program to check sum of all elements in a list is greater than 100 or not\n",
    "\n",
    "Hint:\n",
    "- [11, 13, 17, 19, 11] --> sum is not greater than 100\n",
    "- [24, 36, 30, 31, 42] --> sum is greater than 100"
   ]
  },
  {
   "cell_type": "code",
   "execution_count": 20,
   "id": "5d53ba1f",
   "metadata": {
    "id": "5d53ba1f"
   },
   "outputs": [
    {
     "name": "stdout",
     "output_type": "stream",
     "text": [
      "Enter list of numbers: 22 32 11 21 34 5 6\n",
      "Sum is greater than 100\n"
     ]
    }
   ],
   "source": [
    "# Get user input for a list of numbers, convert them to integers, and create a map object\n",
    "num = map(int, input(\"Enter list of numbers: \").split())\n",
    "\n",
    "# Check if the sum of the numbers is greater than 100\n",
    "if sum(num) > 100:\n",
    "    print(\"Sum is greater than 100\")\n",
    "else:\n",
    "    print(\"Sum is not greater than 100\")"
   ]
  },
  {
   "cell_type": "code",
   "execution_count": null,
   "id": "b568012a",
   "metadata": {},
   "outputs": [],
   "source": []
  }
 ],
 "metadata": {
  "colab": {
   "provenance": []
  },
  "kernelspec": {
   "display_name": "Python 3 (ipykernel)",
   "language": "python",
   "name": "python3"
  },
  "language_info": {
   "codemirror_mode": {
    "name": "ipython",
    "version": 3
   },
   "file_extension": ".py",
   "mimetype": "text/x-python",
   "name": "python",
   "nbconvert_exporter": "python",
   "pygments_lexer": "ipython3",
   "version": "3.11.4"
  }
 },
 "nbformat": 4,
 "nbformat_minor": 5
}
