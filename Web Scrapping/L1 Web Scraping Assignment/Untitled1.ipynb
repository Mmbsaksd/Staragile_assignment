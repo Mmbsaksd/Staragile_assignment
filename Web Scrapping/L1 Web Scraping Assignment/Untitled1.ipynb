{
 "cells": [
  {
   "cell_type": "code",
   "execution_count": null,
   "id": "e07c7a6a",
   "metadata": {},
   "outputs": [],
   "source": [
    "url =['https://www.moneycontrol.com/india/stockpricequote/diversified/itc/ITC',\n",
    "      'https://www.moneycontrol.com/india/stockpricequote/banks-public-sector/statebankindia/SBI',\n",
    "      'https://www.moneycontrol.com/india/stockpricequote/finance-housing/housingdevelopmentfinancecorporation/HDF',\n",
    "      'https://www.moneycontrol.com/india/stockpricequote/infrastructure-general/larsentoubro/LT',\n",
    "      'https://www.moneycontrol.com/india/stockpricequote/finance-nbfc/bajajfinance/BAF',\n",
    "      'https://www.moneycontrol.com/india/stockpricequote/computers-software/hcltechnologies/HCL02',\n",
    "      'https://www.moneycontrol.com/india/stockpricequote/banks-private-sector/kotakmahindrabank/KMB',\n",
    "      'https://www.moneycontrol.com/india/stockpricequote/miscellaneous/titancompany/TI01',\n",
    "      'https://www.moneycontrol.com/india/stockpricequote/trading/adanienterprises/AE13',\n",
    "      'https://www.moneycontrol.com/india/stockpricequote/pharmaceuticals/sunpharmaceuticalindustries/SPI',\n",
    "      'https://www.moneycontrol.com/india/stockpricequote/banks-private-sector/axisbank/AB16',\n",
    "      'https://www.moneycontrol.com/india/stockpricequote/auto-carsjeeps/marutisuzukiindia/MS24',\n",
    "      'https://www.moneycontrol.com/india/stockpricequote/power-generationdistribution/ntpc/NTP',\n",
    "      'https://www.moneycontrol.com/india/stockpricequote/auto-lcvshcvs/tatamotors/TM03',\n",
    "      'https://www.moneycontrol.com/india/stockpricequote/oil-drillingexploration/oilnaturalgascorporation/ONG',\n",
    "      'https://www.moneycontrol.com/india/stockpricequote/cement-major/ultratechcement/UTC01',\n",
    "      'https://www.moneycontrol.com/india/stockpricequote/paintsvarnishes/asianpaints/AP31',\n",
    "      'https://www.moneycontrol.com/india/stockpricequote/power-generationdistribution/adanigreenenergylimited/ADANI54145',\n",
    "      'https://www.moneycontrol.com/india/stockpricequote/finance-investments/bajajfinserv/BF04',\n",
    "      'https://www.moneycontrol.com/india/stockpricequote/infrastructure-general/adaniportsspecialeconomiczone/MPS',\n",
    "      'https://www.moneycontrol.com/india/stockpricequote/computers-software/wipro/W',\n",
    "      'https://www.moneycontrol.com/india/stockpricequote/retail/avenuesupermarts/AS19',\n",
    "      'https://www.moneycontrol.com/india/stockpricequote/miningminerals/coalindia/CI11',\n",
    "      'https://www.moneycontrol.com/india/stockpricequote/food-processing/nestleindia/NI',\n",
    "      'https://www.moneycontrol.com/india/stockpricequote/power-generationdistribution/powergridcorporationindia/PGC',\n",
    "      'https://www.moneycontrol.com/india/stockpricequote/auto-23-wheelers/bajajauto/BA10',\n",
    "      'https://www.moneycontrol.com/india/stockpricequote/auto-carsjeeps/mahindramahindra/MM',\n",
    "      'https://www.moneycontrol.com/india/stockpricequote/refineries/indianoilcorporation/IOC',\n",
    "      'https://www.moneycontrol.com/india/stockpricequote/steel-large/jswsteel/JSW01',\n",
    "      'https://www.moneycontrol.com/india/stockpricequote/constructioncontracting-real-estate/dlf/D04',\n",
    "      'https://www.moneycontrol.com/india/stockpricequote/ironsteel/tatasteel/TIS',\n",
    "      'https://www.moneycontrol.com/india/stockpricequote/computers-software/ltimindtree/LI12',\n",
    "      'https://www.moneycontrol.com/india/stockpricequote/infrastructure-general/siemens/S',\n",
    "      'https://www.moneycontrol.com/india/stockpricequote/diversified/grasimindustries/GI01',\n",
    "      'https://www.moneycontrol.com/india/stockpricequote/lifehealth-insurance/sbilifeinsurancecompany/SLI03',\n",
    "      'https://www.moneycontrol.com/india/stockpricequote/chemicals/pidiliteindustries/PI11',\n",
    "      'https://www.moneycontrol.com/india/stockpricequote/computers-software/techmahindra/TM4',\n",
    "      'https://www.moneycontrol.com/india/stockpricequote/ironsteel/hindalcoindustries/HI',\n",
    "      'https://www.moneycontrol.com/india/stockpricequote/lifehealth-insurance/hdfclifeinsurancecompany/HSL01',\n",
    "      'https://www.moneycontrol.com/india/stockpricequote/food-processing/britanniaindustries/BI',\n",
    "      'https://www.moneycontrol.com/india/stockpricequote/personal-care/godrejconsumerproducts/GCP',\n",
    "      'https://www.moneycontrol.com/india/stockpricequote/power-transmissionequipment/adanienergysolutions/AT22',\n",
    "      'https://www.moneycontrol.com/india/stockpricequote/banks-private-sector/indusindbank/IIB',\n",
    "      'https://www.moneycontrol.com/india/stockpricequote/banks-public-sector/punjabnationalbank/PNB05',\n",
    "      'https://www.moneycontrol.com/india/stockpricequote/cement-major/ambujacements/AC18',\n",
    "      'https://www.moneycontrol.com/india/stockpricequote/pharmaceuticals/cipla/C',\n",
    "      'https://www.moneycontrol.com/india/stockpricequote/transportlogistics/interglobeaviation/IA04',\n",
    "      'https://www.moneycontrol.com/india/stockpricequote/oil-drillingexploration/gailindia/GAI',\n",
    "      'https://www.moneycontrol.com/india/stockpricequote/plantations-teacoffee/tataconsumerproducts/TT',\n",
    "      'https://www.moneycontrol.com/india/stockpricequote/refineries/bharatpetroleumcorporation/BPC',\n",
    "      'https://www.moneycontrol.com/india/stockpricequote/cement-major/shreecements/SC12',\n",
    "      'https://www.moneycontrol.com/india/stockpricequote/auto-lcvshcvs/eichermotors/EM',\n",
    "      'https://www.moneycontrol.com/india/stockpricequote/miningminerals/vedanta/SG',\n",
    "      'https://www.moneycontrol.com/india/stockpricequote/pharmaceuticals/drreddyslaboratories/DRL',\n",
    "      'https://www.moneycontrol.com/india/stockpricequote/pharmaceuticals/divislaboratories/DL03',\n",
    "      'https://www.moneycontrol.com/india/stockpricequote/personal-care/daburindia/DI',\n",
    "      'https://www.moneycontrol.com/india/stockpricequote/finance-investments/bajajholdingsinvestment/BHI',\n",
    "      'https://www.moneycontrol.com/india/stockpricequote/auto-23-wheelers/heromotocorp/HHM',\n",
    "      'https://www.moneycontrol.com/india/stockpricequote/hospitalsmedical-services/apollohospitalsenterprises/AHE',\n",
    "      'https://www.moneycontrol.com/india/stockpricequote/pharmaceuticals/torrentpharmaceuticals/TP06',\n",
    "      'https://www.moneycontrol.com/india/stockpricequote/electric-equipment/havellsindia/HI01',\n",
    "      'https://www.moneycontrol.com/india/stockpricequote/breweriesdistilleries/unitedspirits/US',\n",
    "      'https://www.moneycontrol.com/india/stockpricequote/auto-ancillaries-auto-truckmotorcycle-parts/samvardhanamothersoninternational/MSS01',\n",
    "      'https://www.moneycontrol.com/india/stockpricequote/pharmaceuticalsdrugs/zyduslifesciences/CHC',\n",
    "      'https://www.moneycontrol.com/india/stockpricequote/finance-investments/hdfcassetmanagementcompany/HAM02',\n",
    "      'https://www.moneycontrol.com/india/stockpricequote/multiline-insurancebrokers/icicilombardgeneralinsurancecompany/ILG',\n",
    "      'https://www.moneycontrol.com/india/stockpricequote/finance-term-lending/sbicardspaymentservices/SCP02',\n",
    "      'https://www.moneycontrol.com/india/stockpricequote/banks-private-sector/yesbank/YB',\n",
    "      'https://www.moneycontrol.com/india/stockpricequote/finance-general/iciciprudentiallifeinsurancecompany/IPL01',\n",
    "      'https://www.moneycontrol.com/india/stockpricequote/personal-care/marico/M13',\n",
    "      'https://www.moneycontrol.com/india/stockpricequote/personal-care/colgatepalmoliveindia/CPI',\n",
    "      'https://www.moneycontrol.com/india/stockpricequote/pharmaceuticals/aurobindopharma/AP',\n",
    "      'https://www.moneycontrol.com/india/stockpricequote/auto-ancillaries/bosch/B05',\n",
    "      'https://www.moneycontrol.com/india/stockpricequote/pharmaceuticals/lupin/L',\n",
    "      'https://www.moneycontrol.com/india/stockpricequote/paintsvarnishes/bergerpaintsindia/BPI02',\n",
    "      'https://www.moneycontrol.com/india/stockpricequote/miscellaneous/infoedgeindia/IEI01',\n",
    "      'https://www.moneycontrol.com/india/stockpricequote/miningminerals/nmdc/NMD02',\n",
    "      'https://www.moneycontrol.com/india/stockpricequote/refineries/hindustanpetroleumcorporation/HPC',\n",
    "      'https://www.moneycontrol.com/india/stockpricequote/telecommunications-equipment/industowers/BI14',\n",
    "      'https://www.moneycontrol.com/india/stockpricequote/pharmaceuticals/alkemlaboratories/AL05',\n",
    "      'https://www.moneycontrol.com/india/stockpricequote/tyres/mrf/MRF',\n",
    "      'https://www.moneycontrol.com/india/stockpricequote/finance-investments/muthootfinance/MF10',\n",
    "      'https://www.moneycontrol.com/india/stockpricequote/personal-care/proctergamblehygienehealthcare/PGH',\n",
    "      'https://www.moneycontrol.com/india/stockpricequote/pharmaceuticals/abbottindia/AI51',\n",
    "      'https://www.moneycontrol.com/india/stockpricequote/breweriesdistilleries/unitedbreweries/UB02',\n",
    "      'https://www.moneycontrol.com/india/stockpricequote/cement-major/acc/ACC06',\n",
    "      'https://www.moneycontrol.com/india/stockpricequote/chemicals/upl/UP04',\n",
    "      'https://www.moneycontrol.com/india/stockpricequote/oil-drillingexploration/petronetlng/PLN',\n",
    "      'https://www.moneycontrol.com/india/stockpricequote/banks-private-sector/bandhanbank/BB09',\n",
    "      'https://www.moneycontrol.com/india/stockpricequote/miscellaneous/jubilantfoodworks/JF04',\n",
    "      'https://www.moneycontrol.com/india/stockpricequote/pharmaceuticals/biocon/BL03',\n",
    "      'https://www.moneycontrol.com/india/stockpricequote/oil-drillingexploration/indraprasthagas/IG04',\n",
    "      'https://www.moneycontrol.com/india/stockpricequote/finance-nbfc/piramalenterprises/PH05'\n",
    "       \n",
    "     ]\n",
    "    "
   ]
  },
  {
   "cell_type": "code",
   "execution_count": 1,
   "id": "9ec14257",
   "metadata": {},
   "outputs": [],
   "source": [
    "import requests\n",
    "from bs4 import BeautifulSoup"
   ]
  },
  {
   "cell_type": "code",
   "execution_count": 6,
   "id": "31fe2c82",
   "metadata": {},
   "outputs": [],
   "source": [
    "url = 'https://www.moneycontrol.com/india/stockpricequote/banks-private-sector/hdfcbank/HDF01'"
   ]
  },
  {
   "cell_type": "code",
   "execution_count": 7,
   "id": "18d2ef1b",
   "metadata": {},
   "outputs": [],
   "source": [
    "response = requests.get(url)"
   ]
  },
  {
   "cell_type": "code",
   "execution_count": 4,
   "id": "1afe44e8",
   "metadata": {},
   "outputs": [],
   "source": [
    "import requests\n",
    "from bs4 import BeautifulSoup\n",
    "\n",
    "url = 'https://www.moneycontrol.com/india/stockpricequote/banks-private-sector/hdfcbank/HDF01'\n",
    "response = requests.get(url)\n"
   ]
  },
  {
   "cell_type": "code",
   "execution_count": 8,
   "id": "d3065b72",
   "metadata": {},
   "outputs": [
    {
     "ename": "NameError",
     "evalue": "name 'doc' is not defined",
     "output_type": "error",
     "traceback": [
      "\u001b[1;31m---------------------------------------------------------------------------\u001b[0m",
      "\u001b[1;31mNameError\u001b[0m                                 Traceback (most recent call last)",
      "Cell \u001b[1;32mIn[8], line 1\u001b[0m\n\u001b[1;32m----> 1\u001b[0m doc\u001b[38;5;241m.\u001b[39mfind(\u001b[38;5;124m'\u001b[39m\u001b[38;5;124mdiv\u001b[39m\u001b[38;5;124m'\u001b[39m,{\u001b[38;5;124m'\u001b[39m\u001b[38;5;124mclass\u001b[39m\u001b[38;5;124m'\u001b[39m:\u001b[38;5;124m'\u001b[39m\u001b[38;5;124minid_name\u001b[39m\u001b[38;5;124m'\u001b[39m})\u001b[38;5;241m.\u001b[39mfind(\u001b[38;5;124m'\u001b[39m\u001b[38;5;124mh1\u001b[39m\u001b[38;5;124m'\u001b[39m)\u001b[38;5;241m.\u001b[39mtext\n",
      "\u001b[1;31mNameError\u001b[0m: name 'doc' is not defined"
     ]
    }
   ],
   "source": [
    "doc.find('div',{'class':'inid_name'}).find('h1').text"
   ]
  },
  {
   "cell_type": "code",
   "execution_count": 9,
   "id": "87719721",
   "metadata": {},
   "outputs": [
    {
     "data": {
      "text/plain": [
       "200"
      ]
     },
     "execution_count": 9,
     "metadata": {},
     "output_type": "execute_result"
    }
   ],
   "source": [
    "response.status_code"
   ]
  },
  {
   "cell_type": "code",
   "execution_count": 10,
   "id": "1df688d1",
   "metadata": {},
   "outputs": [],
   "source": [
    "s = response.text"
   ]
  },
  {
   "cell_type": "code",
   "execution_count": 11,
   "id": "9607d911",
   "metadata": {},
   "outputs": [],
   "source": [
    "doc = BeautifulSoup(s, 'html.parser')"
   ]
  },
  {
   "cell_type": "code",
   "execution_count": 14,
   "id": "b6c2d81b",
   "metadata": {},
   "outputs": [
    {
     "data": {
      "text/plain": [
       "' Bank - Private '"
      ]
     },
     "execution_count": 14,
     "metadata": {},
     "output_type": "execute_result"
    }
   ],
   "source": [
    "doc.find('div',{'class':'inid_name'}).find('strong').text"
   ]
  },
  {
   "cell_type": "code",
   "execution_count": null,
   "id": "b8a6a54d",
   "metadata": {},
   "outputs": [],
   "source": [
    "<div id=\"nsecp\" class=\"inprice1 nsecp\" rel=\"1434.90\" data-numberanimate-value=\"1,434.90\" style=\"display: inline-block; vertical-align: top; height: 65px;\" data-numberanimate-characterheight=\"65\" data-numberanimate-characterwidth=\"31\" data-numberanimate-animationtimes=\"[10,0,10]\"><div data-numberanimate-pos=\"5\" style=\"width: 31px; height: 65px; overflow: hidden; display: inline-block;\"><div style=\"backface-visibility: hidden; transform: translate3d(0px, -325px, 0px); transition: all 0ms ease-in-out 0s;\">, . - + 0 1 2 3 4 5 6 7 8 9</div></div><div data-numberanimate-pos=\"4\" style=\"width: 15px; height: 65px; overflow: hidden; display: inline-block;\"><div style=\"backface-visibility: hidden; transform: translate3d(0px, 0px, 0px); transition: all 0ms ease-in-out 0s;\">, . - + 0 1 2 3 4 5 6 7 8 9</div></div><div data-numberanimate-pos=\"3\" style=\"width: 31px; height: 65px; overflow: hidden; display: inline-block;\"><div style=\"backface-visibility: hidden; transform: translate3d(0px, -520px, 0px); transition: all 0ms ease-in-out 0s;\">, . - + 0 1 2 3 4 5 6 7 8 9</div></div><div data-numberanimate-pos=\"2\" style=\"width: 31px; height: 65px; overflow: hidden; display: inline-block;\"><div style=\"backface-visibility: hidden; transform: translate3d(0px, -455px, 0px); transition: all 0ms ease-in-out 0s;\">, . - + 0 1 2 3 4 5 6 7 8 9</div></div><div data-numberanimate-pos=\"1\" style=\"width: 31px; height: 65px; overflow: hidden; display: inline-block;\"><div style=\"backface-visibility: hidden; transform: translate3d(0px, -520px, 0px); transition: all 0ms ease-in-out 0s;\">, . - + 0 1 2 3 4 5 6 7 8 9</div></div><div data-numberanimate-pos=\"0\" style=\"width: 15px; height: 65px; overflow: hidden; display: inline-block;\"><div style=\"backface-visibility: hidden; transform: translate3d(0px, -65px, 0px); transition: all 0ms ease-in-out 0s;\">, . - + 0 1 2 3 4 5 6 7 8 9</div></div><div data-numberanimate-pos=\"-1\" style=\"width: 31px; height: 65px; overflow: hidden; display: inline-block;\"><div style=\"backface-visibility: hidden; transform: translate3d(0px, -845px, 0px); transition: all 0ms ease-in-out 0s;\">, . - + 0 1 2 3 4 5 6 7 8 9</div></div><div data-numberanimate-pos=\"-2\" style=\"width: 31px; height: 65px; overflow: hidden; display: inline-block;\"><div style=\"backface-visibility: hidden; transform: translate3d(0px, -260px, 0px); transition: all 0ms ease-in-out 0s;\">, . - + 0 1 2 3 4 5 6 7 8 9</div></div></div>"
   ]
  },
  {
   "cell_type": "code",
   "execution_count": 19,
   "id": "089deb45",
   "metadata": {},
   "outputs": [
    {
     "data": {
      "text/plain": [
       "'1434.90'"
      ]
     },
     "execution_count": 19,
     "metadata": {},
     "output_type": "execute_result"
    }
   ],
   "source": [
    "doc.find('div', id='nsecp').text.replace(',','')"
   ]
  },
  {
   "cell_type": "code",
   "execution_count": null,
   "id": "f79a3c81",
   "metadata": {},
   "outputs": [],
   "source": [
    "<div id=\"nsechange\" class=\"pricupdn nsechange red\"><span class=\"reddownarow\"></span>-21.00 (-1.44%)</div>"
   ]
  },
  {
   "cell_type": "code",
   "execution_count": 22,
   "id": "5e8b164b",
   "metadata": {},
   "outputs": [
    {
     "data": {
      "text/plain": [
       "'-21.00 (-1.44%)'"
      ]
     },
     "execution_count": 22,
     "metadata": {},
     "output_type": "execute_result"
    }
   ],
   "source": [
    "doc.find('div', id='nsechange').text"
   ]
  },
  {
   "cell_type": "code",
   "execution_count": null,
   "id": "c8d59830",
   "metadata": {},
   "outputs": [],
   "source": [
    "<div id=\"sp_yearlylow\" class=\"FL nseL52\">1,380.25</div>"
   ]
  },
  {
   "cell_type": "code",
   "execution_count": 23,
   "id": "67b47431",
   "metadata": {},
   "outputs": [
    {
     "data": {
      "text/plain": [
       "'1380.25'"
      ]
     },
     "execution_count": 23,
     "metadata": {},
     "output_type": "execute_result"
    }
   ],
   "source": [
    "doc.find('div', id='sp_yearlylow').text"
   ]
  },
  {
   "cell_type": "code",
   "execution_count": null,
   "id": "6079a2e5",
   "metadata": {},
   "outputs": [],
   "source": [
    "<div id=\"sp_yearlyhigh\" class=\"FR nseH52\">1,757.50</div>"
   ]
  },
  {
   "cell_type": "code",
   "execution_count": 24,
   "id": "5b3d33c2",
   "metadata": {},
   "outputs": [
    {
     "data": {
      "text/plain": [
       "'1757.50'"
      ]
     },
     "execution_count": 24,
     "metadata": {},
     "output_type": "execute_result"
    }
   ],
   "source": [
    "doc.find('div', id='sp_yearlyhigh').text"
   ]
  },
  {
   "cell_type": "code",
   "execution_count": null,
   "id": "7562083f",
   "metadata": {},
   "outputs": [],
   "source": [
    "<div id=\"nse_vol\" class=\"rangamount nsevol\">49,470,926</div>"
   ]
  },
  {
   "cell_type": "code",
   "execution_count": 28,
   "id": "3796cf56",
   "metadata": {},
   "outputs": [
    {
     "data": {
      "text/plain": [
       "'49470926'"
      ]
     },
     "execution_count": 28,
     "metadata": {},
     "output_type": "execute_result"
    }
   ],
   "source": [
    "doc.find('div',id=\"nse_vol\").text.replace(',','')"
   ]
  },
  {
   "cell_type": "code",
   "execution_count": null,
   "id": "889999a8",
   "metadata": {},
   "outputs": [],
   "source": [
    ","
   ]
  }
 ],
 "metadata": {
  "kernelspec": {
   "display_name": "Python 3 (ipykernel)",
   "language": "python",
   "name": "python3"
  },
  "language_info": {
   "codemirror_mode": {
    "name": "ipython",
    "version": 3
   },
   "file_extension": ".py",
   "mimetype": "text/x-python",
   "name": "python",
   "nbconvert_exporter": "python",
   "pygments_lexer": "ipython3",
   "version": "3.11.4"
  }
 },
 "nbformat": 4,
 "nbformat_minor": 5
}
