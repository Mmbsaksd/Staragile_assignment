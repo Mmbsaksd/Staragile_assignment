{
 "cells": [
  {
   "cell_type": "markdown",
   "id": "8bcc8778",
   "metadata": {},
   "source": [
    "#### Create the classes and functions as per following description: \n",
    "- Create a class Person : \n",
    "   - The attributes of the class are name, age, city\n",
    "   - The functions of the class are :\n",
    "       - __init__(self, name, age, city)\n",
    "       - show_details(self)\n",
    "       - update_city(self, new_city)\n",
    "       \n",
    "- Create a class Employee which inherits the class Person:\n",
    "    - The attributes of the class are name , age, city, salary, position, dept\n",
    "    - The functions of the class are : \n",
    "        - __init__(self, name , age, city, salary, position, dept)\n",
    "        - show_details(self)\n",
    "        - update_salary(self, new_salary)\n",
    "        - update_dept(self, new_dept)\n",
    "        - update_position(self, new_pos)\n",
    "        - inc_salary(self)\n",
    "        - dec_salary\n",
    "        \n",
    "- Make use of the super function when necessary\n",
    "- Create objects and Demonstrate working of all the functions"
   ]
  },
  {
   "cell_type": "code",
   "execution_count": 1,
   "id": "ef839681",
   "metadata": {},
   "outputs": [],
   "source": [
    "class Person:\n",
    "    def __init__(self,name,age,city):\n",
    "        self.name = name\n",
    "        self.age = age\n",
    "        self.city = city\n",
    "        \n",
    "    def show_details(self):\n",
    "        print(f\"Name       :{self.name}\")\n",
    "        print(f\"Age        :{self.age}\")\n",
    "        print(f\"City       :{self.city}\")\n",
    "\n",
    "    def update_city(self,new_city):\n",
    "        self.city = new_city"
   ]
  },
  {
   "cell_type": "code",
   "execution_count": 2,
   "id": "7e87192f",
   "metadata": {},
   "outputs": [],
   "source": [
    "# Define the Person class\n",
    "class Person:\n",
    "    def __init__(self, name, age, city):\n",
    "        # Initialize attributes for name, age, and city\n",
    "        self.name = name\n",
    "        self.age = age\n",
    "        self.city = city\n",
    "\n",
    "    def show_details(self):\n",
    "        # Display details about the person\n",
    "        print(f\"Name       : {self.name}\")\n",
    "        print(f\"Age        : {self.age}\")\n",
    "        print(f\"City       : {self.city}\")\n",
    "\n",
    "    def update_city(self, new_city):\n",
    "        # Update the city attribute\n",
    "        self.city = new_city"
   ]
  },
  {
   "cell_type": "code",
   "execution_count": 3,
   "id": "8af0a62c",
   "metadata": {},
   "outputs": [
    {
     "name": "stdout",
     "output_type": "stream",
     "text": [
      "Name       : Ahmad\n",
      "Age        : 23\n",
      "City       : Chennai\n"
     ]
    }
   ],
   "source": [
    "# Create a Person instance\n",
    "ahmad = Person(\"Ahmad\", 23, 'Chennai')\n",
    "\n",
    "# Display details using the show_details method\n",
    "ahmad.show_details()\n"
   ]
  },
  {
   "cell_type": "code",
   "execution_count": 4,
   "id": "ce8fef49",
   "metadata": {
    "scrolled": true
   },
   "outputs": [
    {
     "name": "stdout",
     "output_type": "stream",
     "text": [
      "Name       : Ahmad\n",
      "Age        : 23\n",
      "City       : Mumbai\n"
     ]
    }
   ],
   "source": [
    "# Update the city using the update_city method\n",
    "ahmad.update_city('Mumbai')\n",
    "\n",
    "# Display the updated details using the show_details method\n",
    "ahmad.show_details()"
   ]
  },
  {
   "cell_type": "code",
   "execution_count": 5,
   "id": "d201e3ec",
   "metadata": {},
   "outputs": [],
   "source": [
    "# Define the Employee class, which inherits from Person\n",
    "class Employee(Person):\n",
    "    def __init__(self, name, age, city, salary, position, dept):\n",
    "        # Call the constructor of the base class (Person) using super()\n",
    "        super().__init__(name, age, city)\n",
    "        \n",
    "        # Initialize additional attributes for salary, position, and department\n",
    "        self.salary = salary\n",
    "        self.position = position\n",
    "        self.dept = dept\n",
    "\n",
    "    def show_details(self):\n",
    "        # Call the show_details method of the base class (Person) using super()\n",
    "        super().show_details()\n",
    "        \n",
    "        # Display details specific to Employee\n",
    "        print(f\"Salary     : {self.salary}\")\n",
    "        print(f\"Position   : {self.position}\")\n",
    "        print(f\"Department : {self.dept}\")\n",
    "\n",
    "    def update_salary(self, new_salary):\n",
    "        # Update the salary attribute\n",
    "        self.salary = new_salary\n",
    "\n",
    "    def update_dept(self, new_dept):\n",
    "        # Update the department attribute\n",
    "        self.dept = new_dept\n",
    "\n",
    "    def update_position(self, new_pos):\n",
    "        # Update the position attribute\n",
    "        self.position = new_pos\n",
    "\n",
    "    def inc_salary(self, amount):\n",
    "        # Increase the salary attribute by a specified amount\n",
    "        self.salary += amount\n",
    "\n",
    "    def dec_salary(self, amount):\n",
    "        # Decrease the salary attribute by a specified amount\n",
    "        self.salary -= amount"
   ]
  },
  {
   "cell_type": "code",
   "execution_count": 6,
   "id": "e851f472",
   "metadata": {},
   "outputs": [
    {
     "name": "stdout",
     "output_type": "stream",
     "text": [
      "Name       : Surya\n",
      "Age        : 25\n",
      "City       : Kochi\n",
      "Salary     : 75000\n",
      "Position   : Sales Man\n",
      "Department : Marketing\n"
     ]
    }
   ],
   "source": [
    "# Create an Employee instance\n",
    "surya = Employee(\"Surya\", 25, \"Kochi\", 75000, \"Sales Man\", \"Marketing\")\n",
    "\n",
    "# Display details using the show_details method\n",
    "surya.show_details()"
   ]
  },
  {
   "cell_type": "code",
   "execution_count": 7,
   "id": "04abcc24",
   "metadata": {},
   "outputs": [
    {
     "name": "stdout",
     "output_type": "stream",
     "text": [
      "Name       : Surya\n",
      "Age        : 25\n",
      "City       : Kochi\n",
      "Salary     : 100000\n",
      "Position   : Sales Man\n",
      "Department : Marketing\n"
     ]
    }
   ],
   "source": [
    "# Update the salary using the update_salary method\n",
    "surya.update_salary(100000)\n",
    "\n",
    "# Display updated details using the show_details method\n",
    "surya.show_details()"
   ]
  },
  {
   "cell_type": "code",
   "execution_count": 8,
   "id": "bef1ed99",
   "metadata": {},
   "outputs": [
    {
     "name": "stdout",
     "output_type": "stream",
     "text": [
      "Name       : Surya\n",
      "Age        : 25\n",
      "City       : Kochi\n",
      "Salary     : 100000\n",
      "Position   : Sales Man\n",
      "Department : Operation\n"
     ]
    }
   ],
   "source": [
    "# Update the department using the update_dept method\n",
    "surya.update_dept(\"Operation\")\n",
    "\n",
    "# Display updated details using the show_details method\n",
    "surya.show_details()"
   ]
  },
  {
   "cell_type": "code",
   "execution_count": 9,
   "id": "78887872",
   "metadata": {},
   "outputs": [
    {
     "name": "stdout",
     "output_type": "stream",
     "text": [
      "Name       : Surya\n",
      "Age        : 25\n",
      "City       : Kochi\n",
      "Salary     : 100000\n",
      "Position   : Manager\n",
      "Department : Operation\n"
     ]
    }
   ],
   "source": [
    "# Update the position using the update_position method\n",
    "surya.update_position(\"Manager\")\n",
    "\n",
    "# Display updated details using the show_details method\n",
    "surya.show_details()"
   ]
  },
  {
   "cell_type": "code",
   "execution_count": 10,
   "id": "c29b7f89",
   "metadata": {},
   "outputs": [
    {
     "name": "stdout",
     "output_type": "stream",
     "text": [
      "Name       : Surya\n",
      "Age        : 25\n",
      "City       : Kochi\n",
      "Salary     : 110000\n",
      "Position   : Manager\n",
      "Department : Operation\n"
     ]
    }
   ],
   "source": [
    "# Increase the salary using the inc_salary method\n",
    "surya.inc_salary(10000)\n",
    "\n",
    "# Display updated details using the show_details method\n",
    "surya.show_details()"
   ]
  },
  {
   "cell_type": "code",
   "execution_count": 11,
   "id": "9bed8587",
   "metadata": {},
   "outputs": [
    {
     "name": "stdout",
     "output_type": "stream",
     "text": [
      "Name       : Surya\n",
      "Age        : 25\n",
      "City       : Kochi\n",
      "Salary     : 85000\n",
      "Position   : Manager\n",
      "Department : Operation\n"
     ]
    }
   ],
   "source": [
    "# Decrease the salary using the dec_salary method\n",
    "surya.dec_salary(25000)\n",
    "\n",
    "# Display updated details using the show_details method\n",
    "surya.show_details()"
   ]
  },
  {
   "cell_type": "code",
   "execution_count": null,
   "id": "040cdc3f",
   "metadata": {},
   "outputs": [],
   "source": []
  }
 ],
 "metadata": {
  "kernelspec": {
   "display_name": "Python 3 (ipykernel)",
   "language": "python",
   "name": "python3"
  },
  "language_info": {
   "codemirror_mode": {
    "name": "ipython",
    "version": 3
   },
   "file_extension": ".py",
   "mimetype": "text/x-python",
   "name": "python",
   "nbconvert_exporter": "python",
   "pygments_lexer": "ipython3",
   "version": "3.11.4"
  }
 },
 "nbformat": 4,
 "nbformat_minor": 5
}
