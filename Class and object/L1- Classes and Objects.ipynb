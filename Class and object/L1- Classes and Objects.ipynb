{
 "cells": [
  {
   "cell_type": "markdown",
   "id": "8a30d880",
   "metadata": {
    "id": "8a30d880"
   },
   "source": [
    "# Assessment - 6 Gradable\n",
    "\n",
    "- Each question carries 5 or 4 marks\n",
    "- Marks will be assigned in terms of:\n",
    "    \n",
    "    **1. Expected output**\n",
    "    \n",
    "    **2. Quality and Explainability of code**\n",
    "\n",
    "    ***Go back through the script and type a comment above each line explaining in English what it does.***\n",
    "\n",
    "    **3. Copied code, if found, will result in 0 marks for that question. To avoid this make as much comments in the code to explain the approach**"
   ]
  },
  {
   "cell_type": "markdown",
   "id": "86255064",
   "metadata": {
    "id": "86255064"
   },
   "source": [
    "### 1. \n",
    "\n",
    "Write a Program to create a class 'Company' and using the class instance and print all the writable attributes of that object such as age, gender, salary, profession and designation. We take atleast 5 employees of an organization"
   ]
  },
  {
   "cell_type": "code",
   "execution_count": 2,
   "id": "4a098962",
   "metadata": {
    "id": "4a098962"
   },
   "outputs": [
    {
     "name": "stdout",
     "output_type": "stream",
     "text": [
      "\n",
      "The details are...\n",
      "Name        :  John Doe\n",
      "Gender      :  Male\n",
      "Salary      :  60000\n",
      "Profession  :  Software Engineer\n",
      "Designation :  Developer\n",
      "\n",
      "The details are...\n",
      "Name        :  Jane Smith\n",
      "Gender      :  Female\n",
      "Salary      :  70000\n",
      "Profession  :  Data Scientist\n",
      "Designation :  Analyst\n",
      "\n",
      "The details are...\n",
      "Name        :  Bob Johnson\n",
      "Gender      :  Male\n",
      "Salary      :  80000\n",
      "Profession  :  Project Manager\n",
      "Designation :  Manager\n",
      "\n",
      "The details are...\n",
      "Name        :  Alice Brown\n",
      "Gender      :  Female\n",
      "Salary      :  75000\n",
      "Profession  :  UX Designer\n",
      "Designation :  Designer\n",
      "\n",
      "The details are...\n",
      "Name        :  Charlie Davis\n",
      "Gender      :  Male\n",
      "Salary      :  90000\n",
      "Profession  :  Senior Software Engineer\n",
      "Designation :  Lead Developer\n"
     ]
    }
   ],
   "source": [
    "# Define a Company class\n",
    "class Company:\n",
    "    # Constructor to initialize attributes\n",
    "    def __init__(self, name, age, gender, salary, profession, designation):\n",
    "        self.name = name\n",
    "        self.age = age\n",
    "        self.gender = gender\n",
    "        self.salary = salary\n",
    "        self.profession = profession\n",
    "        self.designation = designation\n",
    "\n",
    "    # Method to display details of an employee\n",
    "    def show_details(self):\n",
    "        print(\"\\nThe details are...\")\n",
    "        print(\"Name        : \", self.name)\n",
    "        print(\"Gender      : \", self.gender)\n",
    "        print(\"Salary      : \", self.salary)\n",
    "        print(\"Profession  : \", self.profession)\n",
    "        print(\"Designation : \", self.designation)\n",
    "\n",
    "# Creating instances of the Company class\n",
    "employee1 = Company(\"John Doe\", 30, \"Male\", 60000, \"Software Engineer\", \"Developer\")\n",
    "employee2 = Company(\"Jane Smith\", 28, \"Female\", 70000, \"Data Scientist\", \"Analyst\")\n",
    "employee3 = Company(\"Bob Johnson\", 35, \"Male\", 80000, \"Project Manager\", \"Manager\")\n",
    "employee4 = Company(\"Alice Brown\", 32, \"Female\", 75000, \"UX Designer\", \"Designer\")\n",
    "employee5 = Company(\"Charlie Davis\", 40, \"Male\", 90000, \"Senior Software Engineer\", \"Lead Developer\")\n",
    "\n",
    "# Displaying details for each employee\n",
    "employee1.show_details()\n",
    "employee2.show_details()\n",
    "employee3.show_details()\n",
    "employee4.show_details()\n",
    "employee5.show_details()\n"
   ]
  },
  {
   "cell_type": "markdown",
   "id": "df5c6917",
   "metadata": {
    "id": "df5c6917"
   },
   "source": [
    "### 2. \n",
    "\n",
    "Write a program to store details of 6 customers in a text file with features of Unique Customer Id, Name, Location, Phone Number, Last Purchase Date for an ecommerce website that canbe considered for future records\n"
   ]
  },
  {
   "cell_type": "code",
   "execution_count": 3,
   "id": "121a42ae",
   "metadata": {},
   "outputs": [
    {
     "name": "stdout",
     "output_type": "stream",
     "text": [
      "Customer details have been stored\n"
     ]
    }
   ],
   "source": [
    "# Class definition for Customer\n",
    "class Customer:\n",
    "    def __init__(self, cust_id, name, location, phone, purchase_date):\n",
    "        # Initialize a Customer instance with provided attributes\n",
    "        self.cust_id = cust_id\n",
    "        self.name = name\n",
    "        self.location = location\n",
    "        self.phone = phone\n",
    "        self.purchase_date = purchase_date\n",
    "\n",
    "    @staticmethod\n",
    "    def store_details(customers, file):\n",
    "        # Static method to store customer details in a file\n",
    "        with open(file, 'w') as file:\n",
    "            for cust in customers:\n",
    "                file.write(f\"Cust_id: {cust.cust_id}\\n\")\n",
    "                file.write(f\"Name: {cust.name}\\n\")\n",
    "                file.write(f\"Location: {cust.location}\\n\")\n",
    "                file.write(f\"Phone Number: {cust.phone}\\n\")\n",
    "                file.write(f\"Last purchase date: {cust.purchase_date}\\n\\n\")\n",
    "            print(\"Customer details have been stored\")\n",
    "\n",
    "# Create instances of the Customer class for 6 customers\n",
    "cust1 = Customer(\"C001\", \"Alice\", \"New York\", \"555-1234\", \"2023-01-15\")\n",
    "cust2 = Customer(\"C002\", \"Bob\", \"Los Angeles\", \"555-5678\", \"2023-02-20\")\n",
    "cust3 = Customer(\"C003\", \"Charlie\", \"Chicago\", \"555-9012\", \"2023-03-25\")\n",
    "cust4 = Customer(\"C004\", \"David\", \"San Francisco\", \"555-3456\", \"2023-04-30\")\n",
    "cust5 = Customer(\"C005\", \"Eva\", \"Seattle\", \"555-7890\", \"2023-05-05\")\n",
    "cust6 = Customer(\"C006\", \"Frank\", \"Miami\", \"555-2345\", \"2023-06-10\")\n",
    "\n",
    "# Create a list of Customer instances\n",
    "customer_list = [cust1, cust2, cust3, cust4, cust5, cust6]\n",
    "\n",
    "# Call the static method to store customer details in a file\n",
    "Customer.store_details(customer_list, 'customer_details.txt')\n"
   ]
  },
  {
   "cell_type": "code",
   "execution_count": 4,
   "id": "809077ee",
   "metadata": {},
   "outputs": [
    {
     "name": "stdout",
     "output_type": "stream",
     "text": [
      "Cust_id: C001\n",
      "Name: Alice\n",
      "Location: New York\n",
      "Phone Number: 555-1234\n",
      "Last purchase date: 2023-01-15\n",
      "\n",
      "Cust_id: C002\n",
      "Name: Bob\n",
      "Location: Los Angeles\n",
      "Phone Number: 555-5678\n",
      "Last purchase date: 2023-02-20\n",
      "\n",
      "Cust_id: C003\n",
      "Name: Charlie\n",
      "Location: Chicago\n",
      "Phone Number: 555-9012\n",
      "Last purchase date: 2023-03-25\n",
      "\n",
      "Cust_id: C004\n",
      "Name: David\n",
      "Location: San Francisco\n",
      "Phone Number: 555-3456\n",
      "Last purchase date: 2023-04-30\n",
      "\n",
      "Cust_id: C005\n",
      "Name: Eva\n",
      "Location: Seattle\n",
      "Phone Number: 555-7890\n",
      "Last purchase date: 2023-05-05\n",
      "\n",
      "Cust_id: C006\n",
      "Name: Frank\n",
      "Location: Miami\n",
      "Phone Number: 555-2345\n",
      "Last purchase date: 2023-06-10\n",
      "\n",
      "\n"
     ]
    }
   ],
   "source": [
    "# Open and read the contents of the customer details file\n",
    "with open('customer_details.txt', 'r') as file:\n",
    "    print(file.read())\n",
    "    file.close()"
   ]
  },
  {
   "cell_type": "markdown",
   "id": "51f22264",
   "metadata": {
    "id": "51f22264"
   },
   "source": [
    "### 3. \n",
    "\n",
    "Build a Simple Calculator using Exception Handling (try, except) that solves 4 arithmetic operations like Addition, Subtraction, Multiplication and Division.\n"
   ]
  },
  {
   "cell_type": "code",
   "execution_count": 5,
   "id": "2346050a",
   "metadata": {},
   "outputs": [],
   "source": [
    "def simple_calculator():\n",
    "    try:\n",
    "        # Get user input for the first number, second number, and operator\n",
    "        num1 = float(input(\"First number : \"))\n",
    "        num2 = float(input(\"Second number: \"))\n",
    "        operator = input(\"Operator       : \")\n",
    "\n",
    "        # Perform the operation based on the entered operator\n",
    "        if operator == '+':\n",
    "            result = num1 + num2\n",
    "        elif operator == '-':\n",
    "            result = num1 - num2\n",
    "        elif operator == '*':\n",
    "            result = num1 * num2\n",
    "        elif operator == '/':\n",
    "            result = num1 / num2\n",
    "        else:\n",
    "            # Handle invalid operator input\n",
    "            print(\"Invalid input: Please enter any of the following operators '+', '-', '*', or '/'.\")\n",
    "            return\n",
    "\n",
    "        # Print the result of the calculation\n",
    "        print(\"Result : \", result)\n",
    "\n",
    "    except ValueError:\n",
    "        # Handle invalid number input\n",
    "        print(\"Invalid Input: Please enter a valid number\")\n",
    "\n"
   ]
  },
  {
   "cell_type": "code",
   "execution_count": 7,
   "id": "0b14107d",
   "metadata": {},
   "outputs": [
    {
     "name": "stdout",
     "output_type": "stream",
     "text": [
      "First number : 34\n",
      "Second number: 23\n",
      "Operator       : *\n",
      "Result :  782.0\n"
     ]
    }
   ],
   "source": [
    "# Call the simple calculator function\n",
    "simple_calculator()\n"
   ]
  }
 ],
 "metadata": {
  "colab": {
   "provenance": []
  },
  "kernelspec": {
   "display_name": "Python 3 (ipykernel)",
   "language": "python",
   "name": "python3"
  },
  "language_info": {
   "codemirror_mode": {
    "name": "ipython",
    "version": 3
   },
   "file_extension": ".py",
   "mimetype": "text/x-python",
   "name": "python",
   "nbconvert_exporter": "python",
   "pygments_lexer": "ipython3",
   "version": "3.11.4"
  }
 },
 "nbformat": 4,
 "nbformat_minor": 5
}
