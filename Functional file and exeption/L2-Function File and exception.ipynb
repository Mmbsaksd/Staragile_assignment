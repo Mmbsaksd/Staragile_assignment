{
 "cells": [
  {
   "cell_type": "markdown",
   "id": "4f1596de",
   "metadata": {
    "id": "4f1596de"
   },
   "source": [
    "# Functions\n",
    "- Write solution of each question in the cell given below the corresponsing question.\n",
    "- Function taking input refers to input as a parameter / argument being passed."
   ]
  },
  {
   "cell_type": "markdown",
   "id": "6f0d9ac3",
   "metadata": {
    "id": "6f0d9ac3"
   },
   "source": [
    "#### 1. Create a function that takes a list of numbers as input and returns the median."
   ]
  },
  {
   "cell_type": "code",
   "execution_count": 1,
   "id": "0a090145",
   "metadata": {
    "id": "0a090145"
   },
   "outputs": [],
   "source": [
    "# Function to calculate the median of a list of numbers\n",
    "def cal_medium(num):\n",
    "    # Get the length of the input list\n",
    "    l = len(num)\n",
    "\n",
    "    # Sort the input list in ascending order\n",
    "    sort_num = sorted(num)\n",
    "\n",
    "    # Check if the number of elements is even\n",
    "    if l % 2 == 0:\n",
    "        # Calculate the indices for the middle two elements\n",
    "        i = l // 2\n",
    "        j = (l // 2) - 1\n",
    "\n",
    "        # Return the average of the middle two elements\n",
    "        return (sort_num[i] + sort_num[j]) / 2\n",
    "    else:\n",
    "        # Calculate the index for the middle element\n",
    "        i = l // 2\n",
    "\n",
    "        # Return the middle element\n",
    "        return sort_num[i]"
   ]
  },
  {
   "cell_type": "code",
   "execution_count": 2,
   "id": "zsPDITuiIhY7",
   "metadata": {
    "id": "zsPDITuiIhY7"
   },
   "outputs": [
    {
     "name": "stdout",
     "output_type": "stream",
     "text": [
      "Median: 4.5\n"
     ]
    }
   ],
   "source": [
    "# Example usage:\n",
    "numbers_list = [5, 2, 8, 1, 6, 3, 7, 4]\n",
    "result = cal_medium(numbers_list)\n",
    "print(\"Median:\", result)"
   ]
  },
  {
   "cell_type": "markdown",
   "id": "18a107c4",
   "metadata": {
    "id": "18a107c4"
   },
   "source": [
    "#### 2. Create a function that takes a list of numbers as input and returns the mean."
   ]
  },
  {
   "cell_type": "code",
   "execution_count": 3,
   "id": "Vy8v3p_hIgsc",
   "metadata": {
    "id": "Vy8v3p_hIgsc"
   },
   "outputs": [],
   "source": [
    "# Function to calculate the mean (average) of a list of numbers\n",
    "def cal_mean(num):\n",
    "    return sum(num) / len(num)"
   ]
  },
  {
   "cell_type": "code",
   "execution_count": 4,
   "id": "9533b14a",
   "metadata": {
    "id": "9533b14a"
   },
   "outputs": [
    {
     "name": "stdout",
     "output_type": "stream",
     "text": [
      "Mean: 4.5\n"
     ]
    }
   ],
   "source": [
    "# Example usage:\n",
    "numbers_list = [5, 2, 8, 1, 6, 3, 7, 4]\n",
    "result = cal_mean(numbers_list)\n",
    "\n",
    "# Print the result (mean)\n",
    "print(\"Mean:\", result)"
   ]
  },
  {
   "cell_type": "markdown",
   "id": "34df49cf",
   "metadata": {
    "id": "34df49cf"
   },
   "source": [
    "#### 3. Create a function that takes a list of numbers as input and returns the standard deviation."
   ]
  },
  {
   "cell_type": "code",
   "execution_count": 5,
   "id": "5a089785",
   "metadata": {
    "id": "5a089785"
   },
   "outputs": [],
   "source": [
    "# Function to calculate the standard deviation of a list of numbers\n",
    "def cal_std(num):\n",
    "    # Get the length of the input list\n",
    "    l = len(num)\n",
    "\n",
    "    # Calculate the mean\n",
    "    m = sum(num) / l\n",
    "\n",
    "    # Calculate the variance\n",
    "    var = sum((x - m) ** 2 for x in num) / l\n",
    "\n",
    "    # Return the standard deviation (square root of variance)\n",
    "    return var ** 0.5"
   ]
  },
  {
   "cell_type": "code",
   "execution_count": 6,
   "id": "7QrYx5jiLON6",
   "metadata": {
    "id": "7QrYx5jiLON6"
   },
   "outputs": [
    {
     "name": "stdout",
     "output_type": "stream",
     "text": [
      "Standard Deviation: 2.29128784747792\n"
     ]
    }
   ],
   "source": [
    "# Example usage:\n",
    "numbers_list = [5, 2, 8, 1, 6, 3, 7, 4]\n",
    "result = cal_std(numbers_list)\n",
    "\n",
    "# Print the result (standard deviation)\n",
    "print(\"Standard Deviation:\", result)"
   ]
  },
  {
   "cell_type": "markdown",
   "id": "9cc39352",
   "metadata": {
    "id": "9cc39352"
   },
   "source": [
    "#### 4. Create a function that takes a number as input and return True if the number is prime , False if not."
   ]
  },
  {
   "cell_type": "code",
   "execution_count": 7,
   "id": "722fc2fa",
   "metadata": {
    "id": "722fc2fa"
   },
   "outputs": [],
   "source": [
    "# Function to check if a number is prime\n",
    "def prime(num):\n",
    "    # Check if the number is less than or equal to 1\n",
    "    if num <= 1:\n",
    "        return False\n",
    "    else:\n",
    "        # Iterate through the range from 2 to the square root of the number + 1\n",
    "        for i in range(2, int(num**0.5) + 1):\n",
    "            # If any divisor is found, the number is not prime\n",
    "            if num % i == 0:\n",
    "                return False\n",
    "    # If no divisors are found, the number is prime\n",
    "    return True"
   ]
  },
  {
   "cell_type": "code",
   "execution_count": 8,
   "id": "9c4ea068",
   "metadata": {},
   "outputs": [
    {
     "data": {
      "text/plain": [
       "False"
      ]
     },
     "execution_count": 8,
     "metadata": {},
     "output_type": "execute_result"
    }
   ],
   "source": [
    "# Example usage:\n",
    "prime(9)"
   ]
  },
  {
   "cell_type": "markdown",
   "id": "4029f3a8",
   "metadata": {
    "id": "4029f3a8"
   },
   "source": [
    "#### 5. Create a function that takes a list of numbers as input and returns the variance."
   ]
  },
  {
   "cell_type": "code",
   "execution_count": 9,
   "id": "83d19248",
   "metadata": {
    "id": "83d19248"
   },
   "outputs": [],
   "source": [
    "# Function to calculate the variance of a list of numbers\n",
    "def cal_var(num):\n",
    "    # Calculate the mean of the list\n",
    "    mean = sum(num) / len(num)\n",
    "    \n",
    "    # Calculate the squared differences from the mean\n",
    "    squared_diff = [(x - mean)**2 for x in num]\n",
    "    \n",
    "    # Calculate the variance by summing up squared differences and dividing by the length\n",
    "    variance = sum(squared_diff) / len(num)\n",
    "    \n",
    "    return variance"
   ]
  },
  {
   "cell_type": "code",
   "execution_count": 10,
   "id": "28b10ad1",
   "metadata": {},
   "outputs": [
    {
     "name": "stdout",
     "output_type": "stream",
     "text": [
      "Variance: 5.25\n"
     ]
    }
   ],
   "source": [
    "# Example usage:\n",
    "result = cal_var([5, 2, 8, 1, 6, 3, 7, 4])\n",
    "print(\"Variance:\", result)"
   ]
  },
  {
   "cell_type": "markdown",
   "id": "7acad1bf",
   "metadata": {
    "id": "7acad1bf"
   },
   "source": [
    "#### 6. Create a function that takes a number as input and returns the factorial."
   ]
  },
  {
   "cell_type": "code",
   "execution_count": 11,
   "id": "f7c0877a",
   "metadata": {
    "id": "f7c0877a"
   },
   "outputs": [],
   "source": [
    "# Function to calculate the factorial of a number\n",
    "def factorial(num):\n",
    "    # Initialize the result variable\n",
    "    f = 1\n",
    "\n",
    "    # Multiply by each integer from 1 to num\n",
    "    for i in range(1, num + 1):\n",
    "        f *= i\n",
    "\n",
    "    # Return the final result\n",
    "    return f"
   ]
  },
  {
   "cell_type": "code",
   "execution_count": 12,
   "id": "599afe30",
   "metadata": {},
   "outputs": [
    {
     "data": {
      "text/plain": [
       "24"
      ]
     },
     "execution_count": 12,
     "metadata": {},
     "output_type": "execute_result"
    }
   ],
   "source": [
    "#Example\n",
    "factorial(4)"
   ]
  },
  {
   "cell_type": "markdown",
   "id": "b1e46b1f",
   "metadata": {
    "id": "b1e46b1f"
   },
   "source": [
    "#### 7. Create a function that takes two lists of same length as input and returns a list consisting of larger element at each position after comparing the corresponding elements in the given lists."
   ]
  },
  {
   "cell_type": "code",
   "execution_count": 13,
   "id": "bc428d22",
   "metadata": {
    "id": "bc428d22"
   },
   "outputs": [],
   "source": [
    "def larger(num1, num2):\n",
    "    # Use zip to iterate through corresponding elements of num1 and num2\n",
    "    s = zip(num1, num2)\n",
    "    \n",
    "    # Initialize an empty list to store the larger elements\n",
    "    d = []\n",
    "    \n",
    "    # Iterate through corresponding elements and compare\n",
    "    for i, j in s:\n",
    "        # Append the larger element to the result list\n",
    "        d.append(max(i, j))\n",
    "    \n",
    "    # Return the resulting list containing the larger element at each position\n",
    "    return d\n"
   ]
  },
  {
   "cell_type": "code",
   "execution_count": 14,
   "id": "a59bd1dc",
   "metadata": {},
   "outputs": [
    {
     "data": {
      "text/plain": [
       "[5, 7, 9, 8]"
      ]
     },
     "execution_count": 14,
     "metadata": {},
     "output_type": "execute_result"
    }
   ],
   "source": [
    "num1 = [3, 7, 2, 8]\n",
    "num2 = [5, 1, 9, 4]\n",
    "larger(num1,num2)"
   ]
  },
  {
   "cell_type": "markdown",
   "id": "f397889f",
   "metadata": {
    "id": "f397889f"
   },
   "source": [
    "#### 8. Create a function that takes a string and returns a string after joining the words that are having even lengths."
   ]
  },
  {
   "cell_type": "code",
   "execution_count": 15,
   "id": "ebf96e1c",
   "metadata": {
    "id": "ebf96e1c"
   },
   "outputs": [],
   "source": [
    "def even_str(st):\n",
    "    # Split the input string into a list of words\n",
    "    st_split = st.split()\n",
    "\n",
    "    # Initialize an empty list to store words with even lengths\n",
    "    n_str = []\n",
    "\n",
    "    # Iterate through the words and filter those with even lengths\n",
    "    for word in st_split:\n",
    "        if len(word) % 2 == 0:\n",
    "            n_str.append(word)\n",
    "\n",
    "    # Join the selected words with even lengths into a new string\n",
    "    return \" \".join(n_str)\n"
   ]
  },
  {
   "cell_type": "code",
   "execution_count": 16,
   "id": "10c8a607",
   "metadata": {},
   "outputs": [
    {
     "data": {
      "text/plain": [
       "\"Your larger function is well-written accomplishes task of elements in list with larger at each Here's of your\""
      ]
     },
     "execution_count": 16,
     "metadata": {},
     "output_type": "execute_result"
    }
   ],
   "source": [
    "st = \"Your larger function is well-written and effectively accomplishes the task of comparing corresponding elements in two lists and returning a new list with the larger element at each position. Here's a brief summary of your code:\"\n",
    "even_str(st)"
   ]
  },
  {
   "cell_type": "markdown",
   "id": "36c6aae1",
   "metadata": {
    "id": "36c6aae1"
   },
   "source": [
    "#### 9. Create a function that takes a string and a character as input and returns a list after splitting the string based on the given character. By Default split based on whitespace. (Create a function similar to the inbuilt split function without using it)."
   ]
  },
  {
   "cell_type": "code",
   "execution_count": 17,
   "id": "869d7244",
   "metadata": {
    "id": "869d7244"
   },
   "outputs": [],
   "source": [
    "def custom_split(st, ch=None):\n",
    "    n = 0  # Initialize the start index of the current substring\n",
    "    m = []  # Initialize a list to store the split substrings\n",
    "\n",
    "    if ch is None:\n",
    "        # If no delimiter is provided (ch is None), split based on whitespace\n",
    "        for i, c in enumerate(st):\n",
    "            if c.isspace():\n",
    "                # Found a whitespace, add the current substring to the list\n",
    "                m.append(st[n:i])\n",
    "                n = i + 1\n",
    "        m.append(st[n:])  # Add the last substring after the loop\n",
    "        return m\n",
    "    else:\n",
    "        # If a delimiter (ch) is provided, split based on that character\n",
    "        for i, c in enumerate(st):\n",
    "            if c == ch:\n",
    "                # Found the delimiter, add the current substring to the list\n",
    "                m.append(st[n:i])\n",
    "                n = i + 1\n",
    "        m.append(st[n:])  # Add the last substring after the last occurrence of ch\n",
    "        return m"
   ]
  },
  {
   "cell_type": "code",
   "execution_count": 18,
   "id": "92b1ff0a",
   "metadata": {},
   "outputs": [
    {
     "data": {
      "text/plain": [
       "['sam', 'and', 'ham', 'are', 'friends']"
      ]
     },
     "execution_count": 18,
     "metadata": {},
     "output_type": "execute_result"
    }
   ],
   "source": [
    "# Example usage with Default:\n",
    "s = 'sam and ham are friends'\n",
    "custom_split(s)"
   ]
  },
  {
   "cell_type": "code",
   "execution_count": 19,
   "id": "c4d0526d",
   "metadata": {},
   "outputs": [
    {
     "data": {
      "text/plain": [
       "['This', 'is', 'a', 'sample', 'string', 'with', 'colons']"
      ]
     },
     "execution_count": 19,
     "metadata": {},
     "output_type": "execute_result"
    }
   ],
   "source": [
    "# Example usage:\n",
    "s = \"This:is:a:sample:string:with:colons\"\n",
    "m = \":\"\n",
    "custom_split(s,m)"
   ]
  },
  {
   "cell_type": "markdown",
   "id": "b8c01afd",
   "metadata": {
    "id": "b8c01afd"
   },
   "source": [
    "#### 10. Create a function which takes a 2-D list of shape m * n where m is number of elements in the original list and where each element is a list having n integers (A list of m lists having n numbers each, a matrix). The function returns the largest element in the given list."
   ]
  },
  {
   "cell_type": "code",
   "execution_count": 20,
   "id": "adda1366",
   "metadata": {
    "id": "adda1366"
   },
   "outputs": [],
   "source": [
    "def largest_num(matrix):\n",
    "    num = matrix[0][0]  # Initialize num with the first element of the matrix\n",
    "\n",
    "    for m in matrix:  # Iterate through each row in the matrix\n",
    "        for n in m:   # Iterate through each element in the row\n",
    "            if num < n:\n",
    "                num = n  # Update num if a larger number is found\n",
    "\n",
    "    return num  # Return the largest number in the matrix"
   ]
  },
  {
   "cell_type": "code",
   "execution_count": 21,
   "id": "41dd0562",
   "metadata": {},
   "outputs": [
    {
     "data": {
      "text/plain": [
       "9"
      ]
     },
     "execution_count": 21,
     "metadata": {},
     "output_type": "execute_result"
    }
   ],
   "source": [
    "#Testing function with example\n",
    "matrix = [\n",
    "    [3, 7, 1],\n",
    "    [8, 4, 5],\n",
    "    [2, 6, 9]\n",
    "]\n",
    "largest_num(matrix)"
   ]
  },
  {
   "cell_type": "markdown",
   "id": "d2a2a668",
   "metadata": {
    "id": "d2a2a668"
   },
   "source": [
    "#### 11. Create a function which takes a 2-D list of shape m * n where m is number of elements in the original list and where each element is a list having n integers (A list of m lists having n numbers each). The function also takes a number x as input and returns True is x is in the given 2D list."
   ]
  },
  {
   "cell_type": "code",
   "execution_count": 22,
   "id": "585d5e4b",
   "metadata": {
    "id": "585d5e4b"
   },
   "outputs": [],
   "source": [
    "def num_checker(num, x):\n",
    "    # Iterate through each row in the 2D list\n",
    "    for i in num:\n",
    "        # Iterate through each element in the row\n",
    "        for j in i:\n",
    "            if j == x:\n",
    "                return True  # Return True if the target number is found\n",
    "    return False  # Return False if the target number is not found in the entire 2D list"
   ]
  },
  {
   "cell_type": "code",
   "execution_count": 23,
   "id": "84aae689",
   "metadata": {},
   "outputs": [
    {
     "name": "stdout",
     "output_type": "stream",
     "text": [
      "True\n"
     ]
    }
   ],
   "source": [
    "matrix = [\n",
    "    [3, 7, 1],\n",
    "    [8, 4, 5],\n",
    "    [2, 6, 9]\n",
    "]\n",
    "x = 9\n",
    "print(num_checker(matrix,x))"
   ]
  },
  {
   "cell_type": "markdown",
   "id": "0d889f51",
   "metadata": {
    "id": "0d889f51"
   },
   "source": [
    "#### 12. Create a function which takes a 2-D list of shape m * n where m is number of elements in the original list and where each element is a list having n integers (A list of m lists having n numbers each). The function returns the sum of all rows in the matrix (2 D list)."
   ]
  },
  {
   "cell_type": "code",
   "execution_count": 24,
   "id": "56d82617",
   "metadata": {
    "id": "56d82617"
   },
   "outputs": [],
   "source": [
    "def sum_row(num):\n",
    "    # Calculate the sum of each row in the 2D list\n",
    "    return [sum(n) for n in num]"
   ]
  },
  {
   "cell_type": "code",
   "execution_count": 25,
   "id": "599a406e",
   "metadata": {},
   "outputs": [
    {
     "name": "stdout",
     "output_type": "stream",
     "text": [
      "[11, 17, 17]\n"
     ]
    }
   ],
   "source": [
    "matrix = [\n",
    "    [3, 7, 1],\n",
    "    [8, 4, 5],\n",
    "    [2, 6, 9]\n",
    "]\n",
    "x = 9\n",
    "print(sum_row(matrix))"
   ]
  },
  {
   "cell_type": "markdown",
   "id": "f89438e1",
   "metadata": {
    "id": "f89438e1"
   },
   "source": [
    "#### 13. Create a function which takes a 2-D list of shape m * n where m is number of elements in the original list and where each element is a list having n integers (A list of m lists having n numbers each). The function also a takes a number x as input and returns a list of all consecutive pairs having sum eaqqual to x."
   ]
  },
  {
   "cell_type": "code",
   "execution_count": 26,
   "id": "c857dfcd",
   "metadata": {
    "id": "c857dfcd"
   },
   "outputs": [],
   "source": [
    "def num_pair(num, x):\n",
    "    # List to store sublists with elements summing to x\n",
    "    result = []\n",
    "\n",
    "    # Iterate through each sublist in the given list\n",
    "    for n in num:\n",
    "        # Check if the sum of elements in the current sublist equals the target value x\n",
    "        if sum(n) == x:\n",
    "            # If true, append the current sublist to the result list\n",
    "            result.append(n)\n",
    "\n",
    "    # Return the final list of sublists with the target sum\n",
    "    return result"
   ]
  },
  {
   "cell_type": "code",
   "execution_count": 27,
   "id": "234628a3",
   "metadata": {},
   "outputs": [
    {
     "name": "stdout",
     "output_type": "stream",
     "text": [
      "[[5, 4, 1]]\n"
     ]
    }
   ],
   "source": [
    "# Example usage:\n",
    "numbers = [\n",
    "    [1, 2, 3],\n",
    "    [4, 5, 6],\n",
    "    [7, 8, 9],\n",
    "    [5, 4, 1]\n",
    "]\n",
    "\n",
    "target_sum = 10\n",
    "\n",
    "result = num_pair(numbers, target_sum)\n",
    "print(result)"
   ]
  },
  {
   "cell_type": "markdown",
   "id": "976248d9",
   "metadata": {
    "id": "976248d9"
   },
   "source": [
    "#### 14. Create a function that takes a list and a number as input and returns True ifthe number is present in the list otherwise false using Binary search algorithm. (Read about Binary Search)."
   ]
  },
  {
   "cell_type": "code",
   "execution_count": 28,
   "id": "ef73c7cb",
   "metadata": {
    "id": "ef73c7cb"
   },
   "outputs": [],
   "source": [
    "def binary_search(num,n):\n",
    "    l = len(num)  # length of the list\n",
    "    m = l//2  # middle index of the list\n",
    "    while m>0 and m<l:  # loop until the middle index is within the bounds of the list\n",
    "        if num[m]==n:  # if the middle element is equal to the target\n",
    "            return True  # return True\n",
    "        elif num[m]<n:  # if the middle element is less than the target\n",
    "            m = (l+m+1)//2  # search the right half of the list\n",
    "        elif num[m]>n:  # if the middle element is greater than the target\n",
    "            l = m  # search the left half of the list\n",
    "            m = l//2  # update the middle index\n",
    "    return False  # return False if the target is not found"
   ]
  },
  {
   "cell_type": "code",
   "execution_count": 29,
   "id": "2b1b430e",
   "metadata": {},
   "outputs": [
    {
     "data": {
      "text/plain": [
       "False"
      ]
     },
     "execution_count": 29,
     "metadata": {},
     "output_type": "execute_result"
    }
   ],
   "source": [
    "num = [1, 2, 3, 4, 5, 6, 7, 8, 9, 10]\n",
    "n = 12\n",
    "binary_search(num,n)"
   ]
  },
  {
   "cell_type": "markdown",
   "id": "f12cc8c9",
   "metadata": {
    "id": "f12cc8c9"
   },
   "source": [
    "#### 15. Create a function which takes a txt filename as input and returns the number of words in that file."
   ]
  },
  {
   "cell_type": "code",
   "execution_count": 30,
   "id": "46492494",
   "metadata": {
    "id": "46492494"
   },
   "outputs": [],
   "source": [
    "# Define a function that counts the number of words in a text file.\n",
    "def count_words(filename):\n",
    "    # open the file in read mode\n",
    "    with open(filename, 'r') as file: \n",
    "        # read the contents of the file\n",
    "        data = file.read()  \n",
    "         # split the contents into words\n",
    "        words = data.split() \n",
    "        # return the number of words\n",
    "        return len(words)"
   ]
  },
  {
   "cell_type": "code",
   "execution_count": 31,
   "id": "494367e2",
   "metadata": {
    "scrolled": true
   },
   "outputs": [
    {
     "name": "stdout",
     "output_type": "stream",
     "text": [
      "The file contains 170 words.\n"
     ]
    }
   ],
   "source": [
    "count = count_words('filename.txt')\n",
    "print(f'The file contains {count} words.')"
   ]
  },
  {
   "cell_type": "markdown",
   "id": "b2666c95",
   "metadata": {
    "id": "b2666c95"
   },
   "source": [
    "#### 16. Create a function which takes a txt filename as input and returns the number of line in the file."
   ]
  },
  {
   "cell_type": "code",
   "execution_count": 32,
   "id": "5ff27d42",
   "metadata": {
    "id": "5ff27d42"
   },
   "outputs": [],
   "source": [
    "def count_line(filename):\n",
    "    with open(filename,'r') as file:\n",
    "        line = file.readlines()\n",
    "        return len(line)"
   ]
  },
  {
   "cell_type": "code",
   "execution_count": 33,
   "id": "1a2b32d9",
   "metadata": {
    "scrolled": false
   },
   "outputs": [
    {
     "name": "stdout",
     "output_type": "stream",
     "text": [
      "The file contains 7 line.\n"
     ]
    }
   ],
   "source": [
    "count = count_line('filename.txt')\n",
    "print(f'The file contains {count} line.')"
   ]
  },
  {
   "cell_type": "markdown",
   "id": "6722fb75",
   "metadata": {
    "id": "6722fb75"
   },
   "source": [
    "#### 17. Create a function that takes two txt filenames and returns a file after merging the cintents of two given files. (Print the merged content and then return the filename, content of original files should be unchanged)."
   ]
  },
  {
   "cell_type": "code",
   "execution_count": 34,
   "id": "47b9db17",
   "metadata": {},
   "outputs": [
    {
     "name": "stdout",
     "output_type": "stream",
     "text": [
      "One day, a hare was showing off how fast he could run. He laughed at the turtle for being so slow. After seeing the overconfidence, the turtle moved him to a race. The hare (rabbit) laughed at the turtle's test, and he accepted his demand.\n",
      "As the race began, the rabbit ran extremely quickly and went far ahead of the turtle and got drained. He thought there was a lot of time to relax as the turtle was far away. Soon he slept, thinking he would win the race easily.\n",
      "However, the turtle(tortoise) kept walking slowly until he arrived at the finish line. The rabbit sees the turtle on the opposite side of the finish line. The turtle had won the race.\n",
      "\n",
      "\n",
      "After a shipwreck, a man who was the last standing figured out how to arrive at the shore. He asked God for help. After waiting too long for God to answer his requests, he built himself a hut for his protection with destroyed bits of a shipwreck.\n",
      "Every day he invested a lot of energy searching for food and looking at the skyline for God's help. One day, when he returned from his food search, he found his little hut burnt to ashes. Losing all hope, he felt helpless and shouted out of anger, \"Why God? Why do you never answer my prayers?\"\n",
      "After a couple of hours, a boat arrived at the shore for his rescue. The man asked the captain of the ship, \"How could you track me down?\" The Captain of the ship answered, \"We saw your smoke signal for help.\"\n",
      "The man's faith in God's will was re-established.\n"
     ]
    }
   ],
   "source": [
    "# Define the first text\n",
    "txt1 = '''One day, a hare was showing off how fast he could run. He laughed at the turtle for being so slow. After seeing the overconfidence, the turtle moved him to a race. The hare (rabbit) laughed at the turtle's test, and he accepted his demand.\n",
    "As the race began, the rabbit ran extremely quickly and went far ahead of the turtle and got drained. He thought there was a lot of time to relax as the turtle was far away. Soon he slept, thinking he would win the race easily.\n",
    "However, the turtle(tortoise) kept walking slowly until he arrived at the finish line. The rabbit sees the turtle on the opposite side of the finish line. The turtle had won the race.'''\n",
    "\n",
    "# Define the second text\n",
    "txt2 = '''After a shipwreck, a man who was the last standing figured out how to arrive at the shore. He asked God for help. After waiting too long for God to answer his requests, he built himself a hut for his protection with destroyed bits of a shipwreck.\n",
    "Every day he invested a lot of energy searching for food and looking at the skyline for God's help. One day, when he returned from his food search, he found his little hut burnt to ashes. Losing all hope, he felt helpless and shouted out of anger, \"Why God? Why do you never answer my prayers?\"\n",
    "After a couple of hours, a boat arrived at the shore for his rescue. The man asked the captain of the ship, \"How could you track me down?\" The Captain of the ship answered, \"We saw your smoke signal for help.\"\n",
    "The man's faith in God's will was re-established.'''\n",
    "\n",
    "# Open file1.txt and file2.txt for writing\n",
    "with open('file1.txt', 'w') as file1, open('file2.txt', 'w') as file2:\n",
    "    # Write txt1 to file1.txt\n",
    "    file1.write(txt1)\n",
    "    # Write txt2 to file2.txt\n",
    "    file2.write(txt2)\n",
    "\n",
    "# No need to manually close files when using \"with open\"\n",
    "\n",
    "# Open file1.txt and file2.txt for reading\n",
    "with open('file1.txt', 'r') as f1, open('file2.txt', 'r') as f2:\n",
    "    # Print the content of file1.txt\n",
    "    print(f1.read())\n",
    "    print('\\n')  # Print a new line for separation\n",
    "    # Print the content of file2.txt\n",
    "    print(f2.read())"
   ]
  },
  {
   "cell_type": "code",
   "execution_count": 35,
   "id": "86a4b436",
   "metadata": {
    "id": "86a4b436"
   },
   "outputs": [],
   "source": [
    "def merge_txt(file1, file2, merge_out):\n",
    "    # Open file1 and file2 in read mode\n",
    "    with open(file1, 'r') as f1, open(file2, 'r') as f2:\n",
    "        # Read the content of file1 and file2\n",
    "        content1 = f1.read()\n",
    "        content2 = f2.read()\n",
    "\n",
    "    # Merge the contents of file1 and file2 with a newline in between\n",
    "    merged_content = content1 + '\\n' + content2\n",
    "\n",
    "    # Open the merged file in write mode\n",
    "    with open(merge_out, 'w') as merge_file:\n",
    "        # Write the merged content to the merged file\n",
    "        merge_file.write(merged_content)\n",
    "\n",
    "    # Open the merged file in read mode to print its content\n",
    "    with open(merge_out, 'r') as merge:\n",
    "        # Print the content of the merged file\n",
    "        print(merge.read())\n"
   ]
  },
  {
   "cell_type": "code",
   "execution_count": 36,
   "id": "4902236c",
   "metadata": {},
   "outputs": [
    {
     "name": "stdout",
     "output_type": "stream",
     "text": [
      "One day, a hare was showing off how fast he could run. He laughed at the turtle for being so slow. After seeing the overconfidence, the turtle moved him to a race. The hare (rabbit) laughed at the turtle's test, and he accepted his demand.\n",
      "As the race began, the rabbit ran extremely quickly and went far ahead of the turtle and got drained. He thought there was a lot of time to relax as the turtle was far away. Soon he slept, thinking he would win the race easily.\n",
      "However, the turtle(tortoise) kept walking slowly until he arrived at the finish line. The rabbit sees the turtle on the opposite side of the finish line. The turtle had won the race.\n",
      "After a shipwreck, a man who was the last standing figured out how to arrive at the shore. He asked God for help. After waiting too long for God to answer his requests, he built himself a hut for his protection with destroyed bits of a shipwreck.\n",
      "Every day he invested a lot of energy searching for food and looking at the skyline for God's help. One day, when he returned from his food search, he found his little hut burnt to ashes. Losing all hope, he felt helpless and shouted out of anger, \"Why God? Why do you never answer my prayers?\"\n",
      "After a couple of hours, a boat arrived at the shore for his rescue. The man asked the captain of the ship, \"How could you track me down?\" The Captain of the ship answered, \"We saw your smoke signal for help.\"\n",
      "The man's faith in God's will was re-established.\n"
     ]
    }
   ],
   "source": [
    "file1 = 'file1.txt'\n",
    "file2 = 'file2.txt'\n",
    "merge_out = 'merge_text.txt'\n",
    "merge_txt('file1.txt','file2.txt','merge_text.txt')"
   ]
  },
  {
   "cell_type": "markdown",
   "id": "faf26668",
   "metadata": {
    "id": "faf26668"
   },
   "source": [
    "#### 18. Write a program that takes a string as input and returns a list of all words having even length in that string (Using Map/Filter and Lambda expression)."
   ]
  },
  {
   "cell_type": "code",
   "execution_count": 37,
   "id": "955cd692",
   "metadata": {
    "id": "955cd692"
   },
   "outputs": [],
   "source": [
    "def even_length(string):\n",
    "    # Calculate the lengths of each word in the input string\n",
    "    lst_len = map(lambda x: len(x), string.split())\n",
    "    \n",
    "    # Filter the lengths to keep only even values\n",
    "    lst_even = list(filter(lambda x: x % 2 == 0, lst_len))\n",
    "    \n",
    "    # Create a list of words from the original string where the length is in the list of even lengths\n",
    "    result_words = [x for x in string.split() if len(x) in lst_even]\n",
    "    \n",
    "    # Return the final result\n",
    "    return result_words"
   ]
  },
  {
   "cell_type": "code",
   "execution_count": null,
   "id": "0ab321ae",
   "metadata": {},
   "outputs": [],
   "source": []
  },
  {
   "cell_type": "code",
   "execution_count": 39,
   "id": "e06b2791",
   "metadata": {},
   "outputs": [
    {
     "data": {
      "text/plain": [
       "['couple', 'of', 'hours,', 'boat', 'at', 'of', 'ship']"
      ]
     },
     "execution_count": 39,
     "metadata": {},
     "output_type": "execute_result"
    }
   ],
   "source": [
    "even_length(\"After a couple of hours, a boat arrived at the shore for his rescue. The man asked the captain of the ship\")"
   ]
  },
  {
   "cell_type": "code",
   "execution_count": null,
   "id": "e9ffcb48",
   "metadata": {},
   "outputs": [],
   "source": []
  }
 ],
 "metadata": {
  "colab": {
   "provenance": []
  },
  "kernelspec": {
   "display_name": "Python 3 (ipykernel)",
   "language": "python",
   "name": "python3"
  },
  "language_info": {
   "codemirror_mode": {
    "name": "ipython",
    "version": 3
   },
   "file_extension": ".py",
   "mimetype": "text/x-python",
   "name": "python",
   "nbconvert_exporter": "python",
   "pygments_lexer": "ipython3",
   "version": "3.11.4"
  }
 },
 "nbformat": 4,
 "nbformat_minor": 5
}
