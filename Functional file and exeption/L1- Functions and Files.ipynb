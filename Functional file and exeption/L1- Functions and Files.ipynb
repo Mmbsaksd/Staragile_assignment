{
 "cells": [
  {
   "cell_type": "markdown",
   "id": "d72f8ceb",
   "metadata": {
    "id": "d72f8ceb"
   },
   "source": [
    "# Assessment - 5 Gradable\n",
    "\n",
    "- Each question carries 5 or 4 marks\n",
    "- Marks will be assigned in terms of:\n",
    "    \n",
    "    **1. Expected output**\n",
    "    \n",
    "    **2. Quality and Explainability of code**\n",
    "\n",
    "    ***Go back through the script and type a comment above each line explaining in English what it does.***\n",
    "\n",
    "    **3. Copied code, if found, will result in 0 marks for that question. To avoid this make as much comments in the code to explain the approach**"
   ]
  },
  {
   "cell_type": "markdown",
   "id": "e5819cc0",
   "metadata": {
    "id": "e5819cc0"
   },
   "source": [
    "### 1. \n",
    "\n",
    "Create a function ``lets_find_88`` Given a list of ints, return True if the array contains a 8 next to a 8 somewhere.\n",
    "- lets_find_88([1, 8, 8]) → True\n",
    "- lets_find_88([1, 8, 1, 8]) → False\n",
    "- lets_find_88([8, 1, 8]) → False"
   ]
  },
  {
   "cell_type": "code",
   "execution_count": 48,
   "id": "88e3b5b4",
   "metadata": {
    "id": "88e3b5b4"
   },
   "outputs": [
    {
     "name": "stdout",
     "output_type": "stream",
     "text": [
      "True\n"
     ]
    }
   ],
   "source": [
    "# Function to check if there are consecutive equal elements in the list\n",
    "def lets_find_88(lst):\n",
    "    # Iterate through the list starting from the second element\n",
    "    for i in range(1, len(lst)):\n",
    "        # Check if the current element is equal to the previous one\n",
    "        if lst[i] == lst[i - 1]:\n",
    "            return True  # Return True if consecutive equal elements are found\n",
    "    # If the loop completes without finding consecutive equal elements, return False\n",
    "    return False\n",
    "\n",
    "# Example list to test the function\n",
    "example_list = [1, 2, 8, 8, 3]\n",
    "\n",
    "# Call the function with the example list\n",
    "result = lets_find_88(example_list)\n",
    "\n",
    "# Print the result of the function\n",
    "print(result)"
   ]
  },
  {
   "cell_type": "markdown",
   "id": "6b3f11fd",
   "metadata": {
    "id": "6b3f11fd"
   },
   "source": [
    "### 2. \n",
    "\n",
    "ANIMAL CRACKERS: Write a function takes a two-word string and returns True if both words begin with same letter and returns False if both words begin with different letter\n",
    "- animal_crackers('Levelheaded Lion') --> True\n",
    "- animal_crackers('Cute Kangaroo') --> False"
   ]
  },
  {
   "cell_type": "code",
   "execution_count": 54,
   "id": "15e45ae3",
   "metadata": {
    "id": "15e45ae3"
   },
   "outputs": [
    {
     "name": "stdout",
     "output_type": "stream",
     "text": [
      "True\n",
      "False\n"
     ]
    }
   ],
   "source": [
    "# Function to check if the first letters of two words in a string are the same\n",
    "def animal_crackers(word):\n",
    "    # Split the input string into two words\n",
    "    words = word.split()\n",
    "\n",
    "    # Check if the first letter of both words is the same (case-insensitive)\n",
    "    return words[0][0].lower() == words[1][0].lower()\n",
    "\n",
    "# Test cases\n",
    "result1 = animal_crackers('Levelheaded Lion') \n",
    "result2 = animal_crackers('Cute Kangaroo')     \n",
    "\n",
    "# Print the results of the function for the test cases\n",
    "print(result1)\n",
    "print(result2)"
   ]
  },
  {
   "cell_type": "markdown",
   "id": "42453e7d",
   "metadata": {
    "id": "42453e7d"
   },
   "source": [
    "### 3. \n",
    "\n",
    "Write a function ``how_many_primes`` that returns the number of prime numbers that exist up to and including a given number\n",
    "\n",
    "- how_many_primes(100) --> 25"
   ]
  },
  {
   "cell_type": "code",
   "execution_count": 72,
   "id": "b3302ec4",
   "metadata": {
    "id": "b3302ec4"
   },
   "outputs": [
    {
     "name": "stdout",
     "output_type": "stream",
     "text": [
      "Number of prime numbers in the first 100 numbers: 25\n"
     ]
    }
   ],
   "source": [
    "# Function to count the number of prime numbers up to a given number\n",
    "def how_many_primes(num):\n",
    "    # Function to check if a number is prime\n",
    "    def prime_num(n):\n",
    "        if n <= 1:\n",
    "            return False\n",
    "        for i in range(2, int(n**0.5) + 1):\n",
    "            if n % i == 0:\n",
    "                return False\n",
    "        return True\n",
    "\n",
    "    # Initialize a counter for prime numbers\n",
    "    prime_count = 0\n",
    "    \n",
    "    # Iterate through numbers up to the given number\n",
    "    for i in range(num):\n",
    "        if prime_num(i):\n",
    "            prime_count += 1  # Increment the counter if the current number is prime\n",
    "    \n",
    "    return prime_count  # Return the total count of prime numbers\n",
    "\n",
    "# Call the function with an argument of 100\n",
    "result = how_many_primes(100)\n",
    "\n",
    "# Print the result\n",
    "print(\"Number of prime numbers in the first 100 numbers:\", result)"
   ]
  },
  {
   "cell_type": "markdown",
   "id": "2b5f6f63",
   "metadata": {
    "id": "2b5f6f63"
   },
   "source": [
    "### 4. \n",
    "\n",
    "b = open(\"assignment.txt\")\n",
    "\n",
    "Consider the code given above and write the answers to the following :\n",
    "\n",
    "- Identify the name of the file : \n",
    "- Identify the name of the function used above : \n",
    "- What is 'b' in above code :\n",
    "- The above statement will  ____________ file in ___________ mode."
   ]
  },
  {
   "cell_type": "markdown",
   "id": "d8b8ae22",
   "metadata": {},
   "source": [
    "In the code snippet you provided:\n",
    "\n",
    "```python\n",
    "b = open(\"assignment.txt\")\n",
    "```\n",
    "\n",
    "- **Identify the name of the file:**\n",
    "  - The name of the file is \"assignment.txt.\"\n",
    "\n",
    "- **Identify the name of the function used above:**\n",
    "  - The function used here is `open()`, which is a built-in Python function for opening files.\n",
    "\n",
    "- **What is 'b' in the above code:**\n",
    "  - 'b' is a variable that represents the file object returned by the `open()` function. It's a common convention to use 'b' as a variable name for a file object, but you can choose any valid variable name.\n",
    "\n",
    "- **The above statement will ____________ file in ___________ mode:**\n",
    "  - The above statement will open the file \"assignment.txt\" in the default mode, which is read-only mode (`'r'`). If the mode is not specified, 'r' is assumed by default."
   ]
  },
  {
   "cell_type": "markdown",
   "id": "6c9eb680",
   "metadata": {
    "id": "6c9eb680"
   },
   "source": [
    "### 5.\n",
    "\n",
    "Accept five hobbies from the user and write in a file 'hobby.txt'. Then Read the file to list out all the 5 hobbies from the user."
   ]
  },
  {
   "cell_type": "code",
   "execution_count": 88,
   "id": "1b72062d",
   "metadata": {},
   "outputs": [
    {
     "name": "stdout",
     "output_type": "stream",
     "text": [
      "Hobbies listed in 'hobby.txt':\n",
      "Read\n",
      "Write\n",
      "Travel\n",
      "Sing\n",
      "Play\n"
     ]
    }
   ],
   "source": [
    "# Write hobbies to the file\n",
    "outfile = open('hobby.txt', 'w')\n",
    "outfile.write('Read\\nWrite\\nTravel\\nSing\\nPlay')\n",
    "outfile.close()\n",
    "\n",
    "# Read and print the contents of the file\n",
    "infile = open('hobby.txt', 'r')\n",
    "text = infile.read()\n",
    "print(\"Hobbies listed in 'hobby.txt':\")\n",
    "print(text)\n",
    "infile.close()"
   ]
  },
  {
   "cell_type": "code",
   "execution_count": null,
   "id": "f75e2578",
   "metadata": {},
   "outputs": [],
   "source": []
  }
 ],
 "metadata": {
  "colab": {
   "provenance": []
  },
  "kernelspec": {
   "display_name": "Python 3 (ipykernel)",
   "language": "python",
   "name": "python3"
  },
  "language_info": {
   "codemirror_mode": {
    "name": "ipython",
    "version": 3
   },
   "file_extension": ".py",
   "mimetype": "text/x-python",
   "name": "python",
   "nbconvert_exporter": "python",
   "pygments_lexer": "ipython3",
   "version": "3.11.4"
  }
 },
 "nbformat": 4,
 "nbformat_minor": 5
}
