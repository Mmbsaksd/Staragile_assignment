{
 "cells": [
  {
   "cell_type": "markdown",
   "id": "b462dadb",
   "metadata": {
    "id": "b462dadb"
   },
   "source": [
    "# Iterative Statements\n",
    "- Write solution of each question in the cell given below the corresponsing question."
   ]
  },
  {
   "cell_type": "markdown",
   "id": "f5aefe41",
   "metadata": {
    "id": "f5aefe41"
   },
   "source": [
    "#### 1. Tom and Bob are playing a game of dice. Each time a multiple of two comes up Tom gets a point and if a multiple of 3 comes up bob gets a point. If a multiple of both comes up then a point is deducted from both. Write a program to take a list as input consisting of 10 outcomes of the dice throw. Print the scores of both Tom and bob and the winner."
   ]
  },
  {
   "cell_type": "code",
   "execution_count": 7,
   "id": "WzFaY9Pk53Pl",
   "metadata": {
    "id": "WzFaY9Pk53Pl"
   },
   "outputs": [
    {
     "name": "stdout",
     "output_type": "stream",
     "text": [
      "Enter result of 10 results: 4 2 1 4 6 4 2 3 5 1\n",
      "Bob's score is 0\n",
      "Tom's score is 4\n",
      "Tom is the Winner\n"
     ]
    }
   ],
   "source": [
    "# Take a list as input consisting of 10 outcomes of the dice throw\n",
    "result = list(map(int, input(\"Enter result of 10 results: \").split()))\n",
    "\n",
    "# Initialize scores for Tom and Bob\n",
    "tom = 0\n",
    "bob = 0\n",
    "\n",
    "# Calculate scores based on the rules\n",
    "for num in result:\n",
    "    # Check if the number is divisible by both 2 and 3\n",
    "    if num % 2 == 0 and num % 3 == 0:\n",
    "        tom -= 1\n",
    "        bob -= 1\n",
    "    # Check if the number is divisible by 2\n",
    "    elif num % 2 == 0:\n",
    "        tom += 1\n",
    "    # Check if the number is divisible by 3\n",
    "    elif num % 3 == 0:\n",
    "        bob += 1\n",
    "\n",
    "# Print the scores of Tom and Bob\n",
    "print(\"Bob's score is {}\".format(bob))\n",
    "print(\"Tom's score is {}\".format(tom))\n",
    "\n",
    "# Determine the winner or declare a tie\n",
    "if tom > bob:\n",
    "    print(\"Tom is the Winner\")\n",
    "elif bob > tom:\n",
    "    print(\"Bob is the Winner\")\n",
    "else:\n",
    "    print(\"Match is a tie\")\n"
   ]
  },
  {
   "cell_type": "markdown",
   "id": "57ec6a53",
   "metadata": {
    "id": "57ec6a53"
   },
   "source": [
    "##### 2. Write a program to take a list of 10 numbers as input in single line and find out the largest element."
   ]
  },
  {
   "cell_type": "code",
   "execution_count": 9,
   "id": "scLsG4fkSyUu",
   "metadata": {
    "id": "scLsG4fkSyUu"
   },
   "outputs": [
    {
     "name": "stdout",
     "output_type": "stream",
     "text": [
      "Enter 10 numbers separated by space: 1 2 3 4 5 6 7 8 9 10\n",
      "Largest number in the list is 10\n"
     ]
    }
   ],
   "source": [
    "# Take a list of 10 numbers as input in a single line\n",
    "num = list(map(int, input(\"Enter 10 numbers separated by space: \").split()))\n",
    "\n",
    "# Initialize the current maximum with the first element of the list\n",
    "n = num[0]\n",
    "\n",
    "# Iterate through the list to find the largest element\n",
    "for i in num:\n",
    "    # Compare each element with the current maximum and update if a larger element is found\n",
    "    if i > n:\n",
    "        n = i\n",
    "\n",
    "# Print the result\n",
    "print(\"Largest number in the list is {}\".format(n))\n"
   ]
  },
  {
   "cell_type": "markdown",
   "id": "ee2cce37",
   "metadata": {
    "id": "ee2cce37"
   },
   "source": [
    "#### 3. Write a program to take a number as input and find out whether it is prime or not."
   ]
  },
  {
   "cell_type": "code",
   "execution_count": 15,
   "id": "td2eirqTZCiE",
   "metadata": {
    "id": "td2eirqTZCiE"
   },
   "outputs": [
    {
     "name": "stdout",
     "output_type": "stream",
     "text": [
      "Enter number here : 4\n",
      "4 is not a prime number\n"
     ]
    }
   ],
   "source": [
    "# Take user input for a number\n",
    "num = int(input(\"Enter number here : \"))\n",
    "\n",
    "# Check if the number is less than or equal to 2\n",
    "if num <= 2:\n",
    "    print(\"{} is not a prime number\".format(num))\n",
    "    \n",
    "else:\n",
    "    # Iterate through numbers from 2 to the square root of the input number\n",
    "    for n in range(2, int(num**0.5) + 1):\n",
    "        # Check if the number is divisible by any value in the iteration\n",
    "        if num % n == 0:\n",
    "            # If divisible, the number is not prime\n",
    "            print(\"{} is not a prime number\".format(num))\n",
    "            break\n",
    "    else:\n",
    "        # If no divisors are found, the number is prime\n",
    "        print(\"{} is a prime number\".format(num))\n"
   ]
  },
  {
   "cell_type": "markdown",
   "id": "07d5a484",
   "metadata": {
    "id": "07d5a484"
   },
   "source": [
    "#### 4. Take a list and a number as input, print all consecutive pairs of two numbers from the list having sum equal to the given number."
   ]
  },
  {
   "cell_type": "code",
   "execution_count": 44,
   "id": "e3acd75f",
   "metadata": {
    "id": "e3acd75f"
   },
   "outputs": [
    {
     "name": "stdout",
     "output_type": "stream",
     "text": [
      "Enter list of numbers here (space-separated): 1 2 3 4 5 6 7 8 9\n",
      "Enter a number here: 15\n",
      "8 and 7 are consecutive pairs of two numbers from the list having sum equal to the 15 number\n"
     ]
    }
   ],
   "source": [
    "# Take a list of numbers as input\n",
    "num1 = list(map(int, input(\"Enter list of numbers here (space-separated): \").split()))\n",
    "\n",
    "# Take a number as input for comparison\n",
    "num2 = int(input(\"Enter a number here: \"))\n",
    "\n",
    "# Iterate through the list to find consecutive pairs\n",
    "for num in range(1, len(num1)):\n",
    "    # Check if the sum of current and previous numbers equals the given number\n",
    "    if (num1[num] + num1[num - 1]) == num2:\n",
    "        # Print the consecutive pair and the given number\n",
    "        print(\"{} and {} are consecutive pairs of two numbers from the list having sum equal to the {} number\".format(num1[num], num1[num - 1], num2))\n",
    "        # Break out of the loop since we found a pair\n",
    "        break\n",
    "else:\n",
    "    # If the loop completes without finding a pair, print a message\n",
    "    print(\"There are no consecutive pairs of two numbers from the list having sum equal to the {} number\".format(num2))\n"
   ]
  },
  {
   "cell_type": "markdown",
   "id": "d2bc68d1",
   "metadata": {
    "id": "d2bc68d1"
   },
   "source": [
    "#### 5. Take a string as input and find out the number of words with even length and number of words with odd length."
   ]
  },
  {
   "cell_type": "code",
   "execution_count": 48,
   "id": "P1HffxgLZk6C",
   "metadata": {
    "id": "P1HffxgLZk6C"
   },
   "outputs": [
    {
     "name": "stdout",
     "output_type": "stream",
     "text": [
      "Enter the string here: Once, there was a miser who would hide all his gold under the stones in his garden. He never spent his gold, and without fail, he would count his coins before going to bed every day. One day a thief spotted him counting his coins. After the miser went to sleep, the thief stole all the gold.\n",
      "\n",
      "Number of even-length words in the string: 14\n",
      "Number of odd-length words in the string: 43\n"
     ]
    }
   ],
   "source": [
    "# Take a string as input and split it into words\n",
    "sent = input(\"Enter the string here: \").split()\n",
    "\n",
    "# Initialize counts for even and odd length words\n",
    "odd = 0\n",
    "even = 0\n",
    "\n",
    "# Iterate through each word to count even and odd length words\n",
    "for word in sent:\n",
    "    if len(word) % 2 == 0:\n",
    "        even += 1\n",
    "    else:\n",
    "        odd += 1\n",
    "\n",
    "# Print the counts of even and odd length words\n",
    "print(\"\\nNumber of even-length words in the string: {}\".format(even))\n",
    "print(\"Number of odd-length words in the string: {}\".format(odd))"
   ]
  },
  {
   "cell_type": "markdown",
   "id": "41da36a0",
   "metadata": {
    "id": "41da36a0"
   },
   "source": []
  },
  {
   "cell_type": "markdown",
   "id": "9bc04f36",
   "metadata": {
    "id": "9bc04f36"
   },
   "source": [
    "#### 6. Write a program to sort a given list using selection sort algorithm. (study selection sort and implement)"
   ]
  },
  {
   "cell_type": "code",
   "execution_count": 63,
   "id": "3abb8c1e",
   "metadata": {
    "id": "3abb8c1e"
   },
   "outputs": [
    {
     "name": "stdout",
     "output_type": "stream",
     "text": [
      "Enter a list of number : 9 8 6 7 5 2 4 3 1\n",
      "Select sort outcome of given list is : [1, 2, 3, 4, 5, 6, 7, 8, 9]\n"
     ]
    }
   ],
   "source": [
    "# Take a list of numbers as input\n",
    "num = list(map(int, input(\"Enter a list of numbers: \").split()))\n",
    "\n",
    "# Iterate over the elements of the list\n",
    "for i in range(len(num)):\n",
    "    # For each element, iterate over the remaining elements\n",
    "    for j in range(i + 1, len(num)):\n",
    "        # Compare the current element with the remaining elements\n",
    "        # If the current element is greater than the element being compared,\n",
    "        # swap their positions\n",
    "        if num[i] > num[j]:\n",
    "            num[i], num[j] = num[j], num[i]\n",
    "\n",
    "# Print the sorted list\n",
    "print(\"Selection sort outcome of the given list is: {}\".format(num))\n"
   ]
  },
  {
   "cell_type": "markdown",
   "id": "d2cf1bab",
   "metadata": {
    "id": "d2cf1bab"
   },
   "source": [
    "#### 7. Write a program to sort a given list using bubble sort algorithm. (Study bubble sort and implement)"
   ]
  },
  {
   "cell_type": "code",
   "execution_count": 67,
   "id": "OJAUtZLmyvMk",
   "metadata": {
    "id": "OJAUtZLmyvMk"
   },
   "outputs": [
    {
     "name": "stdout",
     "output_type": "stream",
     "text": [
      "Enter number series here : 3 6 4 8 5 1 2 9 \n",
      "Bubble sort list is :  [1, 2, 3, 4, 5, 6, 8, 9]\n"
     ]
    }
   ],
   "source": [
    "# Take a list of numbers as input\n",
    "num = list(map(int, input(\"Enter number series here: \").split()))\n",
    "\n",
    "# Outer loop to iterate through the list\n",
    "for j in range(len(num)):\n",
    "    # Inner loop to compare and swap adjacent elements\n",
    "    for i in range(1, len(num)):\n",
    "        # Compare adjacent elements and swap if they are in the wrong order\n",
    "        if num[i] < num[i - 1]:\n",
    "            num[i - 1], num[i] = num[i], num[i - 1]\n",
    "\n",
    "# Print the sorted list using bubble sort\n",
    "print(\"Bubble sort list is:\", num)"
   ]
  },
  {
   "cell_type": "markdown",
   "id": "1910df79",
   "metadata": {
    "id": "1910df79"
   },
   "source": [
    "#### 8. Take a string and a word and input. Find the frequenecy of occurrence of the word in the given string. (Without using any inbuilt function)"
   ]
  },
  {
   "cell_type": "code",
   "execution_count": 88,
   "id": "c50d4a3c",
   "metadata": {
    "id": "c50d4a3c"
   },
   "outputs": [
    {
     "name": "stdout",
     "output_type": "stream",
     "text": [
      "Enter string here: Having a best friend by Shaikh Subuhi is one of the best friendship moral stories in English. The story is about two friends who were walking through the desert. During the journey, they argued over something, and one friend slapped the other. The one who got slapped was hurt by this gesture of his best friend but did not react. He quietly wrote in the sand, “Today my best friend slapped me.”  After some time, they found an oasis and started taking a bath in the lake. Suddenly, the one who had been slapped started drowning. Then his friend came to his rescue and saved him. After he recovered from the drowning, he engraved “Today my best friend saved my life” on a stone.  The friend who had slapped earlier and later saved his best friend asked, “After I slapped you, you wrote in the sand, and now, as I saved you, you write on a stone, why?” The other friend replied, “I wrote in on sand because we should not keep the feeling of getting hurt by someone for a long time. But, when someone does something good for us, we must remember it forever like a message engraved on a stone that nothing can erase”.  Moral: Remember the good things that happen in life, not the bad memories.\n",
      "\n",
      "Word Frequencies:\n",
      "the: 16\n",
      "friend: 9\n",
      "a: 7\n",
      "best: 6\n",
      "in: 6\n",
      "slapped: 6\n",
      "and: 5\n",
      "one: 4\n",
      "who: 4\n",
      "his: 4\n",
      "saved: 4\n",
      "on: 4\n",
      "by: 3\n",
      "of: 3\n",
      "not: 3\n",
      "he: 3\n",
      "wrote: 3\n",
      "my: 3\n",
      "is: 2\n",
      "they: 2\n",
      "hurt: 2\n",
      "sand,: 2\n",
      "“today: 2\n",
      "after: 2\n",
      "started: 2\n",
      "had: 2\n",
      "engraved: 2\n",
      "i: 2\n",
      "you,: 2\n",
      "you: 2\n",
      "we: 2\n",
      "someone: 2\n",
      "for: 2\n",
      "good: 2\n",
      "remember: 2\n",
      "that: 2\n",
      "having: 1\n",
      "shaikh: 1\n",
      "subuhi: 1\n",
      "friendship: 1\n",
      "moral: 1\n",
      "stories: 1\n",
      "english.: 1\n",
      "story: 1\n",
      "about: 1\n",
      "two: 1\n",
      "friends: 1\n",
      "were: 1\n",
      "walking: 1\n",
      "through: 1\n",
      "desert.: 1\n",
      "during: 1\n",
      "journey,: 1\n",
      "argued: 1\n",
      "over: 1\n",
      "something,: 1\n",
      "other.: 1\n",
      "got: 1\n",
      "was: 1\n",
      "this: 1\n",
      "gesture: 1\n",
      "but: 1\n",
      "did: 1\n",
      "react.: 1\n",
      "quietly: 1\n",
      "me.”: 1\n",
      "some: 1\n",
      "time,: 1\n",
      "found: 1\n",
      "an: 1\n",
      "oasis: 1\n",
      "taking: 1\n",
      "bath: 1\n",
      "lake.: 1\n",
      "suddenly,: 1\n",
      "been: 1\n",
      "drowning.: 1\n",
      "then: 1\n",
      "came: 1\n",
      "to: 1\n",
      "rescue: 1\n",
      "him.: 1\n",
      "recovered: 1\n",
      "from: 1\n",
      "drowning,: 1\n",
      "life”: 1\n",
      "stone.: 1\n",
      "earlier: 1\n",
      "later: 1\n",
      "asked,: 1\n",
      "“after: 1\n",
      "now,: 1\n",
      "as: 1\n",
      "write: 1\n",
      "stone,: 1\n",
      "why?”: 1\n",
      "other: 1\n",
      "replied,: 1\n",
      "“i: 1\n",
      "sand: 1\n",
      "because: 1\n",
      "should: 1\n",
      "keep: 1\n",
      "feeling: 1\n",
      "getting: 1\n",
      "long: 1\n",
      "time.: 1\n",
      "but,: 1\n",
      "when: 1\n",
      "does: 1\n",
      "something: 1\n",
      "us,: 1\n",
      "must: 1\n",
      "it: 1\n",
      "forever: 1\n",
      "like: 1\n",
      "message: 1\n",
      "stone: 1\n",
      "nothing: 1\n",
      "can: 1\n",
      "erase”.: 1\n",
      "moral:: 1\n",
      "things: 1\n",
      "happen: 1\n",
      "life,: 1\n",
      "bad: 1\n",
      "memories.: 1\n"
     ]
    }
   ],
   "source": [
    "# Take a string as input and convert it to lowercase, then split it into words\n",
    "stng = input(\"Enter string here: \").lower().split()\n",
    "\n",
    "# Create an empty dictionary to store word frequencies\n",
    "word = {}\n",
    "\n",
    "# Count the frequency of each word in the input\n",
    "for i in stng:\n",
    "    if i in word:\n",
    "        word[i] += 1\n",
    "    else:\n",
    "        word[i] = 1\n",
    "\n",
    "# Sort the dictionary by values in descending order\n",
    "word_sort = dict(sorted(word.items(), key=lambda x: x[1], reverse=True))\n",
    "\n",
    "# Print the word frequencies in a formatted manner\n",
    "print(\"\\nWord Frequencies:\")\n",
    "for k, v in word_sort.items():\n",
    "    print(f\"{k}: {v}\")"
   ]
  },
  {
   "cell_type": "markdown",
   "id": "b05f15de",
   "metadata": {
    "id": "b05f15de"
   },
   "source": [
    "#### 9. Write a program to print the following pattern: "
   ]
  },
  {
   "cell_type": "code",
   "execution_count": null,
   "id": "5113af76",
   "metadata": {
    "colab": {
     "base_uri": "https://localhost:8080/"
    },
    "executionInfo": {
     "elapsed": 547,
     "status": "ok",
     "timestamp": 1676753746046,
     "user": {
      "displayName": "Malathi V",
      "userId": "05981803588813056384"
     },
     "user_tz": -330
    },
    "id": "5113af76",
    "outputId": "c86dd0d3-1a32-4fef-818e-852f636f919a"
   },
   "outputs": [
    {
     "name": "stdout",
     "output_type": "stream",
     "text": [
      "\n"
     ]
    }
   ],
   "source": [
    "'''\n",
    "5 4 3 2 1\n",
    "  4 3 2 1\n",
    "    3 2 1\n",
    "      2 1\n",
    "        1\n",
    "'''\n",
    "print()"
   ]
  },
  {
   "cell_type": "code",
   "execution_count": 117,
   "id": "j7lsHqTI1-ZY",
   "metadata": {
    "id": "j7lsHqTI1-ZY"
   },
   "outputs": [
    {
     "name": "stdout",
     "output_type": "stream",
     "text": [
      "Enter number here: 5\n",
      "5 4 3 2 1 \n",
      "  4 3 2 1 \n",
      "    3 2 1 \n",
      "      2 1 \n",
      "        1 \n"
     ]
    }
   ],
   "source": [
    "num = int(input(\"Enter number here: \"))\n",
    "\n",
    "# Outer loop for the number of rows\n",
    "for i in range(num, 0, -1):\n",
    "    \n",
    "    # Inner loop to add leading spaces\n",
    "    for k in range(num - i):\n",
    "        print(\" \", end=\" \")\n",
    "\n",
    "    # Inner loop to print numbers in descending order\n",
    "    for j in range(i, 0, -1):\n",
    "        print(j, end=\" \")\n",
    "\n",
    "    # Move to the next line after printing numbers in a row\n",
    "    print()"
   ]
  },
  {
   "cell_type": "markdown",
   "id": "279b94c8",
   "metadata": {
    "id": "279b94c8"
   },
   "source": [
    "##### 10. Write a program to print the following pattern:"
   ]
  },
  {
   "cell_type": "code",
   "execution_count": null,
   "id": "af2c05e5",
   "metadata": {
    "colab": {
     "base_uri": "https://localhost:8080/"
    },
    "executionInfo": {
     "elapsed": 513,
     "status": "ok",
     "timestamp": 1676753758009,
     "user": {
      "displayName": "Malathi V",
      "userId": "05981803588813056384"
     },
     "user_tz": -330
    },
    "id": "af2c05e5",
    "outputId": "a05270a6-9f54-461e-a195-d46c556e048d"
   },
   "outputs": [
    {
     "name": "stdout",
     "output_type": "stream",
     "text": [
      "\n"
     ]
    }
   ],
   "source": [
    "'''\n",
    "5 4 3 2 1\n",
    "4 3 2 1\n",
    "3 2 1\n",
    "2 1\n",
    "1\n",
    "'''\n",
    "print()"
   ]
  },
  {
   "cell_type": "code",
   "execution_count": 96,
   "id": "a6502c4f",
   "metadata": {
    "id": "a6502c4f"
   },
   "outputs": [
    {
     "name": "stdout",
     "output_type": "stream",
     "text": [
      "Enter your number here : 5\n",
      "5 4 3 2 1 \n",
      "4 3 2 1 \n",
      "3 2 1 \n",
      "2 1 \n",
      "1 \n"
     ]
    }
   ],
   "source": [
    "num = int(input(\"Enter your number here : \"))\n",
    "\n",
    "# Outer loop for the number of rows\n",
    "for i in range(num, 0, -1):\n",
    "    # Inner loop for printing numbers in each row\n",
    "    for j in range(i, 0, -1):\n",
    "        print(j, end=\" \")\n",
    "    # Move to the next line after printing numbers in a row\n",
    "    print()"
   ]
  }
 ],
 "metadata": {
  "colab": {
   "provenance": []
  },
  "kernelspec": {
   "display_name": "Python 3 (ipykernel)",
   "language": "python",
   "name": "python3"
  },
  "language_info": {
   "codemirror_mode": {
    "name": "ipython",
    "version": 3
   },
   "file_extension": ".py",
   "mimetype": "text/x-python",
   "name": "python",
   "nbconvert_exporter": "python",
   "pygments_lexer": "ipython3",
   "version": "3.11.4"
  }
 },
 "nbformat": 4,
 "nbformat_minor": 5
}
