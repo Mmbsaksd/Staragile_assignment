{
 "cells": [
  {
   "cell_type": "markdown",
   "id": "9acd52dd",
   "metadata": {
    "id": "9acd52dd"
   },
   "source": [
    "# Assessment - 4 Gradable\n",
    "\n",
    "- Each question carries 5 marks\n",
    "- Marks will be assigned in terms of:\n",
    "    \n",
    "    **1. Expected output**\n",
    "    \n",
    "    **2. Quality and Explainability of code**\n",
    "\n",
    "    ***Go back through the script and type a comment above each line explaining in English what it does.***\n",
    "\n",
    "    **3. Copied code, if found, will result in 0 marks for that question. To avoid this make as much comments in the code to explain the approach**"
   ]
  },
  {
   "cell_type": "markdown",
   "id": "1dd6b730",
   "metadata": {
    "id": "1dd6b730"
   },
   "source": [
    "### 1. \n",
    "\n",
    "Write a Python function that prints out the first n rows of Pascal's triangle.\n",
    "\n",
    "- Input : 5\n",
    "- Output: \n",
    "          1\n",
    "         1 1\n",
    "        1 2 1\n",
    "       1 3 3 1\n",
    "      1 4 6 4 1"
   ]
  },
  {
   "cell_type": "code",
   "execution_count": 53,
   "id": "04ae6248",
   "metadata": {
    "id": "04ae6248"
   },
   "outputs": [
    {
     "name": "stdout",
     "output_type": "stream",
     "text": [
      "Enter number of rows of Pascal's triangle: 5\n",
      "       1       \n",
      "      1 1      \n",
      "     1 2 1     \n",
      "    1 3 3 1    \n",
      "   1 4 6 4 1   \n"
     ]
    }
   ],
   "source": [
    "# Get user input for the number of rows\n",
    "num = int(input(\"Enter number of rows of Pascal's triangle: \"))\n",
    "\n",
    "# Initialize an empty list to store rows of Pascal's Triangle\n",
    "triangle = []\n",
    "\n",
    "# Iterate through each row\n",
    "for i in range(num):\n",
    "    # Initialize a new row with '1's\n",
    "    row = [1] * (i + 1)\n",
    "\n",
    "    # Check if it's not one of the first two rows\n",
    "    if i >= 2:\n",
    "        # Update values based on the previous row\n",
    "        for j in range(1, i):\n",
    "            row[j] = triangle[i - 1][j - 1] + triangle[i - 1][j]\n",
    "\n",
    "    # Append the current row to the triangle\n",
    "    triangle.append(row)\n",
    "\n",
    "# Print Pascal's Triangle\n",
    "for row in triangle:\n",
    "    print(\" \".join(map(str, row)).center(len(triangle[-1]) * 3))"
   ]
  },
  {
   "cell_type": "markdown",
   "id": "ffc26930",
   "metadata": {
    "id": "ffc26930"
   },
   "source": [
    "### 2. \n",
    "\n",
    "Write a function to print following pattern by accepting n value from user\n",
    "\n",
    "    1  \n",
    "    2  4  \n",
    "    3  6  9  \n",
    "    4  8  12  16  \n",
    "    5  10  15  20  25  \n",
    "    6  12  18  24  30  36  \n",
    "    7  14  21  28  35  42  49  \n",
    "    8  16  24  32  40  48  56  64 \n",
    "    \n",
    "Hint:\n",
    "- n is 8\n"
   ]
  },
  {
   "cell_type": "code",
   "execution_count": 89,
   "id": "e6067b1e",
   "metadata": {},
   "outputs": [
    {
     "name": "stdout",
     "output_type": "stream",
     "text": [
      "Enter the value of n: 8\n",
      "1 \n",
      "2 4 \n",
      "3 6 9 \n",
      "4 8 12 16 \n",
      "5 10 15 20 25 \n",
      "6 12 18 24 30 36 \n",
      "7 14 21 28 35 42 49 \n",
      "8 16 24 32 40 48 56 64 \n"
     ]
    }
   ],
   "source": [
    "# Get user input for the value of n\n",
    "n = int(input(\"Enter the value of n: \"))\n",
    "\n",
    "# Outer loop for rows\n",
    "for i in range(1, n + 1):\n",
    "    # Inner loop for columns\n",
    "    for j in range(1, i + 1):\n",
    "        # Print the product of i and j with a space as the separator\n",
    "        print(i * j, end=\" \")\n",
    "    \n",
    "    # Move to the next line after printing each row\n",
    "    print()"
   ]
  },
  {
   "cell_type": "markdown",
   "id": "eec7fc6c",
   "metadata": {
    "id": "eec7fc6c"
   },
   "source": [
    "### 3. \n",
    "\n",
    "Write a program to print prime numbers from 1 to 100\n"
   ]
  },
  {
   "cell_type": "code",
   "execution_count": 102,
   "id": "4de40729",
   "metadata": {
    "id": "4de40729"
   },
   "outputs": [
    {
     "name": "stdout",
     "output_type": "stream",
     "text": [
      "Enter your number here : 7\n",
      "7 is a prime number\n"
     ]
    }
   ],
   "source": [
    "num = int(input(\"Enter your number here : \"))\n",
    "if num<=1:\n",
    "    print(\"{} is not a prime number\".format(num))\n",
    "else:\n",
    "    for n in range(2,int(num**0.5)):\n",
    "        if num%n == 0:\n",
    "            print(\"{} is not a prime number\".format(num))\n",
    "            break\n",
    "    else:\n",
    "        print(\"{} is a prime number\".format(num))"
   ]
  },
  {
   "cell_type": "markdown",
   "id": "6739aeef",
   "metadata": {
    "id": "6739aeef"
   },
   "source": [
    "### 4. \n",
    "\n",
    "Write a program to find given number is palindrome or not\n",
    "\n",
    "Hint:\n",
    "- 121 is palindrome\n",
    "- 123 is not palindrome"
   ]
  },
  {
   "cell_type": "code",
   "execution_count": 108,
   "id": "1ec4e63e",
   "metadata": {
    "id": "1ec4e63e"
   },
   "outputs": [
    {
     "name": "stdout",
     "output_type": "stream",
     "text": [
      "Enter the number here : 121\n",
      "121 is palindrome\n"
     ]
    }
   ],
   "source": [
    "# Prompt the user to enter a number\n",
    "num = input(\"Enter the number here : \")\n",
    "\n",
    "# Check if the input number is equal to its reverse\n",
    "if num == num[::-1]:\n",
    "    print(\"{} is palindrome\".format(num))\n",
    "else:\n",
    "    print(\"{} is not palindrome\".format(num))\n"
   ]
  },
  {
   "cell_type": "markdown",
   "id": "af46e819",
   "metadata": {
    "id": "af46e819"
   },
   "source": [
    "### 5.\n",
    "\n",
    "Write a program to iterate the first 10 numbers and in each iteration, print the sum of the current and previous number.\n",
    "\n",
    "- Current Number 0 Previous Number  0  Sum:  0\n",
    "- Current Number 1 Previous Number  0  Sum:  1 and so on"
   ]
  },
  {
   "cell_type": "code",
   "execution_count": 111,
   "id": "830a0664",
   "metadata": {
    "id": "830a0664"
   },
   "outputs": [
    {
     "name": "stdout",
     "output_type": "stream",
     "text": [
      "Enter number here: 10\n",
      "Current Number 0 Previous Number 0 Sum: 0\n",
      "Current Number 1 Previous Number 0 Sum: 1\n",
      "Current Number 2 Previous Number 1 Sum: 3\n",
      "Current Number 3 Previous Number 2 Sum: 6\n",
      "Current Number 4 Previous Number 3 Sum: 10\n",
      "Current Number 5 Previous Number 4 Sum: 15\n",
      "Current Number 6 Previous Number 5 Sum: 21\n",
      "Current Number 7 Previous Number 6 Sum: 28\n",
      "Current Number 8 Previous Number 7 Sum: 36\n",
      "Current Number 9 Previous Number 8 Sum: 45\n"
     ]
    }
   ],
   "source": [
    "# Get user input for the range of numbers\n",
    "num = int(input(\"Enter number here: \"))\n",
    "\n",
    "# Initialize variables to keep track of the previous number and the sum\n",
    "prev = 0\n",
    "sum_n = 0\n",
    "\n",
    "# Iterate through the numbers from 0 to num-1\n",
    "for current_num in range(num):\n",
    "    # Calculate the sum of the current and previous numbers\n",
    "    sum_n += current_num\n",
    "\n",
    "    # Print the result\n",
    "    print(\"Current Number {} Previous Number {} Sum: {}\".format(current_num, prev, sum_n))\n",
    "\n",
    "    # Update the previous number for the next iteration\n",
    "    prev = current_num\n"
   ]
  },
  {
   "cell_type": "code",
   "execution_count": null,
   "id": "45fc09f0",
   "metadata": {},
   "outputs": [],
   "source": []
  }
 ],
 "metadata": {
  "colab": {
   "provenance": []
  },
  "kernelspec": {
   "display_name": "Python 3 (ipykernel)",
   "language": "python",
   "name": "python3"
  },
  "language_info": {
   "codemirror_mode": {
    "name": "ipython",
    "version": 3
   },
   "file_extension": ".py",
   "mimetype": "text/x-python",
   "name": "python",
   "nbconvert_exporter": "python",
   "pygments_lexer": "ipython3",
   "version": "3.11.4"
  }
 },
 "nbformat": 4,
 "nbformat_minor": 5
}
